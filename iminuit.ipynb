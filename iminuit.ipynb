{
 "cells": [
  {
   "cell_type": "markdown",
   "metadata": {},
   "source": [
    "# iminuit: fitting models to data\n",
    "\n",
    "**Hans Dembinski** | TU Dortmund\n",
    "\n",
    "**PyPI** https://pypi.org/project/iminuit\n",
    "\n",
    "**Source** https://github.com/scikit-hep/iminuit\n",
    "\n",
    "**Documentation** http://iminuit.readthedocs.org\n",
    "\n",
    "**Latest release** v2.16.0\n",
    "\n",
    "![](https://github.com/scikit-hep/iminuit/blob/develop/doc/_static/iminuit_logo.svg)"
   ]
  },
  {
   "cell_type": "markdown",
   "metadata": {},
   "source": [
    "## Introduction\n",
    "\n",
    "### iminuit is (not only) a frontend to the Minuit2 C++ library\n",
    "\n",
    "- Minimize statistical cost functions with box constraints\n",
    "- Compute **parameter uncertainties** under these constraints (unique)\n",
    "- Robust technology from 1975 that stood the tests of time\n",
    "- Minuit or Minuit2 are behind virtually every HEP analysis\n",
    "- iminuit is Python frontend to Minuit2 C++ code in ROOT\n",
    "    - iminuit contributed several patches to Minuit2 C++\n",
    "    - For history of Minuit and iminuit, see [PyHEP 2020 talk](https://github.com/hdembinski/pyhep-2020-iminuit)\n",
    "- Used as backend by many HEP/astroparticle fitting packages (zfit, pyhf, gammapy, ctapipe, ...)\n",
    "- Common **cost functions** have been added to the library"
   ]
  },
  {
   "cell_type": "markdown",
   "metadata": {},
   "source": [
    "### iminuit or pyhf or zfit?\n",
    "\n",
    "- iminuit is low-level, lightweight, hackable, easy to learn, easy to extend\n",
    "- Supports all kinds of fits: unbinned and binned, templates, penalized, simultaneous\n",
    "- Simplicity is useful for teaching, attractive for beginners and experts\n",
    "    - [Glen Cowan](https://inspirehep.net/literature?sort=mostrecent&size=25&page=1&q=f%20a%20g%20cowan%20and%20ac%20%3C%2010) is using iminuit in lectures on statistics\n",
    "- Out of scope\n",
    "    - Building statistical models: you need to write the pdf/cdf by hand\n",
    "    - Automatic differentiation of model\n",
    "    - Making sophisticated limits\n",
    "    - Storing likelihoods\n",
    "- Where the other fitting tools shine\n",
    "    - [pyhf](https://github.com/scikit-hep/pyhf): Complex binned fits a la HistFactory, limit setting, storing the likelihood\n",
    "    - [zfit](https://github.com/zfit/zfit): Building statistical models, easy sampling from fitted model"
   ]
  },
  {
   "cell_type": "markdown",
   "metadata": {},
   "source": [
    "## A simple line fit"
   ]
  },
  {
   "cell_type": "code",
   "execution_count": 209,
   "metadata": {},
   "outputs": [
    {
     "data": {
      "image/png": "[encoded data removed]",
      "text/plain": [
       "<Figure size 432x288 with 1 Axes>"
      ]
     },
     "metadata": {
      "needs_background": "light"
     },
     "output_type": "display_data"
    }
   ],
   "source": [
    "import numpy as np\n",
    "from matplotlib import pyplot as plt\n",
    "from argparse import Namespace\n",
    "\n",
    "# make 10 data points with scatter on y-coordinate\n",
    "\n",
    "rng = np.random.default_rng(1)\n",
    "\n",
    "x = np.linspace(0, 1, 10)\n",
    "ye = np.ones_like(x) * 0.2\n",
    "y = rng.normal(2 * x + 1, ye)\n",
    "\n",
    "data = Namespace(x=x, y=y, ye=ye)\n",
    "\n",
    "# draw that\n",
    "\n",
    "plt.errorbar(data.x, data.y, data.ye, fmt=\"o\")\n",
    "plt.xlabel(\"x\")\n",
    "plt.ylabel(\"y\");"
   ]
  },
  {
   "cell_type": "markdown",
   "metadata": {},
   "source": [
    "To get parameters of the line:\n",
    "\n",
    "- Need to provide **model** and **cost function**\n",
    "- Model predicts $y = f(x; \\vec p)$ for some parameters $\\vec p$\n",
    "- Cost function computes some \"distance\" between model and observations"
   ]
  },
  {
   "cell_type": "markdown",
   "metadata": {},
   "source": [
    "- No need to write cost function, `iminuit.cost` contains all common ones\n",
    "- Model can be any vectorized Python function"
   ]
  },
  {
   "cell_type": "code",
   "execution_count": 210,
   "metadata": {},
   "outputs": [
    {
     "data": {
      "text/html": [
       "<table>\n",
       "    <tr>\n",
       "        <td></td>\n",
       "        <th title=\"Variable name\"> Name </th>\n",
       "        <th title=\"Value of parameter\"> Value </th>\n",
       "        <th title=\"Hesse error\"> Hesse Error </th>\n",
       "        <th title=\"Minos lower error\"> Minos Error- </th>\n",
       "        <th title=\"Minos upper error\"> Minos Error+ </th>\n",
       "        <th title=\"Lower limit of the parameter\"> Limit- </th>\n",
       "        <th title=\"Upper limit of the parameter\"> Limit+ </th>\n",
       "        <th title=\"Is the parameter fixed in the fit\"> Fixed </th>\n",
       "    </tr>\n",
       "    <tr>\n",
       "        <th> 0 </th>\n",
       "        <td> a </td>\n",
       "        <td> 0.0 </td>\n",
       "        <td> 0.1 </td>\n",
       "        <td>  </td>\n",
       "        <td>  </td>\n",
       "        <td>  </td>\n",
       "        <td>  </td>\n",
       "        <td>  </td>\n",
       "    </tr>\n",
       "    <tr>\n",
       "        <th> 1 </th>\n",
       "        <td> b </td>\n",
       "        <td> 0.0 </td>\n",
       "        <td> 0.1 </td>\n",
       "        <td>  </td>\n",
       "        <td>  </td>\n",
       "        <td>  </td>\n",
       "        <td>  </td>\n",
       "        <td>  </td>\n",
       "    </tr>\n",
       "</table>"
      ],
      "text/plain": [
       "┌───┬──────┬───────────┬───────────┬────────────┬────────────┬─────────┬─────────┬───────┐\n",
       "│   │ Name │   Value   │ Hesse Err │ Minos Err- │ Minos Err+ │ Limit-  │ Limit+  │ Fixed │\n",
       "├───┼──────┼───────────┼───────────┼────────────┼────────────┼─────────┼─────────┼───────┤\n",
       "│ 0 │ a    │    0.0    │    0.1    │            │            │         │         │       │\n",
       "│ 1 │ b    │    0.0    │    0.1    │            │            │         │         │       │\n",
       "└───┴──────┴───────────┴───────────┴────────────┴────────────┴─────────┴─────────┴───────┘"
      ]
     },
     "execution_count": 210,
     "metadata": {},
     "output_type": "execute_result"
    }
   ],
   "source": [
    "from iminuit import Minuit, cost\n",
    "\n",
    "# line model\n",
    "def model(x, a, b):\n",
    "    return a + b * x\n",
    "\n",
    "# see docs for iminuit.cost to pick correct cost function\n",
    "lsq = cost.LeastSquares(data.x, data.y, data.ye, model)\n",
    "\n",
    "# - initialize Minuit object by passing cost function\n",
    "# - Minuit uses a local minimizer, we need to set starting values\n",
    "m = Minuit(lsq, a=0, b=0)\n",
    "m"
   ]
  },
  {
   "cell_type": "markdown",
   "metadata": {},
   "source": [
    "- iminuit detected that `lsq` has parameters named `a` and `b`\n",
    "- `Minuit`: stateful fitting object\n",
    "  - Represents current state of fit\n",
    "  - Central object to interact with fitting process"
   ]
  },
  {
   "cell_type": "code",
   "execution_count": 211,
   "metadata": {},
   "outputs": [
    {
     "data": {
      "text/html": [
       "<table>\n",
       "    <tr>\n",
       "        <th colspan=\"5\" style=\"text-align:center\" title=\"Minimizer\"> Migrad </th>\n",
       "    </tr>\n",
       "    <tr>\n",
       "        <td colspan=\"2\" style=\"text-align:left\" title=\"Minimum value of function\"> FCN = 3.959 (chi2/ndof = 0.5) </td>\n",
       "        <td colspan=\"3\" style=\"text-align:center\" title=\"Total number of function and (optional) gradient evaluations\"> Nfcn = 34 </td>\n",
       "    </tr>\n",
       "    <tr>\n",
       "        <td colspan=\"2\" style=\"text-align:left\" title=\"Estimated distance to minimum and goal\"> EDM = 2.65e-23 (Goal: 0.0002) </td>\n",
       "        <td colspan=\"3\" style=\"text-align:center\" title=\"Total run time of algorithms\">  </td>\n",
       "    </tr>\n",
       "    <tr>\n",
       "        <td colspan=\"2\" style=\"text-align:center;background-color:#92CCA6;color:black\"> Valid Minimum </td>\n",
       "        <td colspan=\"3\" style=\"text-align:center;background-color:#92CCA6;color:black\"> No Parameters at limit </td>\n",
       "    </tr>\n",
       "    <tr>\n",
       "        <td colspan=\"2\" style=\"text-align:center;background-color:#92CCA6;color:black\"> Below EDM threshold (goal x 10) </td>\n",
       "        <td colspan=\"3\" style=\"text-align:center;background-color:#92CCA6;color:black\"> Below call limit </td>\n",
       "    </tr>\n",
       "    <tr>\n",
       "        <td style=\"text-align:center;background-color:#92CCA6;color:black\"> Covariance </td>\n",
       "        <td style=\"text-align:center;background-color:#92CCA6;color:black\"> Hesse ok </td>\n",
       "        <td style=\"text-align:center;background-color:#92CCA6;color:black\" title=\"Is covariance matrix accurate?\"> Accurate </td>\n",
       "        <td style=\"text-align:center;background-color:#92CCA6;color:black\" title=\"Is covariance matrix positive definite?\"> Pos. def. </td>\n",
       "        <td style=\"text-align:center;background-color:#92CCA6;color:black\" title=\"Was positive definiteness enforced by Minuit?\"> Not forced </td>\n",
       "    </tr>\n",
       "</table><table>\n",
       "    <tr>\n",
       "        <td></td>\n",
       "        <th title=\"Variable name\"> Name </th>\n",
       "        <th title=\"Value of parameter\"> Value </th>\n",
       "        <th title=\"Hesse error\"> Hesse Error </th>\n",
       "        <th title=\"Minos lower error\"> Minos Error- </th>\n",
       "        <th title=\"Minos upper error\"> Minos Error+ </th>\n",
       "        <th title=\"Lower limit of the parameter\"> Limit- </th>\n",
       "        <th title=\"Upper limit of the parameter\"> Limit+ </th>\n",
       "        <th title=\"Is the parameter fixed in the fit\"> Fixed </th>\n",
       "    </tr>\n",
       "    <tr>\n",
       "        <th> 0 </th>\n",
       "        <td> a </td>\n",
       "        <td> 1.05 </td>\n",
       "        <td> 0.12 </td>\n",
       "        <td>  </td>\n",
       "        <td>  </td>\n",
       "        <td>  </td>\n",
       "        <td>  </td>\n",
       "        <td>  </td>\n",
       "    </tr>\n",
       "    <tr>\n",
       "        <th> 1 </th>\n",
       "        <td> b </td>\n",
       "        <td> 1.99 </td>\n",
       "        <td> 0.20 </td>\n",
       "        <td>  </td>\n",
       "        <td>  </td>\n",
       "        <td>  </td>\n",
       "        <td>  </td>\n",
       "        <td>  </td>\n",
       "    </tr>\n",
       "</table><table>\n",
       "    <tr>\n",
       "        <td></td>\n",
       "        <th> a </th>\n",
       "        <th> b </th>\n",
       "    </tr>\n",
       "    <tr>\n",
       "        <th> a </th>\n",
       "        <td> 0.0138 </td>\n",
       "        <td style=\"background-color:rgb(140,140,250);color:black\"> -0.0196 <strong>(-0.843)</strong> </td>\n",
       "    </tr>\n",
       "    <tr>\n",
       "        <th> b </th>\n",
       "        <td style=\"background-color:rgb(140,140,250);color:black\"> -0.0196 <strong>(-0.843)</strong> </td>\n",
       "        <td> 0.0393 </td>\n",
       "    </tr>\n",
       "</table>"
      ],
      "text/plain": [
       "┌─────────────────────────────────────────────────────────────────────────┐\n",
       "│                                Migrad                                   │\n",
       "├──────────────────────────────────┬──────────────────────────────────────┤\n",
       "│ FCN = 3.959 (chi2/ndof = 0.5)    │              Nfcn = 34               │\n",
       "│ EDM = 2.65e-23 (Goal: 0.0002)    │                                      │\n",
       "├──────────────────────────────────┼──────────────────────────────────────┤\n",
       "│          Valid Minimum           │        No Parameters at limit        │\n",
       "├──────────────────────────────────┼──────────────────────────────────────┤\n",
       "│ Below EDM threshold (goal x 10)  │           Below call limit           │\n",
       "├───────────────┬──────────────────┼───────────┬─────────────┬────────────┤\n",
       "│  Covariance   │     Hesse ok     │ Accurate  │  Pos. def.  │ Not forced │\n",
       "└───────────────┴──────────────────┴───────────┴─────────────┴────────────┘\n",
       "┌───┬──────┬───────────┬───────────┬────────────┬────────────┬─────────┬─────────┬───────┐\n",
       "│   │ Name │   Value   │ Hesse Err │ Minos Err- │ Minos Err+ │ Limit-  │ Limit+  │ Fixed │\n",
       "├───┼──────┼───────────┼───────────┼────────────┼────────────┼─────────┼─────────┼───────┤\n",
       "│ 0 │ a    │   1.05    │   0.12    │            │            │         │         │       │\n",
       "│ 1 │ b    │   1.99    │   0.20    │            │            │         │         │       │\n",
       "└───┴──────┴───────────┴───────────┴────────────┴────────────┴─────────┴─────────┴───────┘\n",
       "┌───┬─────────────────┐\n",
       "│   │       a       b │\n",
       "├───┼─────────────────┤\n",
       "│ a │  0.0138 -0.0196 │\n",
       "│ b │ -0.0196  0.0393 │\n",
       "└───┴─────────────────┘"
      ]
     },
     "execution_count": 211,
     "metadata": {},
     "output_type": "execute_result"
    }
   ],
   "source": [
    "# call Migrad minimizer (for other options, see docs)\n",
    "m.migrad()"
   ]
  },
  {
   "cell_type": "markdown",
   "metadata": {},
   "source": [
    "- Printed values and errors are rounded to **PDG rounding rules**\n",
    "- *Hesse error*: standard symmetric error estimate (based on asymptotic theory)\n",
    "- *Minos error*: standard asymmetric error estimate (based on likelihood profiling)\n",
    "- *EDM*: estimated distance to minimum, must be smaller than \"Goal\"; shows that Migrad converged\n",
    "- *Nfcn*: How many function calls were used by Migrad\n",
    "- *Pos. def.*: Hessian matrix (matrix of second derivatives) is positive definite; must be for valid minimum\n",
    "- *chi2/ndof*: Computed at no additional cost whenever possible if iminuit's cost functions are used\n",
    "\n",
    "See docs for more details on Hesse, Minos, EDM.\n",
    "\n",
    "Output by parts:"
   ]
  },
  {
   "cell_type": "code",
   "execution_count": 212,
   "metadata": {},
   "outputs": [
    {
     "data": {
      "text/html": [
       "<table>\n",
       "    <tr>\n",
       "        <td></td>\n",
       "        <th title=\"Variable name\"> Name </th>\n",
       "        <th title=\"Value of parameter\"> Value </th>\n",
       "        <th title=\"Hesse error\"> Hesse Error </th>\n",
       "        <th title=\"Minos lower error\"> Minos Error- </th>\n",
       "        <th title=\"Minos upper error\"> Minos Error+ </th>\n",
       "        <th title=\"Lower limit of the parameter\"> Limit- </th>\n",
       "        <th title=\"Upper limit of the parameter\"> Limit+ </th>\n",
       "        <th title=\"Is the parameter fixed in the fit\"> Fixed </th>\n",
       "    </tr>\n",
       "    <tr>\n",
       "        <th> 0 </th>\n",
       "        <td> a </td>\n",
       "        <td> 1.05 </td>\n",
       "        <td> 0.12 </td>\n",
       "        <td>  </td>\n",
       "        <td>  </td>\n",
       "        <td>  </td>\n",
       "        <td>  </td>\n",
       "        <td>  </td>\n",
       "    </tr>\n",
       "    <tr>\n",
       "        <th> 1 </th>\n",
       "        <td> b </td>\n",
       "        <td> 1.99 </td>\n",
       "        <td> 0.20 </td>\n",
       "        <td>  </td>\n",
       "        <td>  </td>\n",
       "        <td>  </td>\n",
       "        <td>  </td>\n",
       "        <td>  </td>\n",
       "    </tr>\n",
       "</table>"
      ],
      "text/plain": [
       "┌───┬──────┬───────────┬───────────┬────────────┬────────────┬─────────┬─────────┬───────┐\n",
       "│   │ Name │   Value   │ Hesse Err │ Minos Err- │ Minos Err+ │ Limit-  │ Limit+  │ Fixed │\n",
       "├───┼──────┼───────────┼───────────┼────────────┼────────────┼─────────┼─────────┼───────┤\n",
       "│ 0 │ a    │   1.05    │   0.12    │            │            │         │         │       │\n",
       "│ 1 │ b    │   1.99    │   0.20    │            │            │         │         │       │\n",
       "└───┴──────┴───────────┴───────────┴────────────┴────────────┴─────────┴─────────┴───────┘"
      ]
     },
     "execution_count": 212,
     "metadata": {},
     "output_type": "execute_result"
    }
   ],
   "source": [
    "m.params"
   ]
  },
  {
   "cell_type": "code",
   "execution_count": 213,
   "metadata": {},
   "outputs": [
    {
     "data": {
      "text/html": [
       "<table>\n",
       "    <tr>\n",
       "        <th colspan=\"5\" style=\"text-align:center\" title=\"Minimizer\"> Migrad </th>\n",
       "    </tr>\n",
       "    <tr>\n",
       "        <td colspan=\"2\" style=\"text-align:left\" title=\"Minimum value of function\"> FCN = 3.959 (chi2/ndof = 0.5) </td>\n",
       "        <td colspan=\"3\" style=\"text-align:center\" title=\"Total number of function and (optional) gradient evaluations\"> Nfcn = 34 </td>\n",
       "    </tr>\n",
       "    <tr>\n",
       "        <td colspan=\"2\" style=\"text-align:left\" title=\"Estimated distance to minimum and goal\"> EDM = 2.65e-23 (Goal: 0.0002) </td>\n",
       "        <td colspan=\"3\" style=\"text-align:center\" title=\"Total run time of algorithms\">  </td>\n",
       "    </tr>\n",
       "    <tr>\n",
       "        <td colspan=\"2\" style=\"text-align:center;background-color:#92CCA6;color:black\"> Valid Minimum </td>\n",
       "        <td colspan=\"3\" style=\"text-align:center;background-color:#92CCA6;color:black\"> No Parameters at limit </td>\n",
       "    </tr>\n",
       "    <tr>\n",
       "        <td colspan=\"2\" style=\"text-align:center;background-color:#92CCA6;color:black\"> Below EDM threshold (goal x 10) </td>\n",
       "        <td colspan=\"3\" style=\"text-align:center;background-color:#92CCA6;color:black\"> Below call limit </td>\n",
       "    </tr>\n",
       "    <tr>\n",
       "        <td style=\"text-align:center;background-color:#92CCA6;color:black\"> Covariance </td>\n",
       "        <td style=\"text-align:center;background-color:#92CCA6;color:black\"> Hesse ok </td>\n",
       "        <td style=\"text-align:center;background-color:#92CCA6;color:black\" title=\"Is covariance matrix accurate?\"> Accurate </td>\n",
       "        <td style=\"text-align:center;background-color:#92CCA6;color:black\" title=\"Is covariance matrix positive definite?\"> Pos. def. </td>\n",
       "        <td style=\"text-align:center;background-color:#92CCA6;color:black\" title=\"Was positive definiteness enforced by Minuit?\"> Not forced </td>\n",
       "    </tr>\n",
       "</table>"
      ],
      "text/plain": [
       "┌─────────────────────────────────────────────────────────────────────────┐\n",
       "│                                Migrad                                   │\n",
       "├──────────────────────────────────┬──────────────────────────────────────┤\n",
       "│ FCN = 3.959 (chi2/ndof = 0.5)    │              Nfcn = 34               │\n",
       "│ EDM = 2.65e-23 (Goal: 0.0002)    │                                      │\n",
       "├──────────────────────────────────┼──────────────────────────────────────┤\n",
       "│          Valid Minimum           │        No Parameters at limit        │\n",
       "├──────────────────────────────────┼──────────────────────────────────────┤\n",
       "│ Below EDM threshold (goal x 10)  │           Below call limit           │\n",
       "├───────────────┬──────────────────┼───────────┬─────────────┬────────────┤\n",
       "│  Covariance   │     Hesse ok     │ Accurate  │  Pos. def.  │ Not forced │\n",
       "└───────────────┴──────────────────┴───────────┴─────────────┴────────────┘"
      ]
     },
     "execution_count": 213,
     "metadata": {},
     "output_type": "execute_result"
    }
   ],
   "source": [
    "m.fmin"
   ]
  },
  {
   "cell_type": "code",
   "execution_count": 214,
   "metadata": {},
   "outputs": [
    {
     "data": {
      "text/html": [
       "<table>\n",
       "    <tr>\n",
       "        <td></td>\n",
       "        <th> a </th>\n",
       "        <th> b </th>\n",
       "    </tr>\n",
       "    <tr>\n",
       "        <th> a </th>\n",
       "        <td> 0.0138 </td>\n",
       "        <td style=\"background-color:rgb(140,140,250);color:black\"> -0.0196 <strong>(-0.843)</strong> </td>\n",
       "    </tr>\n",
       "    <tr>\n",
       "        <th> b </th>\n",
       "        <td style=\"background-color:rgb(140,140,250);color:black\"> -0.0196 <strong>(-0.843)</strong> </td>\n",
       "        <td> 0.0393 </td>\n",
       "    </tr>\n",
       "</table>"
      ],
      "text/plain": [
       "┌───┬─────────────────┐\n",
       "│   │       a       b │\n",
       "├───┼─────────────────┤\n",
       "│ a │  0.0138 -0.0196 │\n",
       "│ b │ -0.0196  0.0393 │\n",
       "└───┴─────────────────┘"
      ]
     },
     "execution_count": 214,
     "metadata": {},
     "output_type": "execute_result"
    }
   ],
   "source": [
    "m.covariance"
   ]
  },
  {
   "cell_type": "code",
   "execution_count": 215,
   "metadata": {},
   "outputs": [
    {
     "data": {
      "text/html": [
       "<table>\n",
       "    <tr>\n",
       "        <th colspan=\"5\" style=\"text-align:center\" title=\"Minimizer\"> Migrad </th>\n",
       "    </tr>\n",
       "    <tr>\n",
       "        <td colspan=\"2\" style=\"text-align:left\" title=\"Minimum value of function\"> FCN = 3.959 (chi2/ndof = 0.5) </td>\n",
       "        <td colspan=\"3\" style=\"text-align:center\" title=\"Total number of function and (optional) gradient evaluations\"> Nfcn = 60 </td>\n",
       "    </tr>\n",
       "    <tr>\n",
       "        <td colspan=\"2\" style=\"text-align:left\" title=\"Estimated distance to minimum and goal\"> EDM = 2.65e-23 (Goal: 0.0002) </td>\n",
       "        <td colspan=\"3\" style=\"text-align:center\" title=\"Total run time of algorithms\">  </td>\n",
       "    </tr>\n",
       "    <tr>\n",
       "        <td colspan=\"2\" style=\"text-align:center;background-color:#92CCA6;color:black\"> Valid Minimum </td>\n",
       "        <td colspan=\"3\" style=\"text-align:center;background-color:#92CCA6;color:black\"> No Parameters at limit </td>\n",
       "    </tr>\n",
       "    <tr>\n",
       "        <td colspan=\"2\" style=\"text-align:center;background-color:#92CCA6;color:black\"> Below EDM threshold (goal x 10) </td>\n",
       "        <td colspan=\"3\" style=\"text-align:center;background-color:#92CCA6;color:black\"> Below call limit </td>\n",
       "    </tr>\n",
       "    <tr>\n",
       "        <td style=\"text-align:center;background-color:#92CCA6;color:black\"> Covariance </td>\n",
       "        <td style=\"text-align:center;background-color:#92CCA6;color:black\"> Hesse ok </td>\n",
       "        <td style=\"text-align:center;background-color:#92CCA6;color:black\" title=\"Is covariance matrix accurate?\"> Accurate </td>\n",
       "        <td style=\"text-align:center;background-color:#92CCA6;color:black\" title=\"Is covariance matrix positive definite?\"> Pos. def. </td>\n",
       "        <td style=\"text-align:center;background-color:#92CCA6;color:black\" title=\"Was positive definiteness enforced by Minuit?\"> Not forced </td>\n",
       "    </tr>\n",
       "</table><table>\n",
       "    <tr>\n",
       "        <td></td>\n",
       "        <th title=\"Variable name\"> Name </th>\n",
       "        <th title=\"Value of parameter\"> Value </th>\n",
       "        <th title=\"Hesse error\"> Hesse Error </th>\n",
       "        <th title=\"Minos lower error\"> Minos Error- </th>\n",
       "        <th title=\"Minos upper error\"> Minos Error+ </th>\n",
       "        <th title=\"Lower limit of the parameter\"> Limit- </th>\n",
       "        <th title=\"Upper limit of the parameter\"> Limit+ </th>\n",
       "        <th title=\"Is the parameter fixed in the fit\"> Fixed </th>\n",
       "    </tr>\n",
       "    <tr>\n",
       "        <th> 0 </th>\n",
       "        <td> a </td>\n",
       "        <td> 1.05 </td>\n",
       "        <td> 0.12 </td>\n",
       "        <td> -0.12 </td>\n",
       "        <td> 0.12 </td>\n",
       "        <td>  </td>\n",
       "        <td>  </td>\n",
       "        <td>  </td>\n",
       "    </tr>\n",
       "    <tr>\n",
       "        <th> 1 </th>\n",
       "        <td> b </td>\n",
       "        <td> 1.99 </td>\n",
       "        <td> 0.20 </td>\n",
       "        <td> -0.20 </td>\n",
       "        <td> 0.20 </td>\n",
       "        <td>  </td>\n",
       "        <td>  </td>\n",
       "        <td>  </td>\n",
       "    </tr>\n",
       "</table><table>\n",
       "    <tr>\n",
       "        <td></td>\n",
       "        <th colspan=\"2\" style=\"text-align:center\" title=\"Parameter name\"> a </th>\n",
       "        <th colspan=\"2\" style=\"text-align:center\" title=\"Parameter name\"> b </th>\n",
       "    </tr>\n",
       "    <tr>\n",
       "        <th title=\"Lower and upper minos error of the parameter\"> Error </th>\n",
       "        <td> -0.12 </td>\n",
       "        <td> 0.12 </td>\n",
       "        <td> -0.2 </td>\n",
       "        <td> 0.2 </td>\n",
       "    </tr>\n",
       "    <tr>\n",
       "        <th title=\"Validity of lower/upper minos error\"> Valid </th>\n",
       "        <td style=\"background-color:#92CCA6;color:black\"> True </td>\n",
       "        <td style=\"background-color:#92CCA6;color:black\"> True </td>\n",
       "        <td style=\"background-color:#92CCA6;color:black\"> True </td>\n",
       "        <td style=\"background-color:#92CCA6;color:black\"> True </td>\n",
       "    </tr>\n",
       "    <tr>\n",
       "        <th title=\"Did scan hit limit of any parameter?\"> At Limit </th>\n",
       "        <td style=\"background-color:#92CCA6;color:black\"> False </td>\n",
       "        <td style=\"background-color:#92CCA6;color:black\"> False </td>\n",
       "        <td style=\"background-color:#92CCA6;color:black\"> False </td>\n",
       "        <td style=\"background-color:#92CCA6;color:black\"> False </td>\n",
       "    </tr>\n",
       "    <tr>\n",
       "        <th title=\"Did scan hit function call limit?\"> Max FCN </th>\n",
       "        <td style=\"background-color:#92CCA6;color:black\"> False </td>\n",
       "        <td style=\"background-color:#92CCA6;color:black\"> False </td>\n",
       "        <td style=\"background-color:#92CCA6;color:black\"> False </td>\n",
       "        <td style=\"background-color:#92CCA6;color:black\"> False </td>\n",
       "    </tr>\n",
       "    <tr>\n",
       "        <th title=\"New minimum found when doing scan?\"> New Min </th>\n",
       "        <td style=\"background-color:#92CCA6;color:black\"> False </td>\n",
       "        <td style=\"background-color:#92CCA6;color:black\"> False </td>\n",
       "        <td style=\"background-color:#92CCA6;color:black\"> False </td>\n",
       "        <td style=\"background-color:#92CCA6;color:black\"> False </td>\n",
       "    </tr>\n",
       "</table><table>\n",
       "    <tr>\n",
       "        <td></td>\n",
       "        <th> a </th>\n",
       "        <th> b </th>\n",
       "    </tr>\n",
       "    <tr>\n",
       "        <th> a </th>\n",
       "        <td> 0.0138 </td>\n",
       "        <td style=\"background-color:rgb(140,140,250);color:black\"> -0.0196 <strong>(-0.843)</strong> </td>\n",
       "    </tr>\n",
       "    <tr>\n",
       "        <th> b </th>\n",
       "        <td style=\"background-color:rgb(140,140,250);color:black\"> -0.0196 <strong>(-0.843)</strong> </td>\n",
       "        <td> 0.0393 </td>\n",
       "    </tr>\n",
       "</table>"
      ],
      "text/plain": [
       "┌─────────────────────────────────────────────────────────────────────────┐\n",
       "│                                Migrad                                   │\n",
       "├──────────────────────────────────┬──────────────────────────────────────┤\n",
       "│ FCN = 3.959 (chi2/ndof = 0.5)    │              Nfcn = 60               │\n",
       "│ EDM = 2.65e-23 (Goal: 0.0002)    │                                      │\n",
       "├──────────────────────────────────┼──────────────────────────────────────┤\n",
       "│          Valid Minimum           │        No Parameters at limit        │\n",
       "├──────────────────────────────────┼──────────────────────────────────────┤\n",
       "│ Below EDM threshold (goal x 10)  │           Below call limit           │\n",
       "├───────────────┬──────────────────┼───────────┬─────────────┬────────────┤\n",
       "│  Covariance   │     Hesse ok     │ Accurate  │  Pos. def.  │ Not forced │\n",
       "└───────────────┴──────────────────┴───────────┴─────────────┴────────────┘\n",
       "┌───┬──────┬───────────┬───────────┬────────────┬────────────┬─────────┬─────────┬───────┐\n",
       "│   │ Name │   Value   │ Hesse Err │ Minos Err- │ Minos Err+ │ Limit-  │ Limit+  │ Fixed │\n",
       "├───┼──────┼───────────┼───────────┼────────────┼────────────┼─────────┼─────────┼───────┤\n",
       "│ 0 │ a    │   1.05    │   0.12    │   -0.12    │    0.12    │         │         │       │\n",
       "│ 1 │ b    │   1.99    │   0.20    │   -0.20    │    0.20    │         │         │       │\n",
       "└───┴──────┴───────────┴───────────┴────────────┴────────────┴─────────┴─────────┴───────┘\n",
       "┌──────────┬───────────────────────┬───────────────────────┐\n",
       "│          │           a           │           b           │\n",
       "├──────────┼───────────┬───────────┼───────────┬───────────┤\n",
       "│  Error   │   -0.12   │   0.12    │   -0.2    │    0.2    │\n",
       "│  Valid   │   True    │   True    │   True    │   True    │\n",
       "│ At Limit │   False   │   False   │   False   │   False   │\n",
       "│ Max FCN  │   False   │   False   │   False   │   False   │\n",
       "│ New Min  │   False   │   False   │   False   │   False   │\n",
       "└──────────┴───────────┴───────────┴───────────┴───────────┘\n",
       "┌───┬─────────────────┐\n",
       "│   │       a       b │\n",
       "├───┼─────────────────┤\n",
       "│ a │  0.0138 -0.0196 │\n",
       "│ b │ -0.0196  0.0393 │\n",
       "└───┴─────────────────┘"
      ]
     },
     "execution_count": 215,
     "metadata": {},
     "output_type": "execute_result"
    }
   ],
   "source": [
    "# Minos Errors are not automatically computed, you need to run *Minos* explicitly\n",
    "m.minos()"
   ]
  },
  {
   "cell_type": "markdown",
   "metadata": {},
   "source": [
    "- Hesse and Minos errors identical in this case, because asymptotic theory is correct here\n",
    "- Prefer reporting Hesse errors unless Minos errors differ a lot"
   ]
  },
  {
   "cell_type": "code",
   "execution_count": 216,
   "metadata": {},
   "outputs": [
    {
     "data": {
      "text/plain": [
       "('a', True, -0.11755076272896135, 0.11755076272914197)"
      ]
     },
     "execution_count": 216,
     "metadata": {},
     "output_type": "execute_result"
    }
   ],
   "source": [
    "# Minos errors can be read-out like this\n",
    "\n",
    "me = m.merrors[\"a\"] # returns a data struct with many fields\n",
    "\n",
    "me.name, me.is_valid, me.lower, me.upper"
   ]
  },
  {
   "cell_type": "code",
   "execution_count": 217,
   "metadata": {},
   "outputs": [
    {
     "data": {
      "image/png": "[encoded data removed]",
      "text/plain": [
       "<Figure size 432x288 with 1 Axes>"
      ]
     },
     "metadata": {
      "needs_background": "light"
     },
     "output_type": "display_data"
    }
   ],
   "source": [
    "# draw data and fitted model\n",
    "\n",
    "plt.errorbar(data.x, data.y, data.ye, fmt=\"o\", label=\"data\")\n",
    "plt.plot(data.x, model(data.x, *m.values[:]), label=\"model\")\n",
    "\n",
    "# m.fval is only chi2 if cost function supports that\n",
    "# telltale sign: m.ndof returns something finite and not None\n",
    "chi2 = m.fval\n",
    "ndof = m.ndof\n",
    "\n",
    "title = [\n",
    "    f\"χ²/ndof = {chi2:.1f}/{ndof} = {chi2/ndof:.1f}\",\n",
    "]\n",
    "for par in m.parameters:\n",
    "    title.append(\n",
    "        f\"{par} = {m.values[par]:.2f} +/- {m.errors[par]:.2f}\"\n",
    "    )\n",
    "\n",
    "plt.legend(title=\"\\n\".join(title))\n",
    "plt.xlabel(\"x\")\n",
    "plt.ylabel(\"y\");"
   ]
  },
  {
   "cell_type": "code",
   "execution_count": 218,
   "metadata": {},
   "outputs": [
    {
     "data": {
      "image/png": "[encoded data removed]",
      "text/plain": [
       "<Figure size 432x288 with 1 Axes>"
      ]
     },
     "metadata": {
      "needs_background": "light"
     },
     "output_type": "display_data"
    }
   ],
   "source": [
    "# or use builtin visualization (only for 1D data)\n",
    "lsq.visualize(m.values)"
   ]
  },
  {
   "cell_type": "markdown",
   "metadata": {},
   "source": [
    "* Simple plotting of cost function around minimum is provided\n",
    "* Useful for debugging, if fit fails or looks fishy (we will see examples later)"
   ]
  },
  {
   "cell_type": "code",
   "execution_count": 219,
   "metadata": {},
   "outputs": [
    {
     "data": {
      "image/png": "[encoded data removed]",
      "text/plain": [
       "<Figure size 432x288 with 1 Axes>"
      ]
     },
     "metadata": {
      "needs_background": "light"
     },
     "output_type": "display_data"
    }
   ],
   "source": [
    "m.draw_profile(\"a\");"
   ]
  },
  {
   "cell_type": "code",
   "execution_count": 220,
   "metadata": {},
   "outputs": [
    {
     "data": {
      "image/png": "[encoded data removed]",
      "text/plain": [
       "<Figure size 432x288 with 1 Axes>"
      ]
     },
     "metadata": {
      "needs_background": "light"
     },
     "output_type": "display_data"
    }
   ],
   "source": [
    "m.draw_profile(\"b\");"
   ]
  },
  {
   "cell_type": "code",
   "execution_count": 221,
   "metadata": {},
   "outputs": [
    {
     "data": {
      "image/png": "[encoded data removed]",
      "text/plain": [
       "<Figure size 432x288 with 1 Axes>"
      ]
     },
     "metadata": {
      "needs_background": "light"
     },
     "output_type": "display_data"
    }
   ],
   "source": [
    "m.draw_contour(\"a\", \"b\");"
   ]
  },
  {
   "cell_type": "markdown",
   "metadata": {},
   "source": [
    "* `Minuit.draw_mncontour` draws a 68 % confidence region\n",
    "* In general, more expensive to compute than `Minuit.draw_contour`"
   ]
  },
  {
   "cell_type": "code",
   "execution_count": 222,
   "metadata": {},
   "outputs": [
    {
     "data": {
      "image/png": "[encoded data removed]",
      "text/plain": [
       "<Figure size 432x288 with 1 Axes>"
      ]
     },
     "metadata": {
      "needs_background": "light"
     },
     "output_type": "display_data"
    }
   ],
   "source": [
    "m.draw_mncontour(\"a\", \"b\");"
   ]
  },
  {
   "cell_type": "code",
   "execution_count": 223,
   "metadata": {},
   "outputs": [
    {
     "data": {
      "text/html": [
       "<table>\n",
       "    <tr>\n",
       "        <td></td>\n",
       "        <th> a </th>\n",
       "        <th> b </th>\n",
       "    </tr>\n",
       "    <tr>\n",
       "        <th> a </th>\n",
       "        <td> 0.0138 </td>\n",
       "        <td style=\"background-color:rgb(140,140,250);color:black\"> -0.0196 <strong>(-0.843)</strong> </td>\n",
       "    </tr>\n",
       "    <tr>\n",
       "        <th> b </th>\n",
       "        <td style=\"background-color:rgb(140,140,250);color:black\"> -0.0196 <strong>(-0.843)</strong> </td>\n",
       "        <td> 0.0393 </td>\n",
       "    </tr>\n",
       "</table>"
      ],
      "text/plain": [
       "┌───┬─────────────────┐\n",
       "│   │       a       b │\n",
       "├───┼─────────────────┤\n",
       "│ a │  0.0138 -0.0196 │\n",
       "│ b │ -0.0196  0.0393 │\n",
       "└───┴─────────────────┘"
      ]
     },
     "execution_count": 223,
     "metadata": {},
     "output_type": "execute_result"
    }
   ],
   "source": [
    "# tilt of ellipse indicates anti-correlation\n",
    "m.covariance"
   ]
  },
  {
   "cell_type": "code",
   "execution_count": 224,
   "metadata": {},
   "outputs": [
    {
     "data": {
      "image/png": "[encoded data removed]",
      "text/plain": [
       "<Figure size 432x288 with 1 Axes>"
      ]
     },
     "metadata": {
      "needs_background": "light"
     },
     "output_type": "display_data"
    }
   ],
   "source": [
    "lsq.visualize(m.values)\n",
    "\n",
    "ab = m.mncontour(\"a\", \"b\")\n",
    "for a, b in ab:\n",
    "    plt.plot(data.x, model(data.x, a, b), color=\"k\", alpha=0.01)"
   ]
  },
  {
   "cell_type": "markdown",
   "metadata": {},
   "source": [
    "* Don't draw error bands this way, this is just for illustration\n",
    "* [iminuit docs have a tutorial on how to make error bands](https://iminuit.readthedocs.io/en/stable/notebooks/error_bands.html)\n",
    "* One way is to use [jacobi](https://github.com/HDembinski/jacobi), another is to use [resample](https://github.com/scikit-hep/resample/)"
   ]
  },
  {
   "cell_type": "code",
   "execution_count": 225,
   "metadata": {},
   "outputs": [
    {
     "data": {
      "image/png": "[encoded data removed]",
      "text/plain": [
       "<Figure size 432x288 with 1 Axes>"
      ]
     },
     "metadata": {
      "needs_background": "light"
     },
     "output_type": "display_data"
    }
   ],
   "source": [
    "import jacobi\n",
    "\n",
    "lsq.visualize(m.values)\n",
    "\n",
    "y, ycov = jacobi.propagate(lambda p: model(x, *p), m.values, m.covariance)\n",
    "ye = np.diag(ycov) ** 0.5\n",
    "\n",
    "plt.fill_between(x, y - ye, y + ye, alpha=0.5);"
   ]
  },
  {
   "cell_type": "markdown",
   "metadata": {},
   "source": [
    "#### **New**: matrix of profiled likelihoods ⚡️\n",
    "\n",
    "* Handy (but costly) way to inspect the profiled likelihood for all pairs of parameters"
   ]
  },
  {
   "cell_type": "code",
   "execution_count": 226,
   "metadata": {},
   "outputs": [
    {
     "name": "stderr",
     "output_type": "stream",
     "text": [
      "N/A% (0 of 3) |                          | Elapsed Time: 0:00:00 ETA:  --:--:--\n",
      "100% (3 of 3) |##########################| Elapsed Time: 0:00:00 Time:  0:00:00\n"
     ]
    },
    {
     "data": {
      "image/png": "[encoded data removed]",
      "text/plain": [
       "<Figure size 720x504 with 4 Axes>"
      ]
     },
     "metadata": {
      "needs_background": "light"
     },
     "output_type": "display_data"
    }
   ],
   "source": [
    "m.draw_mnmatrix(figsize=(10, 7));"
   ]
  },
  {
   "cell_type": "markdown",
   "metadata": {},
   "source": [
    "## Why fits fail and how to fix it"
   ]
  },
  {
   "cell_type": "markdown",
   "metadata": {},
   "source": [
    "#### Starting values far away"
   ]
  },
  {
   "cell_type": "markdown",
   "metadata": {},
   "source": [
    "- Fits can fail when starting values are poor\n",
    "- Numerical reasons\n",
    "  - Cost function uses log(pdf) and pdf may return 0 when data are far away from prediction\n",
    "  - Curvature of cost function may become so small that Minuit thinks the fit has converged\n",
    "    (stopping criterion is based on gradient and curvature)"
   ]
  },
  {
   "cell_type": "code",
   "execution_count": 228,
   "metadata": {},
   "outputs": [
    {
     "data": {
      "text/html": [
       "<table>\n",
       "    <tr>\n",
       "        <th colspan=\"5\" style=\"text-align:center\" title=\"Minimizer\"> Migrad </th>\n",
       "    </tr>\n",
       "    <tr>\n",
       "        <td colspan=\"2\" style=\"text-align:left\" title=\"Minimum value of function\"> FCN = 1.487e+05 </td>\n",
       "        <td colspan=\"3\" style=\"text-align:center\" title=\"Total number of function and (optional) gradient evaluations\"> Nfcn = 137 </td>\n",
       "    </tr>\n",
       "    <tr>\n",
       "        <td colspan=\"2\" style=\"text-align:left\" title=\"Estimated distance to minimum and goal\"> EDM = nan (Goal: 0.0002) </td>\n",
       "        <td colspan=\"3\" style=\"text-align:center\" title=\"Total run time of algorithms\">  </td>\n",
       "    </tr>\n",
       "    <tr>\n",
       "        <td colspan=\"2\" style=\"text-align:center;background-color:#c15ef7;color:black\"> INVALID Minimum </td>\n",
       "        <td colspan=\"3\" style=\"text-align:center;background-color:#92CCA6;color:black\"> No Parameters at limit </td>\n",
       "    </tr>\n",
       "    <tr>\n",
       "        <td colspan=\"2\" style=\"text-align:center;background-color:#c15ef7;color:black\"> ABOVE EDM threshold (goal x 10) </td>\n",
       "        <td colspan=\"3\" style=\"text-align:center;background-color:#92CCA6;color:black\"> Below call limit </td>\n",
       "    </tr>\n",
       "    <tr>\n",
       "        <td style=\"text-align:center;background-color:#92CCA6;color:black\"> Covariance </td>\n",
       "        <td style=\"text-align:center;background-color:#92CCA6;color:black\"> Hesse ok </td>\n",
       "        <td style=\"text-align:center;background-color:#92CCA6;color:black\" title=\"Is covariance matrix accurate?\"> Accurate </td>\n",
       "        <td style=\"text-align:center;background-color:#92CCA6;color:black\" title=\"Is covariance matrix positive definite?\"> Pos. def. </td>\n",
       "        <td style=\"text-align:center;background-color:#92CCA6;color:black\" title=\"Was positive definiteness enforced by Minuit?\"> Not forced </td>\n",
       "    </tr>\n",
       "</table><table>\n",
       "    <tr>\n",
       "        <td></td>\n",
       "        <th title=\"Variable name\"> Name </th>\n",
       "        <th title=\"Value of parameter\"> Value </th>\n",
       "        <th title=\"Hesse error\"> Hesse Error </th>\n",
       "        <th title=\"Minos lower error\"> Minos Error- </th>\n",
       "        <th title=\"Minos upper error\"> Minos Error+ </th>\n",
       "        <th title=\"Lower limit of the parameter\"> Limit- </th>\n",
       "        <th title=\"Upper limit of the parameter\"> Limit+ </th>\n",
       "        <th title=\"Is the parameter fixed in the fit\"> Fixed </th>\n",
       "    </tr>\n",
       "    <tr>\n",
       "        <th> 0 </th>\n",
       "        <td> loc </td>\n",
       "        <td> 5e1 </td>\n",
       "        <td> nan </td>\n",
       "        <td>  </td>\n",
       "        <td>  </td>\n",
       "        <td>  </td>\n",
       "        <td>  </td>\n",
       "        <td>  </td>\n",
       "    </tr>\n",
       "    <tr>\n",
       "        <th> 1 </th>\n",
       "        <td> scale </td>\n",
       "        <td> 1 </td>\n",
       "        <td> nan </td>\n",
       "        <td>  </td>\n",
       "        <td>  </td>\n",
       "        <td>  </td>\n",
       "        <td>  </td>\n",
       "        <td>  </td>\n",
       "    </tr>\n",
       "</table><table>\n",
       "    <tr>\n",
       "        <td></td>\n",
       "        <th> loc </th>\n",
       "        <th> scale </th>\n",
       "    </tr>\n",
       "    <tr>\n",
       "        <th> loc </th>\n",
       "        <td> nan </td>\n",
       "        <td style=\"background-color:rgb(nan,nan,nan);color:black\"> nan </td>\n",
       "    </tr>\n",
       "    <tr>\n",
       "        <th> scale </th>\n",
       "        <td style=\"background-color:rgb(nan,nan,nan);color:black\"> nan </td>\n",
       "        <td> nan </td>\n",
       "    </tr>\n",
       "</table>"
      ],
      "text/plain": [
       "┌─────────────────────────────────────────────────────────────────────────┐\n",
       "│                                Migrad                                   │\n",
       "├──────────────────────────────────┬──────────────────────────────────────┤\n",
       "│ FCN = 1.487e+05                  │              Nfcn = 137              │\n",
       "│ EDM = nan (Goal: 0.0002)         │                                      │\n",
       "├──────────────────────────────────┼──────────────────────────────────────┤\n",
       "│         INVALID Minimum          │        No Parameters at limit        │\n",
       "├──────────────────────────────────┼──────────────────────────────────────┤\n",
       "│ ABOVE EDM threshold (goal x 10)  │           Below call limit           │\n",
       "├───────────────┬──────────────────┼───────────┬─────────────┬────────────┤\n",
       "│  Covariance   │     Hesse ok     │ Accurate  │  Pos. def.  │ Not forced │\n",
       "└───────────────┴──────────────────┴───────────┴─────────────┴────────────┘\n",
       "┌───┬───────┬───────────┬───────────┬────────────┬────────────┬─────────┬─────────┬───────┐\n",
       "│   │ Name  │   Value   │ Hesse Err │ Minos Err- │ Minos Err+ │ Limit-  │ Limit+  │ Fixed │\n",
       "├───┼───────┼───────────┼───────────┼────────────┼────────────┼─────────┼─────────┼───────┤\n",
       "│ 0 │ loc   │    5e1    │    nan    │            │            │         │         │       │\n",
       "│ 1 │ scale │     1     │    nan    │            │            │         │         │       │\n",
       "└───┴───────┴───────────┴───────────┴────────────┴────────────┴─────────┴─────────┴───────┘\n",
       "┌───────┬─────────────┐\n",
       "│       │   loc scale │\n",
       "├───────┼─────────────┤\n",
       "│   loc │   nan   nan │\n",
       "│ scale │   nan   nan │\n",
       "└───────┴─────────────┘"
      ]
     },
     "execution_count": 228,
     "metadata": {},
     "output_type": "execute_result"
    }
   ],
   "source": [
    "# numba_stats has faster versions of statistical distributions in scipy.stats \n",
    "from numba_stats import norm\n",
    "\n",
    "rng = np.random.default_rng(1)\n",
    "\n",
    "x = rng.normal(size=100)\n",
    "\n",
    "nll = cost.UnbinnedNLL(x, norm.pdf)\n",
    "\n",
    "# uh oh, starting value for loc far away\n",
    "m = Minuit(nll, loc=50, scale=1)\n",
    "m.migrad()"
   ]
  },
  {
   "cell_type": "markdown",
   "metadata": {},
   "source": [
    "* Mental note: \"Hesse ok\" is wrong, a bug in C++ Minuit2!\n",
    "* If you find things like this, don't 🤷‍♂️, [please report a minimal reproducer in iminuit issues](https://github.com/scikit-hep/iminuit/)\n",
    "* Also great way to contribute to Hackashop"
   ]
  },
  {
   "cell_type": "code",
   "execution_count": 232,
   "metadata": {},
   "outputs": [
    {
     "data": {
      "text/plain": [
       "[<matplotlib.lines.Line2D at 0x12fd2d6a0>]"
      ]
     },
     "execution_count": 232,
     "metadata": {},
     "output_type": "execute_result"
    },
    {
     "data": {
      "image/png": "[encoded data removed]",
      "text/plain": [
       "<Figure size 432x288 with 1 Axes>"
      ]
     },
     "metadata": {
      "needs_background": "light"
     },
     "output_type": "display_data"
    }
   ],
   "source": [
    "plt.hist(x)\n",
    "xm = np.linspace(30, 60, 1000)\n",
    "ym = norm.pdf(xm, *m.values) * 50\n",
    "plt.plot(xm, ym)"
   ]
  },
  {
   "cell_type": "code",
   "execution_count": 233,
   "metadata": {},
   "outputs": [
    {
     "data": {
      "text/plain": [
       "array([7.69459863e-22, 0.00000000e+00, 0.00000000e+00, 0.00000000e+00])"
      ]
     },
     "execution_count": 233,
     "metadata": {},
     "output_type": "execute_result"
    }
   ],
   "source": [
    "norm.pdf([1, 10, 100, 1000], 0.0, 0.1)"
   ]
  },
  {
   "cell_type": "markdown",
   "metadata": {},
   "source": [
    "* By using a good starting value for `loc` we fix the issue"
   ]
  },
  {
   "cell_type": "code",
   "execution_count": 180,
   "metadata": {},
   "outputs": [
    {
     "data": {
      "text/html": [
       "<table>\n",
       "    <tr>\n",
       "        <th colspan=\"5\" style=\"text-align:center\" title=\"Minimizer\"> Migrad </th>\n",
       "    </tr>\n",
       "    <tr>\n",
       "        <td colspan=\"2\" style=\"text-align:left\" title=\"Minimum value of function\"> FCN = 251.6 </td>\n",
       "        <td colspan=\"3\" style=\"text-align:center\" title=\"Total number of function and (optional) gradient evaluations\"> Nfcn = 31 </td>\n",
       "    </tr>\n",
       "    <tr>\n",
       "        <td colspan=\"2\" style=\"text-align:left\" title=\"Estimated distance to minimum and goal\"> EDM = 2.2e-05 (Goal: 0.0002) </td>\n",
       "        <td colspan=\"3\" style=\"text-align:center\" title=\"Total run time of algorithms\">  </td>\n",
       "    </tr>\n",
       "    <tr>\n",
       "        <td colspan=\"2\" style=\"text-align:center;background-color:#92CCA6;color:black\"> Valid Minimum </td>\n",
       "        <td colspan=\"3\" style=\"text-align:center;background-color:#92CCA6;color:black\"> No Parameters at limit </td>\n",
       "    </tr>\n",
       "    <tr>\n",
       "        <td colspan=\"2\" style=\"text-align:center;background-color:#92CCA6;color:black\"> Below EDM threshold (goal x 10) </td>\n",
       "        <td colspan=\"3\" style=\"text-align:center;background-color:#92CCA6;color:black\"> Below call limit </td>\n",
       "    </tr>\n",
       "    <tr>\n",
       "        <td style=\"text-align:center;background-color:#92CCA6;color:black\"> Covariance </td>\n",
       "        <td style=\"text-align:center;background-color:#92CCA6;color:black\"> Hesse ok </td>\n",
       "        <td style=\"text-align:center;background-color:#92CCA6;color:black\" title=\"Is covariance matrix accurate?\"> Accurate </td>\n",
       "        <td style=\"text-align:center;background-color:#92CCA6;color:black\" title=\"Is covariance matrix positive definite?\"> Pos. def. </td>\n",
       "        <td style=\"text-align:center;background-color:#92CCA6;color:black\" title=\"Was positive definiteness enforced by Minuit?\"> Not forced </td>\n",
       "    </tr>\n",
       "</table><table>\n",
       "    <tr>\n",
       "        <td></td>\n",
       "        <th title=\"Variable name\"> Name </th>\n",
       "        <th title=\"Value of parameter\"> Value </th>\n",
       "        <th title=\"Hesse error\"> Hesse Error </th>\n",
       "        <th title=\"Minos lower error\"> Minos Error- </th>\n",
       "        <th title=\"Minos upper error\"> Minos Error+ </th>\n",
       "        <th title=\"Lower limit of the parameter\"> Limit- </th>\n",
       "        <th title=\"Upper limit of the parameter\"> Limit+ </th>\n",
       "        <th title=\"Is the parameter fixed in the fit\"> Fixed </th>\n",
       "    </tr>\n",
       "    <tr>\n",
       "        <th> 0 </th>\n",
       "        <td> loc </td>\n",
       "        <td> -0.07 </td>\n",
       "        <td> 0.09 </td>\n",
       "        <td>  </td>\n",
       "        <td>  </td>\n",
       "        <td>  </td>\n",
       "        <td>  </td>\n",
       "        <td>  </td>\n",
       "    </tr>\n",
       "    <tr>\n",
       "        <th> 1 </th>\n",
       "        <td> scale </td>\n",
       "        <td> 0.85 </td>\n",
       "        <td> 0.06 </td>\n",
       "        <td>  </td>\n",
       "        <td>  </td>\n",
       "        <td>  </td>\n",
       "        <td>  </td>\n",
       "        <td>  </td>\n",
       "    </tr>\n",
       "</table><table>\n",
       "    <tr>\n",
       "        <td></td>\n",
       "        <th> loc </th>\n",
       "        <th> scale </th>\n",
       "    </tr>\n",
       "    <tr>\n",
       "        <th> loc </th>\n",
       "        <td> 0.00725 </td>\n",
       "        <td style=\"background-color:rgb(250,250,250);color:black\"> 2.67e-06 </td>\n",
       "    </tr>\n",
       "    <tr>\n",
       "        <th> scale </th>\n",
       "        <td style=\"background-color:rgb(250,250,250);color:black\"> 2.67e-06 </td>\n",
       "        <td> 0.00362 </td>\n",
       "    </tr>\n",
       "</table>"
      ],
      "text/plain": [
       "┌─────────────────────────────────────────────────────────────────────────┐\n",
       "│                                Migrad                                   │\n",
       "├──────────────────────────────────┬──────────────────────────────────────┤\n",
       "│ FCN = 251.6                      │              Nfcn = 31               │\n",
       "│ EDM = 2.2e-05 (Goal: 0.0002)     │                                      │\n",
       "├──────────────────────────────────┼──────────────────────────────────────┤\n",
       "│          Valid Minimum           │        No Parameters at limit        │\n",
       "├──────────────────────────────────┼──────────────────────────────────────┤\n",
       "│ Below EDM threshold (goal x 10)  │           Below call limit           │\n",
       "├───────────────┬──────────────────┼───────────┬─────────────┬────────────┤\n",
       "│  Covariance   │     Hesse ok     │ Accurate  │  Pos. def.  │ Not forced │\n",
       "└───────────────┴──────────────────┴───────────┴─────────────┴────────────┘\n",
       "┌───┬───────┬───────────┬───────────┬────────────┬────────────┬─────────┬─────────┬───────┐\n",
       "│   │ Name  │   Value   │ Hesse Err │ Minos Err- │ Minos Err+ │ Limit-  │ Limit+  │ Fixed │\n",
       "├───┼───────┼───────────┼───────────┼────────────┼────────────┼─────────┼─────────┼───────┤\n",
       "│ 0 │ loc   │   -0.07   │   0.09    │            │            │         │         │       │\n",
       "│ 1 │ scale │   0.85    │   0.06    │            │            │         │         │       │\n",
       "└───┴───────┴───────────┴───────────┴────────────┴────────────┴─────────┴─────────┴───────┘\n",
       "┌───────┬───────────────────┐\n",
       "│       │      loc    scale │\n",
       "├───────┼───────────────────┤\n",
       "│   loc │  0.00725 2.67e-06 │\n",
       "│ scale │ 2.67e-06  0.00362 │\n",
       "└───────┴───────────────────┘"
      ]
     },
     "execution_count": 180,
     "metadata": {},
     "output_type": "execute_result"
    }
   ],
   "source": [
    "m = Minuit(nll, loc=0, scale=1)\n",
    "m.migrad()"
   ]
  },
  {
   "cell_type": "markdown",
   "metadata": {},
   "source": [
    "- How to fix this\n",
    "  - Find better starting values, e.g. use values from simulation\n",
    "  - Use least-squares fit followed by maximum-likelihood fit; least-squares is more robust"
   ]
  },
  {
   "cell_type": "markdown",
   "metadata": {},
   "source": [
    "* This error also appears in more practical situations: fit of a signal+background model"
   ]
  },
  {
   "cell_type": "code",
   "execution_count": 181,
   "metadata": {},
   "outputs": [],
   "source": [
    "# Generate signal and background mixture\n",
    "\n",
    "rng = np.random.default_rng(1)\n",
    "\n",
    "s = rng.normal(0.5, 0.1, size=1000)\n",
    "b = rng.exponential(0.8, size=2000)\n",
    "x = np.append(s, b)\n",
    "x = x[x < 1]\n",
    "\n",
    "data = Namespace(x=x, range=(0, 1))"
   ]
  },
  {
   "cell_type": "code",
   "execution_count": 182,
   "metadata": {},
   "outputs": [
    {
     "data": {
      "image/png": "[encoded data removed]",
      "text/plain": [
       "<Figure size 432x288 with 1 Axes>"
      ]
     },
     "metadata": {
      "needs_background": "light"
     },
     "output_type": "display_data"
    }
   ],
   "source": [
    "# Bin and draw data\n",
    "\n",
    "import boost_histogram as bh\n",
    "# or use numpy.histogram ...\n",
    "\n",
    "h = bh.Histogram(bh.axis.Regular(50, 0, 1))\n",
    "h.fill(data.x)\n",
    "\n",
    "data.edges = h.axes[0].edges\n",
    "data.n = h.values()\n",
    "\n",
    "plt.stairs(data.n, data.edges, fill=True);"
   ]
  },
  {
   "cell_type": "markdown",
   "metadata": {},
   "source": [
    "* Let's do an extended binned fit now"
   ]
  },
  {
   "cell_type": "code",
   "execution_count": 183,
   "metadata": {},
   "outputs": [
    {
     "name": "stdout",
     "output_type": "stream",
     "text": [
      "\u001b[0;31mInit signature:\u001b[0m\n",
      "\u001b[0mcost\u001b[0m\u001b[0;34m.\u001b[0m\u001b[0mExtendedBinnedNLL\u001b[0m\u001b[0;34m(\u001b[0m\u001b[0;34m\u001b[0m\n",
      "\u001b[0;34m\u001b[0m    \u001b[0mn\u001b[0m\u001b[0;34m:\u001b[0m \u001b[0mSequence\u001b[0m\u001b[0;34m,\u001b[0m\u001b[0;34m\u001b[0m\n",
      "\u001b[0;34m\u001b[0m    \u001b[0mxe\u001b[0m\u001b[0;34m:\u001b[0m \u001b[0mSequence\u001b[0m\u001b[0;34m,\u001b[0m\u001b[0;34m\u001b[0m\n",
      "\u001b[0;34m\u001b[0m    \u001b[0mscaled_cdf\u001b[0m\u001b[0;34m:\u001b[0m \u001b[0mCallable\u001b[0m\u001b[0;34m,\u001b[0m\u001b[0;34m\u001b[0m\n",
      "\u001b[0;34m\u001b[0m    \u001b[0mverbose\u001b[0m\u001b[0;34m:\u001b[0m \u001b[0mint\u001b[0m \u001b[0;34m=\u001b[0m \u001b[0;36m0\u001b[0m\u001b[0;34m,\u001b[0m\u001b[0;34m\u001b[0m\n",
      "\u001b[0;34m\u001b[0m\u001b[0;34m)\u001b[0m\u001b[0;34m\u001b[0m\u001b[0;34m\u001b[0m\u001b[0m\n",
      "\u001b[0;31mDocstring:\u001b[0m     \n",
      "Binned extended negative log-likelihood.\n",
      "\n",
      "Use this if shape and normalization of the fitted PDF are of interest and the data is\n",
      "binned. This cost function works with normal and weighted histograms. The histogram\n",
      "can be one- or multi-dimensional.\n",
      "\n",
      "The cost function works for both weighted data. The cost function assumes that\n",
      "the weights are independent of the data. This is not the case for sWeights, and\n",
      "the uncertaintes for results obtained with sWeights will only be approximately\n",
      "correct, see C. Langenbruch, Eur.Phys.J.C 82 (2022) 5, 393.\n",
      "\n",
      "The cost function has a minimum value that is asymptotically chi2-distributed. It is\n",
      "constructed from the log-likelihood assuming a poisson distribution and using the\n",
      "saturated model as a reference.\n",
      "\u001b[0;31mInit docstring:\u001b[0m\n",
      "Initialize cost function with data and model.\n",
      "\n",
      "Parameters\n",
      "----------\n",
      "n : array-like\n",
      "    Histogram counts. If this is an array with dimension D+1, where D is the\n",
      "    number of histogram axes, then the last dimension must have two elements\n",
      "    and is interpreted as pairs of sum of weights and sum of weights squared.\n",
      "xe : array-like or collection of array-like\n",
      "    Bin edge locations, must be len(n) + 1, where n is the number of bins.\n",
      "    If the histogram has more than one axis, xe must be a collection of the\n",
      "    bin edge locations along each axis.\n",
      "scaled_cdf : callable\n",
      "    Scaled Cumulative density function of the form f(xe, par0, [par1, ...]), where\n",
      "    xe is a bin edge and par0, ... are model parameters.  If the model is\n",
      "    multivariate, xe must be an array-like with shape (D, N), where D is the\n",
      "    dimension and N is the number of points where the model is evaluated.\n",
      "verbose : int, optional\n",
      "    Verbosity level. 0: is no output (default). 1: print current args and negative\n",
      "    log-likelihood value.\n",
      "\u001b[0;31mFile:\u001b[0m           /usr/local/lib/python3.8/site-packages/iminuit/cost.py\n",
      "\u001b[0;31mType:\u001b[0m           ABCMeta\n",
      "\u001b[0;31mSubclasses:\u001b[0m     \n"
     ]
    }
   ],
   "source": [
    "cost.ExtendedBinnedNLL?"
   ]
  },
  {
   "cell_type": "code",
   "execution_count": 184,
   "metadata": {},
   "outputs": [
    {
     "name": "stderr",
     "output_type": "stream",
     "text": [
      "/usr/local/lib/python3.8/site-packages/iminuit/cost.py:990: RuntimeWarning: invalid value encountered in less\n",
      "  d[d < 0] = 0\n"
     ]
    },
    {
     "data": {
      "text/html": [
       "<table>\n",
       "    <tr>\n",
       "        <th colspan=\"5\" style=\"text-align:center\" title=\"Minimizer\"> Migrad </th>\n",
       "    </tr>\n",
       "    <tr>\n",
       "        <td colspan=\"2\" style=\"text-align:left\" title=\"Minimum value of function\"> FCN = nan </td>\n",
       "        <td colspan=\"3\" style=\"text-align:center\" title=\"Total number of function and (optional) gradient evaluations\"> Nfcn = 441 </td>\n",
       "    </tr>\n",
       "    <tr>\n",
       "        <td colspan=\"2\" style=\"text-align:left\" title=\"Estimated distance to minimum and goal\"> EDM = nan (Goal: 0.0002) </td>\n",
       "        <td colspan=\"3\" style=\"text-align:center\" title=\"Total run time of algorithms\">  </td>\n",
       "    </tr>\n",
       "    <tr>\n",
       "        <td colspan=\"2\" style=\"text-align:center;background-color:#c15ef7;color:black\"> INVALID Minimum </td>\n",
       "        <td colspan=\"3\" style=\"text-align:center;background-color:#92CCA6;color:black\"> No Parameters at limit </td>\n",
       "    </tr>\n",
       "    <tr>\n",
       "        <td colspan=\"2\" style=\"text-align:center;background-color:#c15ef7;color:black\"> ABOVE EDM threshold (goal x 10) </td>\n",
       "        <td colspan=\"3\" style=\"text-align:center;background-color:#92CCA6;color:black\"> Below call limit </td>\n",
       "    </tr>\n",
       "    <tr>\n",
       "        <td style=\"text-align:center;background-color:#92CCA6;color:black\"> Covariance </td>\n",
       "        <td style=\"text-align:center;background-color:#92CCA6;color:black\"> Hesse ok </td>\n",
       "        <td style=\"text-align:center;background-color:#92CCA6;color:black\" title=\"Is covariance matrix accurate?\"> Accurate </td>\n",
       "        <td style=\"text-align:center;background-color:#92CCA6;color:black\" title=\"Is covariance matrix positive definite?\"> Pos. def. </td>\n",
       "        <td style=\"text-align:center;background-color:#92CCA6;color:black\" title=\"Was positive definiteness enforced by Minuit?\"> Not forced </td>\n",
       "    </tr>\n",
       "</table><table>\n",
       "    <tr>\n",
       "        <td></td>\n",
       "        <th title=\"Variable name\"> Name </th>\n",
       "        <th title=\"Value of parameter\"> Value </th>\n",
       "        <th title=\"Hesse error\"> Hesse Error </th>\n",
       "        <th title=\"Minos lower error\"> Minos Error- </th>\n",
       "        <th title=\"Minos upper error\"> Minos Error+ </th>\n",
       "        <th title=\"Lower limit of the parameter\"> Limit- </th>\n",
       "        <th title=\"Upper limit of the parameter\"> Limit+ </th>\n",
       "        <th title=\"Is the parameter fixed in the fit\"> Fixed </th>\n",
       "    </tr>\n",
       "    <tr>\n",
       "        <th> 0 </th>\n",
       "        <td> ns </td>\n",
       "        <td> 1 </td>\n",
       "        <td> nan </td>\n",
       "        <td>  </td>\n",
       "        <td>  </td>\n",
       "        <td>  </td>\n",
       "        <td>  </td>\n",
       "        <td>  </td>\n",
       "    </tr>\n",
       "    <tr>\n",
       "        <th> 1 </th>\n",
       "        <td> mu </td>\n",
       "        <td> 5 </td>\n",
       "        <td> nan </td>\n",
       "        <td>  </td>\n",
       "        <td>  </td>\n",
       "        <td>  </td>\n",
       "        <td>  </td>\n",
       "        <td>  </td>\n",
       "    </tr>\n",
       "    <tr>\n",
       "        <th> 2 </th>\n",
       "        <td> sigma </td>\n",
       "        <td> 1e-1 </td>\n",
       "        <td> nan </td>\n",
       "        <td>  </td>\n",
       "        <td>  </td>\n",
       "        <td>  </td>\n",
       "        <td>  </td>\n",
       "        <td>  </td>\n",
       "    </tr>\n",
       "    <tr>\n",
       "        <th> 3 </th>\n",
       "        <td> nb </td>\n",
       "        <td> 1 </td>\n",
       "        <td> nan </td>\n",
       "        <td>  </td>\n",
       "        <td>  </td>\n",
       "        <td>  </td>\n",
       "        <td>  </td>\n",
       "        <td>  </td>\n",
       "    </tr>\n",
       "    <tr>\n",
       "        <th> 4 </th>\n",
       "        <td> slope </td>\n",
       "        <td> 1 </td>\n",
       "        <td> nan </td>\n",
       "        <td>  </td>\n",
       "        <td>  </td>\n",
       "        <td>  </td>\n",
       "        <td>  </td>\n",
       "        <td>  </td>\n",
       "    </tr>\n",
       "</table><table>\n",
       "    <tr>\n",
       "        <td></td>\n",
       "        <th> ns </th>\n",
       "        <th> mu </th>\n",
       "        <th> sigma </th>\n",
       "        <th> nb </th>\n",
       "        <th> slope </th>\n",
       "    </tr>\n",
       "    <tr>\n",
       "        <th> ns </th>\n",
       "        <td> nan </td>\n",
       "        <td style=\"background-color:rgb(nan,nan,nan);color:black\"> nan </td>\n",
       "        <td style=\"background-color:rgb(nan,nan,nan);color:black\"> nan </td>\n",
       "        <td style=\"background-color:rgb(nan,nan,nan);color:black\"> nan </td>\n",
       "        <td style=\"background-color:rgb(nan,nan,nan);color:black\"> nan </td>\n",
       "    </tr>\n",
       "    <tr>\n",
       "        <th> mu </th>\n",
       "        <td style=\"background-color:rgb(nan,nan,nan);color:black\"> nan </td>\n",
       "        <td> nan </td>\n",
       "        <td style=\"background-color:rgb(nan,nan,nan);color:black\"> nan </td>\n",
       "        <td style=\"background-color:rgb(nan,nan,nan);color:black\"> nan </td>\n",
       "        <td style=\"background-color:rgb(nan,nan,nan);color:black\"> nan </td>\n",
       "    </tr>\n",
       "    <tr>\n",
       "        <th> sigma </th>\n",
       "        <td style=\"background-color:rgb(nan,nan,nan);color:black\"> nan </td>\n",
       "        <td style=\"background-color:rgb(nan,nan,nan);color:black\"> nan </td>\n",
       "        <td> nan </td>\n",
       "        <td style=\"background-color:rgb(nan,nan,nan);color:black\"> nan </td>\n",
       "        <td style=\"background-color:rgb(nan,nan,nan);color:black\"> nan </td>\n",
       "    </tr>\n",
       "    <tr>\n",
       "        <th> nb </th>\n",
       "        <td style=\"background-color:rgb(nan,nan,nan);color:black\"> nan </td>\n",
       "        <td style=\"background-color:rgb(nan,nan,nan);color:black\"> nan </td>\n",
       "        <td style=\"background-color:rgb(nan,nan,nan);color:black\"> nan </td>\n",
       "        <td> nan </td>\n",
       "        <td style=\"background-color:rgb(nan,nan,nan);color:black\"> nan </td>\n",
       "    </tr>\n",
       "    <tr>\n",
       "        <th> slope </th>\n",
       "        <td style=\"background-color:rgb(nan,nan,nan);color:black\"> nan </td>\n",
       "        <td style=\"background-color:rgb(nan,nan,nan);color:black\"> nan </td>\n",
       "        <td style=\"background-color:rgb(nan,nan,nan);color:black\"> nan </td>\n",
       "        <td style=\"background-color:rgb(nan,nan,nan);color:black\"> nan </td>\n",
       "        <td> nan </td>\n",
       "    </tr>\n",
       "</table>"
      ],
      "text/plain": [
       "┌─────────────────────────────────────────────────────────────────────────┐\n",
       "│                                Migrad                                   │\n",
       "├──────────────────────────────────┬──────────────────────────────────────┤\n",
       "│ FCN = nan                        │              Nfcn = 441              │\n",
       "│ EDM = nan (Goal: 0.0002)         │                                      │\n",
       "├──────────────────────────────────┼──────────────────────────────────────┤\n",
       "│         INVALID Minimum          │        No Parameters at limit        │\n",
       "├──────────────────────────────────┼──────────────────────────────────────┤\n",
       "│ ABOVE EDM threshold (goal x 10)  │           Below call limit           │\n",
       "├───────────────┬──────────────────┼───────────┬─────────────┬────────────┤\n",
       "│  Covariance   │     Hesse ok     │ Accurate  │  Pos. def.  │ Not forced │\n",
       "└───────────────┴──────────────────┴───────────┴─────────────┴────────────┘\n",
       "┌───┬───────┬───────────┬───────────┬────────────┬────────────┬─────────┬─────────┬───────┐\n",
       "│   │ Name  │   Value   │ Hesse Err │ Minos Err- │ Minos Err+ │ Limit-  │ Limit+  │ Fixed │\n",
       "├───┼───────┼───────────┼───────────┼────────────┼────────────┼─────────┼─────────┼───────┤\n",
       "│ 0 │ ns    │     1     │    nan    │            │            │         │         │       │\n",
       "│ 1 │ mu    │     5     │    nan    │            │            │         │         │       │\n",
       "│ 2 │ sigma │   1e-1    │    nan    │            │            │         │         │       │\n",
       "│ 3 │ nb    │     1     │    nan    │            │            │         │         │       │\n",
       "│ 4 │ slope │     1     │    nan    │            │            │         │         │       │\n",
       "└───┴───────┴───────────┴───────────┴────────────┴────────────┴─────────┴─────────┴───────┘\n",
       "┌───────┬───────────────────────────────┐\n",
       "│       │    ns    mu sigma    nb slope │\n",
       "├───────┼───────────────────────────────┤\n",
       "│    ns │   nan   nan   nan   nan   nan │\n",
       "│    mu │   nan   nan   nan   nan   nan │\n",
       "│ sigma │   nan   nan   nan   nan   nan │\n",
       "│    nb │   nan   nan   nan   nan   nan │\n",
       "│ slope │   nan   nan   nan   nan   nan │\n",
       "└───────┴───────────────────────────────┘"
      ]
     },
     "execution_count": 184,
     "metadata": {},
     "output_type": "execute_result"
    }
   ],
   "source": [
    "from numba_stats import truncnorm, truncexpon\n",
    "\n",
    "# scaled cdf\n",
    "def model(x, ns, mu, sigma, nb, slope):\n",
    "    s = ns * truncnorm.cdf(x, *data.range, mu, sigma)\n",
    "    b = nb * truncexpon.cdf(x, *data.range, 0, slope)\n",
    "    return s + b\n",
    "\n",
    "nll = cost.ExtendedBinnedNLL(data.n, data.edges, model)\n",
    "\n",
    "m = Minuit(nll, ns=1, mu=5, sigma=0.1, nb=1, slope=1)\n",
    "m.migrad()"
   ]
  },
  {
   "cell_type": "code",
   "execution_count": 185,
   "metadata": {},
   "outputs": [
    {
     "data": {
      "text/plain": [
       "nan"
      ]
     },
     "execution_count": 185,
     "metadata": {},
     "output_type": "execute_result"
    }
   ],
   "source": [
    "nll(1, 5, 0.1, 1, 1)"
   ]
  },
  {
   "cell_type": "markdown",
   "metadata": {},
   "source": [
    "#### Model parameters outside mathematical domain\n",
    "\n",
    "* Minuit can place limits on parameters, this is often necessary\n",
    "* Examples\n",
    "  - σ parameter of normal distribution must be positive\n",
    "  - μ parameter of Poisson distribution must be non-negative\n",
    "* Without limits on such parameters, fit is likely to fail"
   ]
  },
  {
   "cell_type": "code",
   "execution_count": 186,
   "metadata": {},
   "outputs": [
    {
     "data": {
      "text/html": [
       "<table>\n",
       "    <tr>\n",
       "        <th colspan=\"5\" style=\"text-align:center\" title=\"Minimizer\"> Migrad </th>\n",
       "    </tr>\n",
       "    <tr>\n",
       "        <td colspan=\"2\" style=\"text-align:left\" title=\"Minimum value of function\"> FCN = 203.9 (chi2/ndof = 4.5) </td>\n",
       "        <td colspan=\"3\" style=\"text-align:center\" title=\"Total number of function and (optional) gradient evaluations\"> Nfcn = 411 </td>\n",
       "    </tr>\n",
       "    <tr>\n",
       "        <td colspan=\"2\" style=\"text-align:left\" title=\"Estimated distance to minimum and goal\"> EDM = 1.41e-06 (Goal: 0.0002) </td>\n",
       "        <td colspan=\"3\" style=\"text-align:center\" title=\"Total run time of algorithms\">  </td>\n",
       "    </tr>\n",
       "    <tr>\n",
       "        <td colspan=\"2\" style=\"text-align:center;background-color:#92CCA6;color:black\"> Valid Minimum </td>\n",
       "        <td colspan=\"3\" style=\"text-align:center;background-color:#92CCA6;color:black\"> No Parameters at limit </td>\n",
       "    </tr>\n",
       "    <tr>\n",
       "        <td colspan=\"2\" style=\"text-align:center;background-color:#92CCA6;color:black\"> Below EDM threshold (goal x 10) </td>\n",
       "        <td colspan=\"3\" style=\"text-align:center;background-color:#92CCA6;color:black\"> Below call limit </td>\n",
       "    </tr>\n",
       "    <tr>\n",
       "        <td style=\"text-align:center;background-color:#92CCA6;color:black\"> Covariance </td>\n",
       "        <td style=\"text-align:center;background-color:#92CCA6;color:black\"> Hesse ok </td>\n",
       "        <td style=\"text-align:center;background-color:#92CCA6;color:black\" title=\"Is covariance matrix accurate?\"> Accurate </td>\n",
       "        <td style=\"text-align:center;background-color:#92CCA6;color:black\" title=\"Is covariance matrix positive definite?\"> Pos. def. </td>\n",
       "        <td style=\"text-align:center;background-color:#92CCA6;color:black\" title=\"Was positive definiteness enforced by Minuit?\"> Not forced </td>\n",
       "    </tr>\n",
       "</table><table>\n",
       "    <tr>\n",
       "        <td></td>\n",
       "        <th title=\"Variable name\"> Name </th>\n",
       "        <th title=\"Value of parameter\"> Value </th>\n",
       "        <th title=\"Hesse error\"> Hesse Error </th>\n",
       "        <th title=\"Minos lower error\"> Minos Error- </th>\n",
       "        <th title=\"Minos upper error\"> Minos Error+ </th>\n",
       "        <th title=\"Lower limit of the parameter\"> Limit- </th>\n",
       "        <th title=\"Upper limit of the parameter\"> Limit+ </th>\n",
       "        <th title=\"Is the parameter fixed in the fit\"> Fixed </th>\n",
       "    </tr>\n",
       "    <tr>\n",
       "        <th> 0 </th>\n",
       "        <td> ns </td>\n",
       "        <td> 919.1 </td>\n",
       "        <td> 2.0 </td>\n",
       "        <td>  </td>\n",
       "        <td>  </td>\n",
       "        <td> 0 </td>\n",
       "        <td>  </td>\n",
       "        <td>  </td>\n",
       "    </tr>\n",
       "    <tr>\n",
       "        <th> 1 </th>\n",
       "        <td> mu </td>\n",
       "        <td> 0.484 </td>\n",
       "        <td> 0.005 </td>\n",
       "        <td>  </td>\n",
       "        <td>  </td>\n",
       "        <td> 0 </td>\n",
       "        <td> 1 </td>\n",
       "        <td>  </td>\n",
       "    </tr>\n",
       "    <tr>\n",
       "        <th> 2 </th>\n",
       "        <td> sigma </td>\n",
       "        <td> 0.094 </td>\n",
       "        <td> 0.004 </td>\n",
       "        <td>  </td>\n",
       "        <td>  </td>\n",
       "        <td> 0 </td>\n",
       "        <td>  </td>\n",
       "        <td>  </td>\n",
       "    </tr>\n",
       "    <tr>\n",
       "        <th> 3 </th>\n",
       "        <td> nb </td>\n",
       "        <td> 1.5179e3 </td>\n",
       "        <td> 0.0020e3 </td>\n",
       "        <td>  </td>\n",
       "        <td>  </td>\n",
       "        <td> 0 </td>\n",
       "        <td>  </td>\n",
       "        <td>  </td>\n",
       "    </tr>\n",
       "    <tr>\n",
       "        <th> 4 </th>\n",
       "        <td> slope </td>\n",
       "        <td> 1.3171e3 </td>\n",
       "        <td> 0.0020e3 </td>\n",
       "        <td>  </td>\n",
       "        <td>  </td>\n",
       "        <td> 0 </td>\n",
       "        <td>  </td>\n",
       "        <td>  </td>\n",
       "    </tr>\n",
       "</table><table>\n",
       "    <tr>\n",
       "        <td></td>\n",
       "        <th> ns </th>\n",
       "        <th> mu </th>\n",
       "        <th> sigma </th>\n",
       "        <th> nb </th>\n",
       "        <th> slope </th>\n",
       "    </tr>\n",
       "    <tr>\n",
       "        <th> ns </th>\n",
       "        <td> 3.99 </td>\n",
       "        <td style=\"background-color:rgb(249,249,250);color:black\"> -5.53e-05 <strong>(-0.006)</strong> </td>\n",
       "        <td style=\"background-color:rgb(250,247,247);color:black\"> 0.000141 <strong>(0.017)</strong> </td>\n",
       "        <td style=\"background-color:rgb(250,250,250);color:black\"> -0.00482 <strong>(-0.001)</strong> </td>\n",
       "        <td style=\"background-color:rgb(250,250,250);color:black\"> 1.86e-07 </td>\n",
       "    </tr>\n",
       "    <tr>\n",
       "        <th> mu </th>\n",
       "        <td style=\"background-color:rgb(249,249,250);color:black\"> -5.53e-05 <strong>(-0.006)</strong> </td>\n",
       "        <td> 2.47e-05 </td>\n",
       "        <td style=\"background-color:rgb(218,218,250);color:black\"> -5.01e-06 <strong>(-0.246)</strong> </td>\n",
       "        <td style=\"background-color:rgb(250,249,249);color:black\"> 3.36e-05 <strong>(0.003)</strong> </td>\n",
       "        <td style=\"background-color:rgb(250,250,250);color:black\"> -3.24e-08 </td>\n",
       "    </tr>\n",
       "    <tr>\n",
       "        <th> sigma </th>\n",
       "        <td style=\"background-color:rgb(250,247,247);color:black\"> 0.000141 <strong>(0.017)</strong> </td>\n",
       "        <td style=\"background-color:rgb(218,218,250);color:black\"> -5.01e-06 <strong>(-0.246)</strong> </td>\n",
       "        <td> 1.68e-05 </td>\n",
       "        <td style=\"background-color:rgb(249,249,250);color:black\"> -8.58e-05 <strong>(-0.010)</strong> </td>\n",
       "        <td style=\"background-color:rgb(250,250,250);color:black\"> 1.19e-08 </td>\n",
       "    </tr>\n",
       "    <tr>\n",
       "        <th> nb </th>\n",
       "        <td style=\"background-color:rgb(250,250,250);color:black\"> -0.00482 <strong>(-0.001)</strong> </td>\n",
       "        <td style=\"background-color:rgb(250,249,249);color:black\"> 3.36e-05 <strong>(0.003)</strong> </td>\n",
       "        <td style=\"background-color:rgb(249,249,250);color:black\"> -8.58e-05 <strong>(-0.010)</strong> </td>\n",
       "        <td> 3.99 </td>\n",
       "        <td style=\"background-color:rgb(250,250,250);color:black\"> -1.13e-07 </td>\n",
       "    </tr>\n",
       "    <tr>\n",
       "        <th> slope </th>\n",
       "        <td style=\"background-color:rgb(250,250,250);color:black\"> 1.86e-07 </td>\n",
       "        <td style=\"background-color:rgb(250,250,250);color:black\"> -3.24e-08 </td>\n",
       "        <td style=\"background-color:rgb(250,250,250);color:black\"> 1.19e-08 </td>\n",
       "        <td style=\"background-color:rgb(250,250,250);color:black\"> -1.13e-07 </td>\n",
       "        <td> 4 </td>\n",
       "    </tr>\n",
       "</table>"
      ],
      "text/plain": [
       "┌─────────────────────────────────────────────────────────────────────────┐\n",
       "│                                Migrad                                   │\n",
       "├──────────────────────────────────┬──────────────────────────────────────┤\n",
       "│ FCN = 203.9 (chi2/ndof = 4.5)    │              Nfcn = 411              │\n",
       "│ EDM = 1.41e-06 (Goal: 0.0002)    │                                      │\n",
       "├──────────────────────────────────┼──────────────────────────────────────┤\n",
       "│          Valid Minimum           │        No Parameters at limit        │\n",
       "├──────────────────────────────────┼──────────────────────────────────────┤\n",
       "│ Below EDM threshold (goal x 10)  │           Below call limit           │\n",
       "├───────────────┬──────────────────┼───────────┬─────────────┬────────────┤\n",
       "│  Covariance   │     Hesse ok     │ Accurate  │  Pos. def.  │ Not forced │\n",
       "└───────────────┴──────────────────┴───────────┴─────────────┴────────────┘\n",
       "┌───┬───────┬───────────┬───────────┬────────────┬────────────┬─────────┬─────────┬───────┐\n",
       "│   │ Name  │   Value   │ Hesse Err │ Minos Err- │ Minos Err+ │ Limit-  │ Limit+  │ Fixed │\n",
       "├───┼───────┼───────────┼───────────┼────────────┼────────────┼─────────┼─────────┼───────┤\n",
       "│ 0 │ ns    │   919.1   │    2.0    │            │            │    0    │         │       │\n",
       "│ 1 │ mu    │   0.484   │   0.005   │            │            │    0    │    1    │       │\n",
       "│ 2 │ sigma │   0.094   │   0.004   │            │            │    0    │         │       │\n",
       "│ 3 │ nb    │ 1.5179e3  │ 0.0020e3  │            │            │    0    │         │       │\n",
       "│ 4 │ slope │ 1.3171e3  │ 0.0020e3  │            │            │    0    │         │       │\n",
       "└───┴───────┴───────────┴───────────┴────────────┴────────────┴─────────┴─────────┴───────┘\n",
       "┌───────┬───────────────────────────────────────────────────┐\n",
       "│       │        ns        mu     sigma        nb     slope │\n",
       "├───────┼───────────────────────────────────────────────────┤\n",
       "│    ns │      3.99 -5.53e-05  0.000141  -0.00482  1.86e-07 │\n",
       "│    mu │ -5.53e-05  2.47e-05 -5.01e-06  3.36e-05 -3.24e-08 │\n",
       "│ sigma │  0.000141 -5.01e-06  1.68e-05 -8.58e-05  1.19e-08 │\n",
       "│    nb │  -0.00482  3.36e-05 -8.58e-05      3.99 -1.13e-07 │\n",
       "│ slope │  1.86e-07 -3.24e-08  1.19e-08 -1.13e-07         4 │\n",
       "└───────┴───────────────────────────────────────────────────┘"
      ]
     },
     "execution_count": 186,
     "metadata": {},
     "output_type": "execute_result"
    }
   ],
   "source": [
    "m = Minuit(nll, ns=1, mu=0.5, sigma=0.1, nb=1, slope=1)\n",
    "\n",
    "m.limits[\"ns\", \"nb\", \"sigma\", \"slope\"] = (0, None)\n",
    "m.limits[\"mu\"] = (0, 1)  # not strictly necessary\n",
    "\n",
    "m.migrad()"
   ]
  },
  {
   "cell_type": "markdown",
   "metadata": {},
   "source": [
    "* Fit converged but chi2/ndof = 4.5 looks bad, should be around 1"
   ]
  },
  {
   "cell_type": "code",
   "execution_count": 187,
   "metadata": {},
   "outputs": [
    {
     "data": {
      "image/png": "[encoded data removed]",
      "text/plain": [
       "<Figure size 432x288 with 1 Axes>"
      ]
     },
     "metadata": {
      "needs_background": "light"
     },
     "output_type": "display_data"
    }
   ],
   "source": [
    "nll.visualize(m.values)"
   ]
  },
  {
   "cell_type": "code",
   "execution_count": 188,
   "metadata": {},
   "outputs": [
    {
     "data": {
      "image/png": "[encoded data removed]",
      "text/plain": [
       "<Figure size 432x288 with 1 Axes>"
      ]
     },
     "metadata": {
      "needs_background": "light"
     },
     "output_type": "display_data"
    }
   ],
   "source": [
    "m.draw_profile(\"ns\");"
   ]
  },
  {
   "cell_type": "code",
   "execution_count": 189,
   "metadata": {},
   "outputs": [
    {
     "data": {
      "image/png": "[encoded data removed]",
      "text/plain": [
       "<Figure size 432x288 with 1 Axes>"
      ]
     },
     "metadata": {
      "needs_background": "light"
     },
     "output_type": "display_data"
    }
   ],
   "source": [
    "m.draw_profile(\"slope\");"
   ]
  },
  {
   "cell_type": "markdown",
   "metadata": {},
   "source": [
    "* Fit \"converged\", although slope is not in a minimum\n",
    "* Fix this by making limit on slope more tight"
   ]
  },
  {
   "cell_type": "code",
   "execution_count": 190,
   "metadata": {},
   "outputs": [
    {
     "data": {
      "text/html": [
       "<table>\n",
       "    <tr>\n",
       "        <th colspan=\"5\" style=\"text-align:center\" title=\"Minimizer\"> Migrad </th>\n",
       "    </tr>\n",
       "    <tr>\n",
       "        <td colspan=\"2\" style=\"text-align:left\" title=\"Minimum value of function\"> FCN = 40.6 (chi2/ndof = 0.9) </td>\n",
       "        <td colspan=\"3\" style=\"text-align:center\" title=\"Total number of function and (optional) gradient evaluations\"> Nfcn = 744 </td>\n",
       "    </tr>\n",
       "    <tr>\n",
       "        <td colspan=\"2\" style=\"text-align:left\" title=\"Estimated distance to minimum and goal\"> EDM = 3.19e-05 (Goal: 0.0002) </td>\n",
       "        <td colspan=\"3\" style=\"text-align:center\" title=\"Total run time of algorithms\">  </td>\n",
       "    </tr>\n",
       "    <tr>\n",
       "        <td colspan=\"2\" style=\"text-align:center;background-color:#92CCA6;color:black\"> Valid Minimum </td>\n",
       "        <td colspan=\"3\" style=\"text-align:center;background-color:#92CCA6;color:black\"> No Parameters at limit </td>\n",
       "    </tr>\n",
       "    <tr>\n",
       "        <td colspan=\"2\" style=\"text-align:center;background-color:#92CCA6;color:black\"> Below EDM threshold (goal x 10) </td>\n",
       "        <td colspan=\"3\" style=\"text-align:center;background-color:#92CCA6;color:black\"> Below call limit </td>\n",
       "    </tr>\n",
       "    <tr>\n",
       "        <td style=\"text-align:center;background-color:#92CCA6;color:black\"> Covariance </td>\n",
       "        <td style=\"text-align:center;background-color:#92CCA6;color:black\"> Hesse ok </td>\n",
       "        <td style=\"text-align:center;background-color:#92CCA6;color:black\" title=\"Is covariance matrix accurate?\"> Accurate </td>\n",
       "        <td style=\"text-align:center;background-color:#92CCA6;color:black\" title=\"Is covariance matrix positive definite?\"> Pos. def. </td>\n",
       "        <td style=\"text-align:center;background-color:#92CCA6;color:black\" title=\"Was positive definiteness enforced by Minuit?\"> Not forced </td>\n",
       "    </tr>\n",
       "</table><table>\n",
       "    <tr>\n",
       "        <td></td>\n",
       "        <th title=\"Variable name\"> Name </th>\n",
       "        <th title=\"Value of parameter\"> Value </th>\n",
       "        <th title=\"Hesse error\"> Hesse Error </th>\n",
       "        <th title=\"Minos lower error\"> Minos Error- </th>\n",
       "        <th title=\"Minos upper error\"> Minos Error+ </th>\n",
       "        <th title=\"Lower limit of the parameter\"> Limit- </th>\n",
       "        <th title=\"Upper limit of the parameter\"> Limit+ </th>\n",
       "        <th title=\"Is the parameter fixed in the fit\"> Fixed </th>\n",
       "    </tr>\n",
       "    <tr>\n",
       "        <th> 0 </th>\n",
       "        <td> ns </td>\n",
       "        <td> 950 </td>\n",
       "        <td> 50 </td>\n",
       "        <td>  </td>\n",
       "        <td>  </td>\n",
       "        <td> 0 </td>\n",
       "        <td>  </td>\n",
       "        <td>  </td>\n",
       "    </tr>\n",
       "    <tr>\n",
       "        <th> 1 </th>\n",
       "        <td> mu </td>\n",
       "        <td> 0.498 </td>\n",
       "        <td> 0.005 </td>\n",
       "        <td>  </td>\n",
       "        <td>  </td>\n",
       "        <td> 0 </td>\n",
       "        <td> 1 </td>\n",
       "        <td>  </td>\n",
       "    </tr>\n",
       "    <tr>\n",
       "        <th> 2 </th>\n",
       "        <td> sigma </td>\n",
       "        <td> 0.093 </td>\n",
       "        <td> 0.005 </td>\n",
       "        <td>  </td>\n",
       "        <td>  </td>\n",
       "        <td> 0 </td>\n",
       "        <td>  </td>\n",
       "        <td>  </td>\n",
       "    </tr>\n",
       "    <tr>\n",
       "        <th> 3 </th>\n",
       "        <td> nb </td>\n",
       "        <td> 1.49e3 </td>\n",
       "        <td> 0.05e3 </td>\n",
       "        <td>  </td>\n",
       "        <td>  </td>\n",
       "        <td> 0 </td>\n",
       "        <td>  </td>\n",
       "        <td>  </td>\n",
       "    </tr>\n",
       "    <tr>\n",
       "        <th> 4 </th>\n",
       "        <td> slope </td>\n",
       "        <td> 0.81 </td>\n",
       "        <td> 0.07 </td>\n",
       "        <td>  </td>\n",
       "        <td>  </td>\n",
       "        <td> 0 </td>\n",
       "        <td> 2 </td>\n",
       "        <td>  </td>\n",
       "    </tr>\n",
       "</table><table>\n",
       "    <tr>\n",
       "        <td></td>\n",
       "        <th> ns </th>\n",
       "        <th> mu </th>\n",
       "        <th> sigma </th>\n",
       "        <th> nb </th>\n",
       "        <th> slope </th>\n",
       "    </tr>\n",
       "    <tr>\n",
       "        <th> ns </th>\n",
       "        <td> 2.45e+03 </td>\n",
       "        <td style=\"background-color:rgb(237,237,250);color:black\"> -0.0228 <strong>(-0.097)</strong> </td>\n",
       "        <td style=\"background-color:rgb(250,177,177);color:black\"> 0.108 <strong>(0.484)</strong> </td>\n",
       "        <td style=\"background-color:rgb(178,178,250);color:black\"> -1.5e+03 <strong>(-0.554)</strong> </td>\n",
       "        <td style=\"background-color:rgb(222,222,250);color:black\"> -0.716 <strong>(-0.216)</strong> </td>\n",
       "    </tr>\n",
       "    <tr>\n",
       "        <th> mu </th>\n",
       "        <td style=\"background-color:rgb(237,237,250);color:black\"> -0.0228 <strong>(-0.097)</strong> </td>\n",
       "        <td> 2.26e-05 </td>\n",
       "        <td style=\"background-color:rgb(233,233,250);color:black\"> -2.86e-06 <strong>(-0.134)</strong> </td>\n",
       "        <td style=\"background-color:rgb(250,237,237);color:black\"> 0.0228 <strong>(0.088)</strong> </td>\n",
       "        <td style=\"background-color:rgb(226,226,250);color:black\"> -6.01e-05 <strong>(-0.188)</strong> </td>\n",
       "    </tr>\n",
       "    <tr>\n",
       "        <th> sigma </th>\n",
       "        <td style=\"background-color:rgb(250,177,177);color:black\"> 0.108 <strong>(0.484)</strong> </td>\n",
       "        <td style=\"background-color:rgb(233,233,250);color:black\"> -2.86e-06 <strong>(-0.134)</strong> </td>\n",
       "        <td> 2.02e-05 </td>\n",
       "        <td style=\"background-color:rgb(193,193,250);color:black\"> -0.108 <strong>(-0.438)</strong> </td>\n",
       "        <td style=\"background-color:rgb(231,231,250);color:black\"> -4.48e-05 <strong>(-0.149)</strong> </td>\n",
       "    </tr>\n",
       "    <tr>\n",
       "        <th> nb </th>\n",
       "        <td style=\"background-color:rgb(178,178,250);color:black\"> -1.5e+03 <strong>(-0.554)</strong> </td>\n",
       "        <td style=\"background-color:rgb(250,237,237);color:black\"> 0.0228 <strong>(0.088)</strong> </td>\n",
       "        <td style=\"background-color:rgb(193,193,250);color:black\"> -0.108 <strong>(-0.438)</strong> </td>\n",
       "        <td> 2.99e+03 </td>\n",
       "        <td style=\"background-color:rgb(250,221,221);color:black\"> 0.716 <strong>(0.195)</strong> </td>\n",
       "    </tr>\n",
       "    <tr>\n",
       "        <th> slope </th>\n",
       "        <td style=\"background-color:rgb(222,222,250);color:black\"> -0.716 <strong>(-0.216)</strong> </td>\n",
       "        <td style=\"background-color:rgb(226,226,250);color:black\"> -6.01e-05 <strong>(-0.188)</strong> </td>\n",
       "        <td style=\"background-color:rgb(231,231,250);color:black\"> -4.48e-05 <strong>(-0.149)</strong> </td>\n",
       "        <td style=\"background-color:rgb(250,221,221);color:black\"> 0.716 <strong>(0.195)</strong> </td>\n",
       "        <td> 0.0045 </td>\n",
       "    </tr>\n",
       "</table>"
      ],
      "text/plain": [
       "┌─────────────────────────────────────────────────────────────────────────┐\n",
       "│                                Migrad                                   │\n",
       "├──────────────────────────────────┬──────────────────────────────────────┤\n",
       "│ FCN = 40.6 (chi2/ndof = 0.9)     │              Nfcn = 744              │\n",
       "│ EDM = 3.19e-05 (Goal: 0.0002)    │                                      │\n",
       "├──────────────────────────────────┼──────────────────────────────────────┤\n",
       "│          Valid Minimum           │        No Parameters at limit        │\n",
       "├──────────────────────────────────┼──────────────────────────────────────┤\n",
       "│ Below EDM threshold (goal x 10)  │           Below call limit           │\n",
       "├───────────────┬──────────────────┼───────────┬─────────────┬────────────┤\n",
       "│  Covariance   │     Hesse ok     │ Accurate  │  Pos. def.  │ Not forced │\n",
       "└───────────────┴──────────────────┴───────────┴─────────────┴────────────┘\n",
       "┌───┬───────┬───────────┬───────────┬────────────┬────────────┬─────────┬─────────┬───────┐\n",
       "│   │ Name  │   Value   │ Hesse Err │ Minos Err- │ Minos Err+ │ Limit-  │ Limit+  │ Fixed │\n",
       "├───┼───────┼───────────┼───────────┼────────────┼────────────┼─────────┼─────────┼───────┤\n",
       "│ 0 │ ns    │    950    │    50     │            │            │    0    │         │       │\n",
       "│ 1 │ mu    │   0.498   │   0.005   │            │            │    0    │    1    │       │\n",
       "│ 2 │ sigma │   0.093   │   0.005   │            │            │    0    │         │       │\n",
       "│ 3 │ nb    │  1.49e3   │  0.05e3   │            │            │    0    │         │       │\n",
       "│ 4 │ slope │   0.81    │   0.07    │            │            │    0    │    2    │       │\n",
       "└───┴───────┴───────────┴───────────┴────────────┴────────────┴─────────┴─────────┴───────┘\n",
       "┌───────┬───────────────────────────────────────────────────┐\n",
       "│       │        ns        mu     sigma        nb     slope │\n",
       "├───────┼───────────────────────────────────────────────────┤\n",
       "│    ns │  2.45e+03   -0.0228     0.108  -1.5e+03    -0.716 │\n",
       "│    mu │   -0.0228  2.26e-05 -2.86e-06    0.0228 -6.01e-05 │\n",
       "│ sigma │     0.108 -2.86e-06  2.02e-05    -0.108 -4.48e-05 │\n",
       "│    nb │  -1.5e+03    0.0228    -0.108  2.99e+03     0.716 │\n",
       "│ slope │    -0.716 -6.01e-05 -4.48e-05     0.716    0.0045 │\n",
       "└───────┴───────────────────────────────────────────────────┘"
      ]
     },
     "execution_count": 190,
     "metadata": {},
     "output_type": "execute_result"
    }
   ],
   "source": [
    "m.limits[\"slope\"] = (0, 2)\n",
    "m.migrad()"
   ]
  },
  {
   "cell_type": "code",
   "execution_count": 191,
   "metadata": {},
   "outputs": [
    {
     "data": {
      "image/png": "[encoded data removed]",
      "text/plain": [
       "<Figure size 432x288 with 1 Axes>"
      ]
     },
     "metadata": {
      "needs_background": "light"
     },
     "output_type": "display_data"
    }
   ],
   "source": [
    "nll.visualize(m.values)"
   ]
  },
  {
   "cell_type": "code",
   "execution_count": 192,
   "metadata": {},
   "outputs": [
    {
     "name": "stderr",
     "output_type": "stream",
     "text": [
      "N/A% (0 of 15) |                         | Elapsed Time: 0:00:00 ETA:  --:--:--\n",
      " 20% (3 of 15) |#####                    | Elapsed Time: 0:00:00 ETA:   0:00:01\n",
      " 26% (4 of 15) |######                   | Elapsed Time: 0:00:00 ETA:   0:00:01\n",
      " 33% (5 of 15) |########                 | Elapsed Time: 0:00:00 ETA:   0:00:01\n",
      " 40% (6 of 15) |##########               | Elapsed Time: 0:00:00 ETA:   0:00:01\n",
      " 46% (7 of 15) |###########              | Elapsed Time: 0:00:00 ETA:   0:00:01\n",
      " 53% (8 of 15) |#############            | Elapsed Time: 0:00:01 ETA:   0:00:01\n",
      " 60% (9 of 15) |###############          | Elapsed Time: 0:00:01 ETA:   0:00:01\n",
      " 66% (10 of 15) |################        | Elapsed Time: 0:00:01 ETA:   0:00:00\n",
      " 73% (11 of 15) |#################       | Elapsed Time: 0:00:01 ETA:   0:00:00\n",
      " 80% (12 of 15) |###################     | Elapsed Time: 0:00:02 ETA:   0:00:00\n",
      " 86% (13 of 15) |####################    | Elapsed Time: 0:00:02 ETA:   0:00:00\n",
      " 93% (14 of 15) |######################  | Elapsed Time: 0:00:02 ETA:   0:00:00\n",
      "100% (15 of 15) |########################| Elapsed Time: 0:00:02 ETA:  00:00:00\n",
      "100% (15 of 15) |########################| Elapsed Time: 0:00:02 Time:  0:00:02\n"
     ]
    },
    {
     "data": {
      "image/png": "[encoded data removed]",
      "text/plain": [
       "<Figure size 720x504 with 25 Axes>"
      ]
     },
     "metadata": {
      "needs_background": "light"
     },
     "output_type": "display_data"
    }
   ],
   "source": [
    "m.draw_mnmatrix(figsize=(10, 7));"
   ]
  },
  {
   "cell_type": "markdown",
   "metadata": {},
   "source": [
    "#### Model parameters are not constrained by data\n",
    "\n",
    "- Data may not be precise enough to constrain all model parameters\n",
    "- Model may be ambiguous, e.g. $f(x) = a + b + c \\, x^2$\n",
    "- Leads to parameters that are perfectly (anti)correlated\n",
    "- Cannot compute covariance matrix (inverse of Hessian), if Hessian does not have full rank"
   ]
  },
  {
   "cell_type": "code",
   "execution_count": 193,
   "metadata": {},
   "outputs": [
    {
     "data": {
      "text/html": [
       "<table>\n",
       "    <tr>\n",
       "        <th colspan=\"5\" style=\"text-align:center\" title=\"Minimizer\"> Migrad </th>\n",
       "    </tr>\n",
       "    <tr>\n",
       "        <td colspan=\"2\" style=\"text-align:left\" title=\"Minimum value of function\"> FCN = 694.8 (chi2/ndof = 16.2) </td>\n",
       "        <td colspan=\"3\" style=\"text-align:center\" title=\"Total number of function and (optional) gradient evaluations\"> Nfcn = 1118 </td>\n",
       "    </tr>\n",
       "    <tr>\n",
       "        <td colspan=\"2\" style=\"text-align:left\" title=\"Estimated distance to minimum and goal\"> EDM = 3.37e-10 (Goal: 0.0002) </td>\n",
       "        <td colspan=\"3\" style=\"text-align:center\" title=\"Total run time of algorithms\"> time = 0.1 sec </td>\n",
       "    </tr>\n",
       "    <tr>\n",
       "        <td colspan=\"2\" style=\"text-align:center;background-color:#c15ef7;color:black\"> INVALID Minimum </td>\n",
       "        <td colspan=\"3\" style=\"text-align:center;background-color:#92CCA6;color:black\"> No Parameters at limit </td>\n",
       "    </tr>\n",
       "    <tr>\n",
       "        <td colspan=\"2\" style=\"text-align:center;background-color:#92CCA6;color:black\"> Below EDM threshold (goal x 10) </td>\n",
       "        <td colspan=\"3\" style=\"text-align:center;background-color:#92CCA6;color:black\"> Below call limit </td>\n",
       "    </tr>\n",
       "    <tr>\n",
       "        <td style=\"text-align:center;background-color:#92CCA6;color:black\"> Covariance </td>\n",
       "        <td style=\"text-align:center;background-color:#c15ef7;color:black\"> Hesse FAILED </td>\n",
       "        <td style=\"text-align:center;background-color:#FFF79A;color:black\" title=\"Is covariance matrix accurate?\"> APPROXIMATE </td>\n",
       "        <td style=\"text-align:center;background-color:#c15ef7;color:black\" title=\"Is covariance matrix positive definite?\"> NOT pos. def. </td>\n",
       "        <td style=\"text-align:center;background-color:#92CCA6;color:black\" title=\"Was positive definiteness enforced by Minuit?\"> Not forced </td>\n",
       "    </tr>\n",
       "</table><table>\n",
       "    <tr>\n",
       "        <td></td>\n",
       "        <th title=\"Variable name\"> Name </th>\n",
       "        <th title=\"Value of parameter\"> Value </th>\n",
       "        <th title=\"Hesse error\"> Hesse Error </th>\n",
       "        <th title=\"Minos lower error\"> Minos Error- </th>\n",
       "        <th title=\"Minos upper error\"> Minos Error+ </th>\n",
       "        <th title=\"Lower limit of the parameter\"> Limit- </th>\n",
       "        <th title=\"Upper limit of the parameter\"> Limit+ </th>\n",
       "        <th title=\"Is the parameter fixed in the fit\"> Fixed </th>\n",
       "    </tr>\n",
       "    <tr>\n",
       "        <th> 0 </th>\n",
       "        <td> ns </td>\n",
       "        <td> 4.8263e-9 </td>\n",
       "        <td> 0.0000e-9 </td>\n",
       "        <td>  </td>\n",
       "        <td>  </td>\n",
       "        <td> 0 </td>\n",
       "        <td>  </td>\n",
       "        <td>  </td>\n",
       "    </tr>\n",
       "    <tr>\n",
       "        <th> 1 </th>\n",
       "        <td> mu </td>\n",
       "        <td> 8.5436e-1 </td>\n",
       "        <td> 0.0000e-1 </td>\n",
       "        <td>  </td>\n",
       "        <td>  </td>\n",
       "        <td> 0 </td>\n",
       "        <td> 1 </td>\n",
       "        <td>  </td>\n",
       "    </tr>\n",
       "    <tr>\n",
       "        <th> 2 </th>\n",
       "        <td> sigma </td>\n",
       "        <td> 1.8477e5 </td>\n",
       "        <td> 0.0000e5 </td>\n",
       "        <td>  </td>\n",
       "        <td>  </td>\n",
       "        <td> 0 </td>\n",
       "        <td>  </td>\n",
       "        <td>  </td>\n",
       "    </tr>\n",
       "    <tr>\n",
       "        <th> 3 </th>\n",
       "        <td> nb1 </td>\n",
       "        <td> 7.7481e2 </td>\n",
       "        <td> 0.0000e2 </td>\n",
       "        <td>  </td>\n",
       "        <td>  </td>\n",
       "        <td> 0 </td>\n",
       "        <td>  </td>\n",
       "        <td>  </td>\n",
       "    </tr>\n",
       "    <tr>\n",
       "        <th> 4 </th>\n",
       "        <td> slope1 </td>\n",
       "        <td> 1.3316 </td>\n",
       "        <td> 0.0000 </td>\n",
       "        <td>  </td>\n",
       "        <td>  </td>\n",
       "        <td> 0 </td>\n",
       "        <td> 2 </td>\n",
       "        <td>  </td>\n",
       "    </tr>\n",
       "    <tr>\n",
       "        <th> 5 </th>\n",
       "        <td> nb2 </td>\n",
       "        <td> 1.6622e3 </td>\n",
       "        <td> 0.0000e3 </td>\n",
       "        <td>  </td>\n",
       "        <td>  </td>\n",
       "        <td> 0 </td>\n",
       "        <td>  </td>\n",
       "        <td>  </td>\n",
       "    </tr>\n",
       "    <tr>\n",
       "        <th> 6 </th>\n",
       "        <td> slope2 </td>\n",
       "        <td> 1.3317 </td>\n",
       "        <td> 0.0000 </td>\n",
       "        <td>  </td>\n",
       "        <td>  </td>\n",
       "        <td> 0 </td>\n",
       "        <td> 2 </td>\n",
       "        <td>  </td>\n",
       "    </tr>\n",
       "</table>"
      ],
      "text/plain": [
       "┌─────────────────────────────────────────────────────────────────────────┐\n",
       "│                                Migrad                                   │\n",
       "├──────────────────────────────────┬──────────────────────────────────────┤\n",
       "│ FCN = 694.8 (chi2/ndof = 16.2)   │             Nfcn = 1118              │\n",
       "│ EDM = 3.37e-10 (Goal: 0.0002)    │            time = 0.1 sec            │\n",
       "├──────────────────────────────────┼──────────────────────────────────────┤\n",
       "│         INVALID Minimum          │        No Parameters at limit        │\n",
       "├──────────────────────────────────┼──────────────────────────────────────┤\n",
       "│ Below EDM threshold (goal x 10)  │           Below call limit           │\n",
       "├───────────────┬──────────────────┼───────────┬─────────────┬────────────┤\n",
       "│  Covariance   │   Hesse FAILED   │APPROXIMATE│NOT pos. def.│ Not forced │\n",
       "└───────────────┴──────────────────┴───────────┴─────────────┴────────────┘\n",
       "┌───┬────────┬───────────┬───────────┬────────────┬────────────┬─────────┬─────────┬───────┐\n",
       "│   │ Name   │   Value   │ Hesse Err │ Minos Err- │ Minos Err+ │ Limit-  │ Limit+  │ Fixed │\n",
       "├───┼────────┼───────────┼───────────┼────────────┼────────────┼─────────┼─────────┼───────┤\n",
       "│ 0 │ ns     │ 4.8263e-9 │ 0.0000e-9 │            │            │    0    │         │       │\n",
       "│ 1 │ mu     │ 8.5436e-1 │ 0.0000e-1 │            │            │    0    │    1    │       │\n",
       "│ 2 │ sigma  │ 1.8477e5  │ 0.0000e5  │            │            │    0    │         │       │\n",
       "│ 3 │ nb1    │ 7.7481e2  │ 0.0000e2  │            │            │    0    │         │       │\n",
       "│ 4 │ slope1 │  1.3316   │  0.0000   │            │            │    0    │    2    │       │\n",
       "│ 5 │ nb2    │ 1.6622e3  │ 0.0000e3  │            │            │    0    │         │       │\n",
       "│ 6 │ slope2 │  1.3317   │  0.0000   │            │            │    0    │    2    │       │\n",
       "└───┴────────┴───────────┴───────────┴────────────┴────────────┴─────────┴─────────┴───────┘"
      ]
     },
     "execution_count": 193,
     "metadata": {},
     "output_type": "execute_result"
    }
   ],
   "source": [
    "# add another background component to model to create ambiguity\n",
    "def model(x, ns, mu, sigma, nb1, slope1, nb2, slope2):\n",
    "    s = ns * truncnorm.cdf(x, *data.range, mu, sigma)\n",
    "    b1 = nb1 * truncexpon.cdf(x, *data.range, 0, slope1)\n",
    "    b2 = nb2 * truncexpon.cdf(x, *data.range, 0, slope2)\n",
    "    return s + b1 + b2\n",
    "\n",
    "nll = cost.ExtendedBinnedNLL(data.n, data.edges, model)\n",
    "\n",
    "m = Minuit(nll, ns=1, mu=0.5, sigma=0.1, nb1=1, slope1=1, nb2=1, slope2=0.1)\n",
    "m.limits[\"ns\", \"nb1\", \"nb2\", \"sigma\"] = (0, None)\n",
    "m.limits[\"mu\"] = (0, 1)\n",
    "m.limits[\"slope1\", \"slope2\"] = (0, 2)\n",
    "m.migrad()"
   ]
  },
  {
   "cell_type": "code",
   "execution_count": 194,
   "metadata": {},
   "outputs": [
    {
     "data": {
      "image/png": "[encoded data removed]",
      "text/plain": [
       "<Figure size 432x288 with 1 Axes>"
      ]
     },
     "metadata": {
      "needs_background": "light"
     },
     "output_type": "display_data"
    }
   ],
   "source": [
    "nll.visualize(m.values)"
   ]
  },
  {
   "cell_type": "code",
   "execution_count": 195,
   "metadata": {},
   "outputs": [
    {
     "data": {
      "text/html": [
       "<table>\n",
       "    <tr>\n",
       "        <th colspan=\"5\" style=\"text-align:center\" title=\"Minimizer\"> Migrad </th>\n",
       "    </tr>\n",
       "    <tr>\n",
       "        <td colspan=\"2\" style=\"text-align:left\" title=\"Minimum value of function\"> FCN = 40.6 (chi2/ndof = 0.9) </td>\n",
       "        <td colspan=\"3\" style=\"text-align:center\" title=\"Total number of function and (optional) gradient evaluations\"> Nfcn = 1808 </td>\n",
       "    </tr>\n",
       "    <tr>\n",
       "        <td colspan=\"2\" style=\"text-align:left\" title=\"Estimated distance to minimum and goal\"> EDM = 3.68e-07 (Goal: 0.0002) </td>\n",
       "        <td colspan=\"3\" style=\"text-align:center\" title=\"Total run time of algorithms\">  </td>\n",
       "    </tr>\n",
       "    <tr>\n",
       "        <td colspan=\"2\" style=\"text-align:center;background-color:#c15ef7;color:black\"> INVALID Minimum </td>\n",
       "        <td colspan=\"3\" style=\"text-align:center;background-color:#92CCA6;color:black\"> No Parameters at limit </td>\n",
       "    </tr>\n",
       "    <tr>\n",
       "        <td colspan=\"2\" style=\"text-align:center;background-color:#92CCA6;color:black\"> Below EDM threshold (goal x 10) </td>\n",
       "        <td colspan=\"3\" style=\"text-align:center;background-color:#92CCA6;color:black\"> Below call limit </td>\n",
       "    </tr>\n",
       "    <tr>\n",
       "        <td style=\"text-align:center;background-color:#92CCA6;color:black\"> Covariance </td>\n",
       "        <td style=\"text-align:center;background-color:#c15ef7;color:black\"> Hesse FAILED </td>\n",
       "        <td style=\"text-align:center;background-color:#FFF79A;color:black\" title=\"Is covariance matrix accurate?\"> APPROXIMATE </td>\n",
       "        <td style=\"text-align:center;background-color:#c15ef7;color:black\" title=\"Is covariance matrix positive definite?\"> NOT pos. def. </td>\n",
       "        <td style=\"text-align:center;background-color:#92CCA6;color:black\" title=\"Was positive definiteness enforced by Minuit?\"> Not forced </td>\n",
       "    </tr>\n",
       "</table><table>\n",
       "    <tr>\n",
       "        <td></td>\n",
       "        <th title=\"Variable name\"> Name </th>\n",
       "        <th title=\"Value of parameter\"> Value </th>\n",
       "        <th title=\"Hesse error\"> Hesse Error </th>\n",
       "        <th title=\"Minos lower error\"> Minos Error- </th>\n",
       "        <th title=\"Minos upper error\"> Minos Error+ </th>\n",
       "        <th title=\"Lower limit of the parameter\"> Limit- </th>\n",
       "        <th title=\"Upper limit of the parameter\"> Limit+ </th>\n",
       "        <th title=\"Is the parameter fixed in the fit\"> Fixed </th>\n",
       "    </tr>\n",
       "    <tr>\n",
       "        <th> 0 </th>\n",
       "        <td> ns </td>\n",
       "        <td> 9.5004e2 </td>\n",
       "        <td> 0.0000e2 </td>\n",
       "        <td>  </td>\n",
       "        <td>  </td>\n",
       "        <td> 0 </td>\n",
       "        <td>  </td>\n",
       "        <td>  </td>\n",
       "    </tr>\n",
       "    <tr>\n",
       "        <th> 1 </th>\n",
       "        <td> mu </td>\n",
       "        <td> 4.9776e-1 </td>\n",
       "        <td> 0.0000e-1 </td>\n",
       "        <td>  </td>\n",
       "        <td>  </td>\n",
       "        <td> 0 </td>\n",
       "        <td> 1 </td>\n",
       "        <td>  </td>\n",
       "    </tr>\n",
       "    <tr>\n",
       "        <th> 2 </th>\n",
       "        <td> sigma </td>\n",
       "        <td> 9.3454e-2 </td>\n",
       "        <td> 0.0000e-2 </td>\n",
       "        <td>  </td>\n",
       "        <td>  </td>\n",
       "        <td> 0 </td>\n",
       "        <td>  </td>\n",
       "        <td>  </td>\n",
       "    </tr>\n",
       "    <tr>\n",
       "        <th> 3 </th>\n",
       "        <td> nb1 </td>\n",
       "        <td> 1.487e3 </td>\n",
       "        <td> 0.000e3 </td>\n",
       "        <td>  </td>\n",
       "        <td>  </td>\n",
       "        <td> 0 </td>\n",
       "        <td>  </td>\n",
       "        <td>  </td>\n",
       "    </tr>\n",
       "    <tr>\n",
       "        <th> 4 </th>\n",
       "        <td> slope1 </td>\n",
       "        <td> 8.1152e-1 </td>\n",
       "        <td> 0.0000e-1 </td>\n",
       "        <td>  </td>\n",
       "        <td>  </td>\n",
       "        <td> 0 </td>\n",
       "        <td> 2 </td>\n",
       "        <td>  </td>\n",
       "    </tr>\n",
       "    <tr>\n",
       "        <th> 5 </th>\n",
       "        <td> nb2 </td>\n",
       "        <td> 0 </td>\n",
       "        <td> 0 </td>\n",
       "        <td>  </td>\n",
       "        <td>  </td>\n",
       "        <td> 0 </td>\n",
       "        <td>  </td>\n",
       "        <td> yes </td>\n",
       "    </tr>\n",
       "    <tr>\n",
       "        <th> 6 </th>\n",
       "        <td> slope2 </td>\n",
       "        <td> 1e-1 </td>\n",
       "        <td> 0e-1 </td>\n",
       "        <td>  </td>\n",
       "        <td>  </td>\n",
       "        <td> 0 </td>\n",
       "        <td> 2 </td>\n",
       "        <td>  </td>\n",
       "    </tr>\n",
       "</table>"
      ],
      "text/plain": [
       "┌─────────────────────────────────────────────────────────────────────────┐\n",
       "│                                Migrad                                   │\n",
       "├──────────────────────────────────┬──────────────────────────────────────┤\n",
       "│ FCN = 40.6 (chi2/ndof = 0.9)     │             Nfcn = 1808              │\n",
       "│ EDM = 3.68e-07 (Goal: 0.0002)    │                                      │\n",
       "├──────────────────────────────────┼──────────────────────────────────────┤\n",
       "│         INVALID Minimum          │        No Parameters at limit        │\n",
       "├──────────────────────────────────┼──────────────────────────────────────┤\n",
       "│ Below EDM threshold (goal x 10)  │           Below call limit           │\n",
       "├───────────────┬──────────────────┼───────────┬─────────────┬────────────┤\n",
       "│  Covariance   │   Hesse FAILED   │APPROXIMATE│NOT pos. def.│ Not forced │\n",
       "└───────────────┴──────────────────┴───────────┴─────────────┴────────────┘\n",
       "┌───┬────────┬───────────┬───────────┬────────────┬────────────┬─────────┬─────────┬───────┐\n",
       "│   │ Name   │   Value   │ Hesse Err │ Minos Err- │ Minos Err+ │ Limit-  │ Limit+  │ Fixed │\n",
       "├───┼────────┼───────────┼───────────┼────────────┼────────────┼─────────┼─────────┼───────┤\n",
       "│ 0 │ ns     │ 9.5004e2  │ 0.0000e2  │            │            │    0    │         │       │\n",
       "│ 1 │ mu     │ 4.9776e-1 │ 0.0000e-1 │            │            │    0    │    1    │       │\n",
       "│ 2 │ sigma  │ 9.3454e-2 │ 0.0000e-2 │            │            │    0    │         │       │\n",
       "│ 3 │ nb1    │  1.487e3  │  0.000e3  │            │            │    0    │         │       │\n",
       "│ 4 │ slope1 │ 8.1152e-1 │ 0.0000e-1 │            │            │    0    │    2    │       │\n",
       "│ 5 │ nb2    │     0     │     0     │            │            │    0    │         │  yes  │\n",
       "│ 6 │ slope2 │   1e-1    │   0e-1    │            │            │    0    │    2    │       │\n",
       "└───┴────────┴───────────┴───────────┴────────────┴────────────┴─────────┴─────────┴───────┘"
      ]
     },
     "execution_count": 195,
     "metadata": {},
     "output_type": "execute_result"
    }
   ],
   "source": [
    "# resolve ambiguity by fixing nb2 to 0... but forget to fix slope2, too\n",
    "m.values = [p.value for p in m.init_params]\n",
    "m.values[\"nb2\"] = 0\n",
    "m.fixed[\"nb2\"] = True\n",
    "m.migrad()"
   ]
  },
  {
   "cell_type": "code",
   "execution_count": 196,
   "metadata": {},
   "outputs": [
    {
     "data": {
      "image/png": "[encoded data removed]",
      "text/plain": [
       "<Figure size 432x288 with 1 Axes>"
      ]
     },
     "metadata": {
      "needs_background": "light"
     },
     "output_type": "display_data"
    }
   ],
   "source": [
    "nll.visualize(m.values)"
   ]
  },
  {
   "cell_type": "markdown",
   "metadata": {},
   "source": [
    "* Fit converged (we were lucky), but errors are wrong since Hesse failed\n",
    "* `slope2` not constrained by data now, since `nb2 = 0`\n",
    "* Fixing `slope2` resolve the issue"
   ]
  },
  {
   "cell_type": "code",
   "execution_count": 197,
   "metadata": {},
   "outputs": [
    {
     "data": {
      "text/html": [
       "<table>\n",
       "    <tr>\n",
       "        <th colspan=\"5\" style=\"text-align:center\" title=\"Minimizer\"> Migrad </th>\n",
       "    </tr>\n",
       "    <tr>\n",
       "        <td colspan=\"2\" style=\"text-align:left\" title=\"Minimum value of function\"> FCN = 40.56 (chi2/ndof = 0.9) </td>\n",
       "        <td colspan=\"3\" style=\"text-align:center\" title=\"Total number of function and (optional) gradient evaluations\"> Nfcn = 2136 </td>\n",
       "    </tr>\n",
       "    <tr>\n",
       "        <td colspan=\"2\" style=\"text-align:left\" title=\"Estimated distance to minimum and goal\"> EDM = 2.02e-05 (Goal: 0.0002) </td>\n",
       "        <td colspan=\"3\" style=\"text-align:center\" title=\"Total run time of algorithms\">  </td>\n",
       "    </tr>\n",
       "    <tr>\n",
       "        <td colspan=\"2\" style=\"text-align:center;background-color:#92CCA6;color:black\"> Valid Minimum </td>\n",
       "        <td colspan=\"3\" style=\"text-align:center;background-color:#92CCA6;color:black\"> No Parameters at limit </td>\n",
       "    </tr>\n",
       "    <tr>\n",
       "        <td colspan=\"2\" style=\"text-align:center;background-color:#92CCA6;color:black\"> Below EDM threshold (goal x 10) </td>\n",
       "        <td colspan=\"3\" style=\"text-align:center;background-color:#92CCA6;color:black\"> Below call limit </td>\n",
       "    </tr>\n",
       "    <tr>\n",
       "        <td style=\"text-align:center;background-color:#92CCA6;color:black\"> Covariance </td>\n",
       "        <td style=\"text-align:center;background-color:#92CCA6;color:black\"> Hesse ok </td>\n",
       "        <td style=\"text-align:center;background-color:#92CCA6;color:black\" title=\"Is covariance matrix accurate?\"> Accurate </td>\n",
       "        <td style=\"text-align:center;background-color:#92CCA6;color:black\" title=\"Is covariance matrix positive definite?\"> Pos. def. </td>\n",
       "        <td style=\"text-align:center;background-color:#92CCA6;color:black\" title=\"Was positive definiteness enforced by Minuit?\"> Not forced </td>\n",
       "    </tr>\n",
       "</table><table>\n",
       "    <tr>\n",
       "        <td></td>\n",
       "        <th title=\"Variable name\"> Name </th>\n",
       "        <th title=\"Value of parameter\"> Value </th>\n",
       "        <th title=\"Hesse error\"> Hesse Error </th>\n",
       "        <th title=\"Minos lower error\"> Minos Error- </th>\n",
       "        <th title=\"Minos upper error\"> Minos Error+ </th>\n",
       "        <th title=\"Lower limit of the parameter\"> Limit- </th>\n",
       "        <th title=\"Upper limit of the parameter\"> Limit+ </th>\n",
       "        <th title=\"Is the parameter fixed in the fit\"> Fixed </th>\n",
       "    </tr>\n",
       "    <tr>\n",
       "        <th> 0 </th>\n",
       "        <td> ns </td>\n",
       "        <td> 950 </td>\n",
       "        <td> 50 </td>\n",
       "        <td>  </td>\n",
       "        <td>  </td>\n",
       "        <td> 0 </td>\n",
       "        <td>  </td>\n",
       "        <td>  </td>\n",
       "    </tr>\n",
       "    <tr>\n",
       "        <th> 1 </th>\n",
       "        <td> mu </td>\n",
       "        <td> 0.498 </td>\n",
       "        <td> 0.005 </td>\n",
       "        <td>  </td>\n",
       "        <td>  </td>\n",
       "        <td> 0 </td>\n",
       "        <td> 1 </td>\n",
       "        <td>  </td>\n",
       "    </tr>\n",
       "    <tr>\n",
       "        <th> 2 </th>\n",
       "        <td> sigma </td>\n",
       "        <td> 0.093 </td>\n",
       "        <td> 0.005 </td>\n",
       "        <td>  </td>\n",
       "        <td>  </td>\n",
       "        <td> 0 </td>\n",
       "        <td>  </td>\n",
       "        <td>  </td>\n",
       "    </tr>\n",
       "    <tr>\n",
       "        <th> 3 </th>\n",
       "        <td> nb1 </td>\n",
       "        <td> 1.49e3 </td>\n",
       "        <td> 0.05e3 </td>\n",
       "        <td>  </td>\n",
       "        <td>  </td>\n",
       "        <td> 0 </td>\n",
       "        <td>  </td>\n",
       "        <td>  </td>\n",
       "    </tr>\n",
       "    <tr>\n",
       "        <th> 4 </th>\n",
       "        <td> slope1 </td>\n",
       "        <td> 0.81 </td>\n",
       "        <td> 0.07 </td>\n",
       "        <td>  </td>\n",
       "        <td>  </td>\n",
       "        <td> 0 </td>\n",
       "        <td> 2 </td>\n",
       "        <td>  </td>\n",
       "    </tr>\n",
       "    <tr>\n",
       "        <th> 5 </th>\n",
       "        <td> nb2 </td>\n",
       "        <td> 1 </td>\n",
       "        <td> 0 </td>\n",
       "        <td>  </td>\n",
       "        <td>  </td>\n",
       "        <td> 0 </td>\n",
       "        <td>  </td>\n",
       "        <td> yes </td>\n",
       "    </tr>\n",
       "    <tr>\n",
       "        <th> 6 </th>\n",
       "        <td> slope2 </td>\n",
       "        <td> 1e-1 </td>\n",
       "        <td> 0e-1 </td>\n",
       "        <td>  </td>\n",
       "        <td>  </td>\n",
       "        <td> 0 </td>\n",
       "        <td> 2 </td>\n",
       "        <td> yes </td>\n",
       "    </tr>\n",
       "</table><table>\n",
       "    <tr>\n",
       "        <td></td>\n",
       "        <th> ns </th>\n",
       "        <th> mu </th>\n",
       "        <th> sigma </th>\n",
       "        <th> nb1 </th>\n",
       "        <th> slope1 </th>\n",
       "        <th> nb2 </th>\n",
       "        <th> slope2 </th>\n",
       "    </tr>\n",
       "    <tr>\n",
       "        <th> ns </th>\n",
       "        <td> 2.45e+03 </td>\n",
       "        <td style=\"background-color:rgb(237,237,250);color:black\"> -0.0228 <strong>(-0.097)</strong> </td>\n",
       "        <td style=\"background-color:rgb(250,177,177);color:black\"> 0.108 <strong>(0.484)</strong> </td>\n",
       "        <td style=\"background-color:rgb(178,178,250);color:black\"> -1.5e+03 <strong>(-0.554)</strong> </td>\n",
       "        <td style=\"background-color:rgb(222,222,250);color:black\"> -0.716 <strong>(-0.215)</strong> </td>\n",
       "        <td style=\"background-color:rgb(250,250,250);color:black\"> 0 </td>\n",
       "        <td style=\"background-color:rgb(250,250,250);color:black\"> 0 </td>\n",
       "    </tr>\n",
       "    <tr>\n",
       "        <th> mu </th>\n",
       "        <td style=\"background-color:rgb(237,237,250);color:black\"> -0.0228 <strong>(-0.097)</strong> </td>\n",
       "        <td> 2.26e-05 </td>\n",
       "        <td style=\"background-color:rgb(233,233,250);color:black\"> -2.87e-06 <strong>(-0.134)</strong> </td>\n",
       "        <td style=\"background-color:rgb(250,237,237);color:black\"> 0.0229 <strong>(0.088)</strong> </td>\n",
       "        <td style=\"background-color:rgb(225,225,250);color:black\"> -6.05e-05 <strong>(-0.189)</strong> </td>\n",
       "        <td style=\"background-color:rgb(250,250,250);color:black\"> 0 </td>\n",
       "        <td style=\"background-color:rgb(250,250,250);color:black\"> 0 </td>\n",
       "    </tr>\n",
       "    <tr>\n",
       "        <th> sigma </th>\n",
       "        <td style=\"background-color:rgb(250,177,177);color:black\"> 0.108 <strong>(0.484)</strong> </td>\n",
       "        <td style=\"background-color:rgb(233,233,250);color:black\"> -2.87e-06 <strong>(-0.134)</strong> </td>\n",
       "        <td> 2.02e-05 </td>\n",
       "        <td style=\"background-color:rgb(193,193,250);color:black\"> -0.108 <strong>(-0.439)</strong> </td>\n",
       "        <td style=\"background-color:rgb(231,231,250);color:black\"> -4.48e-05 <strong>(-0.148)</strong> </td>\n",
       "        <td style=\"background-color:rgb(250,250,250);color:black\"> 0 </td>\n",
       "        <td style=\"background-color:rgb(250,250,250);color:black\"> 0 </td>\n",
       "    </tr>\n",
       "    <tr>\n",
       "        <th> nb1 </th>\n",
       "        <td style=\"background-color:rgb(178,178,250);color:black\"> -1.5e+03 <strong>(-0.554)</strong> </td>\n",
       "        <td style=\"background-color:rgb(250,237,237);color:black\"> 0.0229 <strong>(0.088)</strong> </td>\n",
       "        <td style=\"background-color:rgb(193,193,250);color:black\"> -0.108 <strong>(-0.439)</strong> </td>\n",
       "        <td> 2.99e+03 </td>\n",
       "        <td style=\"background-color:rgb(250,221,221);color:black\"> 0.715 <strong>(0.194)</strong> </td>\n",
       "        <td style=\"background-color:rgb(250,250,250);color:black\"> 0 </td>\n",
       "        <td style=\"background-color:rgb(250,250,250);color:black\"> 0 </td>\n",
       "    </tr>\n",
       "    <tr>\n",
       "        <th> slope1 </th>\n",
       "        <td style=\"background-color:rgb(222,222,250);color:black\"> -0.716 <strong>(-0.215)</strong> </td>\n",
       "        <td style=\"background-color:rgb(225,225,250);color:black\"> -6.05e-05 <strong>(-0.189)</strong> </td>\n",
       "        <td style=\"background-color:rgb(231,231,250);color:black\"> -4.48e-05 <strong>(-0.148)</strong> </td>\n",
       "        <td style=\"background-color:rgb(250,221,221);color:black\"> 0.715 <strong>(0.194)</strong> </td>\n",
       "        <td> 0.00454 </td>\n",
       "        <td style=\"background-color:rgb(250,250,250);color:black\"> 0 </td>\n",
       "        <td style=\"background-color:rgb(250,250,250);color:black\"> 0 </td>\n",
       "    </tr>\n",
       "    <tr>\n",
       "        <th> nb2 </th>\n",
       "        <td style=\"background-color:rgb(250,250,250);color:black\"> 0 </td>\n",
       "        <td style=\"background-color:rgb(250,250,250);color:black\"> 0 </td>\n",
       "        <td style=\"background-color:rgb(250,250,250);color:black\"> 0 </td>\n",
       "        <td style=\"background-color:rgb(250,250,250);color:black\"> 0 </td>\n",
       "        <td style=\"background-color:rgb(250,250,250);color:black\"> 0 </td>\n",
       "        <td> 0 </td>\n",
       "        <td style=\"background-color:rgb(250,250,250);color:black\"> 0 </td>\n",
       "    </tr>\n",
       "    <tr>\n",
       "        <th> slope2 </th>\n",
       "        <td style=\"background-color:rgb(250,250,250);color:black\"> 0 </td>\n",
       "        <td style=\"background-color:rgb(250,250,250);color:black\"> 0 </td>\n",
       "        <td style=\"background-color:rgb(250,250,250);color:black\"> 0 </td>\n",
       "        <td style=\"background-color:rgb(250,250,250);color:black\"> 0 </td>\n",
       "        <td style=\"background-color:rgb(250,250,250);color:black\"> 0 </td>\n",
       "        <td style=\"background-color:rgb(250,250,250);color:black\"> 0 </td>\n",
       "        <td> 0 </td>\n",
       "    </tr>\n",
       "</table>"
      ],
      "text/plain": [
       "┌─────────────────────────────────────────────────────────────────────────┐\n",
       "│                                Migrad                                   │\n",
       "├──────────────────────────────────┬──────────────────────────────────────┤\n",
       "│ FCN = 40.56 (chi2/ndof = 0.9)    │             Nfcn = 2136              │\n",
       "│ EDM = 2.02e-05 (Goal: 0.0002)    │                                      │\n",
       "├──────────────────────────────────┼──────────────────────────────────────┤\n",
       "│          Valid Minimum           │        No Parameters at limit        │\n",
       "├──────────────────────────────────┼──────────────────────────────────────┤\n",
       "│ Below EDM threshold (goal x 10)  │           Below call limit           │\n",
       "├───────────────┬──────────────────┼───────────┬─────────────┬────────────┤\n",
       "│  Covariance   │     Hesse ok     │ Accurate  │  Pos. def.  │ Not forced │\n",
       "└───────────────┴──────────────────┴───────────┴─────────────┴────────────┘\n",
       "┌───┬────────┬───────────┬───────────┬────────────┬────────────┬─────────┬─────────┬───────┐\n",
       "│   │ Name   │   Value   │ Hesse Err │ Minos Err- │ Minos Err+ │ Limit-  │ Limit+  │ Fixed │\n",
       "├───┼────────┼───────────┼───────────┼────────────┼────────────┼─────────┼─────────┼───────┤\n",
       "│ 0 │ ns     │    950    │    50     │            │            │    0    │         │       │\n",
       "│ 1 │ mu     │   0.498   │   0.005   │            │            │    0    │    1    │       │\n",
       "│ 2 │ sigma  │   0.093   │   0.005   │            │            │    0    │         │       │\n",
       "│ 3 │ nb1    │  1.49e3   │  0.05e3   │            │            │    0    │         │       │\n",
       "│ 4 │ slope1 │   0.81    │   0.07    │            │            │    0    │    2    │       │\n",
       "│ 5 │ nb2    │     1     │     0     │            │            │    0    │         │  yes  │\n",
       "│ 6 │ slope2 │   1e-1    │   0e-1    │            │            │    0    │    2    │  yes  │\n",
       "└───┴────────┴───────────┴───────────┴────────────┴────────────┴─────────┴─────────┴───────┘\n",
       "┌────────┬───────────────────────────────────────────────────────────────────────┐\n",
       "│        │        ns        mu     sigma       nb1    slope1       nb2    slope2 │\n",
       "├────────┼───────────────────────────────────────────────────────────────────────┤\n",
       "│     ns │  2.45e+03   -0.0228     0.108  -1.5e+03    -0.716         0         0 │\n",
       "│     mu │   -0.0228  2.26e-05 -2.87e-06    0.0229 -6.05e-05         0         0 │\n",
       "│  sigma │     0.108 -2.87e-06  2.02e-05    -0.108 -4.48e-05         0         0 │\n",
       "│    nb1 │  -1.5e+03    0.0229    -0.108  2.99e+03     0.715         0         0 │\n",
       "│ slope1 │    -0.716 -6.05e-05 -4.48e-05     0.715   0.00454         0         0 │\n",
       "│    nb2 │         0         0         0         0         0         0         0 │\n",
       "│ slope2 │         0         0         0         0         0         0         0 │\n",
       "└────────┴───────────────────────────────────────────────────────────────────────┘"
      ]
     },
     "execution_count": 197,
     "metadata": {},
     "output_type": "execute_result"
    }
   ],
   "source": [
    "\n",
    "m.values = [p.value for p in m.init_params]\n",
    "m.fixed[\"slope2\"] = True\n",
    "m.migrad()"
   ]
  },
  {
   "cell_type": "markdown",
   "metadata": {},
   "source": [
    "* Another practical example: fit signal+background model to background-only sample\n",
    "* Common in limit setting to compute distribution of test statistic under null hypothesis"
   ]
  },
  {
   "cell_type": "code",
   "execution_count": 198,
   "metadata": {},
   "outputs": [
    {
     "data": {
      "text/html": [
       "<table>\n",
       "    <tr>\n",
       "        <th colspan=\"5\" style=\"text-align:center\" title=\"Minimizer\"> Migrad </th>\n",
       "    </tr>\n",
       "    <tr>\n",
       "        <td colspan=\"2\" style=\"text-align:left\" title=\"Minimum value of function\"> FCN = 33.56 (chi2/ndof = 0.7) </td>\n",
       "        <td colspan=\"3\" style=\"text-align:center\" title=\"Total number of function and (optional) gradient evaluations\"> Nfcn = 679 </td>\n",
       "    </tr>\n",
       "    <tr>\n",
       "        <td colspan=\"2\" style=\"text-align:left\" title=\"Estimated distance to minimum and goal\"> EDM = 9.4e-05 (Goal: 0.0002) </td>\n",
       "        <td colspan=\"3\" style=\"text-align:center\" title=\"Total run time of algorithms\">  </td>\n",
       "    </tr>\n",
       "    <tr>\n",
       "        <td colspan=\"2\" style=\"text-align:center;background-color:#92CCA6;color:black\"> Valid Minimum </td>\n",
       "        <td colspan=\"3\" style=\"text-align:center;background-color:#FFF79A;color:black\"> SOME Parameters at limit </td>\n",
       "    </tr>\n",
       "    <tr>\n",
       "        <td colspan=\"2\" style=\"text-align:center;background-color:#92CCA6;color:black\"> Below EDM threshold (goal x 10) </td>\n",
       "        <td colspan=\"3\" style=\"text-align:center;background-color:#92CCA6;color:black\"> Below call limit </td>\n",
       "    </tr>\n",
       "    <tr>\n",
       "        <td style=\"text-align:center;background-color:#92CCA6;color:black\"> Covariance </td>\n",
       "        <td style=\"text-align:center;background-color:#92CCA6;color:black\"> Hesse ok </td>\n",
       "        <td style=\"text-align:center;background-color:#92CCA6;color:black\" title=\"Is covariance matrix accurate?\"> Accurate </td>\n",
       "        <td style=\"text-align:center;background-color:#92CCA6;color:black\" title=\"Is covariance matrix positive definite?\"> Pos. def. </td>\n",
       "        <td style=\"text-align:center;background-color:#92CCA6;color:black\" title=\"Was positive definiteness enforced by Minuit?\"> Not forced </td>\n",
       "    </tr>\n",
       "</table><table>\n",
       "    <tr>\n",
       "        <td></td>\n",
       "        <th title=\"Variable name\"> Name </th>\n",
       "        <th title=\"Value of parameter\"> Value </th>\n",
       "        <th title=\"Hesse error\"> Hesse Error </th>\n",
       "        <th title=\"Minos lower error\"> Minos Error- </th>\n",
       "        <th title=\"Minos upper error\"> Minos Error+ </th>\n",
       "        <th title=\"Lower limit of the parameter\"> Limit- </th>\n",
       "        <th title=\"Upper limit of the parameter\"> Limit+ </th>\n",
       "        <th title=\"Is the parameter fixed in the fit\"> Fixed </th>\n",
       "    </tr>\n",
       "    <tr>\n",
       "        <th> 0 </th>\n",
       "        <td> ns </td>\n",
       "        <td> 0.1e3 </td>\n",
       "        <td> 0.5e3 </td>\n",
       "        <td>  </td>\n",
       "        <td>  </td>\n",
       "        <td> 0 </td>\n",
       "        <td>  </td>\n",
       "        <td>  </td>\n",
       "    </tr>\n",
       "    <tr>\n",
       "        <th> 1 </th>\n",
       "        <td> mu </td>\n",
       "        <td> 0.75 </td>\n",
       "        <td> 0.18 </td>\n",
       "        <td>  </td>\n",
       "        <td>  </td>\n",
       "        <td> 0 </td>\n",
       "        <td> 1 </td>\n",
       "        <td>  </td>\n",
       "    </tr>\n",
       "    <tr>\n",
       "        <th> 2 </th>\n",
       "        <td> sigma </td>\n",
       "        <td> 0.3 </td>\n",
       "        <td> 0.6 </td>\n",
       "        <td>  </td>\n",
       "        <td>  </td>\n",
       "        <td> 0 </td>\n",
       "        <td>  </td>\n",
       "        <td>  </td>\n",
       "    </tr>\n",
       "    <tr>\n",
       "        <th> 3 </th>\n",
       "        <td> nb </td>\n",
       "        <td> 1.1e3 </td>\n",
       "        <td> 0.6e3 </td>\n",
       "        <td>  </td>\n",
       "        <td>  </td>\n",
       "        <td> 0 </td>\n",
       "        <td>  </td>\n",
       "        <td>  </td>\n",
       "    </tr>\n",
       "    <tr>\n",
       "        <th> 4 </th>\n",
       "        <td> slope </td>\n",
       "        <td> 0.8 </td>\n",
       "        <td> 0.7 </td>\n",
       "        <td>  </td>\n",
       "        <td>  </td>\n",
       "        <td> 0 </td>\n",
       "        <td> 2 </td>\n",
       "        <td>  </td>\n",
       "    </tr>\n",
       "</table><table>\n",
       "    <tr>\n",
       "        <td></td>\n",
       "        <th> ns </th>\n",
       "        <th> mu </th>\n",
       "        <th> sigma </th>\n",
       "        <th> nb </th>\n",
       "        <th> slope </th>\n",
       "    </tr>\n",
       "    <tr>\n",
       "        <th> ns </th>\n",
       "        <td> 3.58e+05 </td>\n",
       "        <td style=\"background-color:rgb(193,193,250);color:black\"> -49 <strong>(-0.441)</strong> </td>\n",
       "        <td style=\"background-color:rgb(250,107,107);color:black\"> 410 <strong>(0.952)</strong> </td>\n",
       "        <td style=\"background-color:rgb(120,120,250);color:black\"> -3.58e+05 <strong>(-0.998)</strong> </td>\n",
       "        <td style=\"background-color:rgb(122,122,250);color:black\"> -472 <strong>(-0.985)</strong> </td>\n",
       "    </tr>\n",
       "    <tr>\n",
       "        <th> mu </th>\n",
       "        <td style=\"background-color:rgb(193,193,250);color:black\"> -49 <strong>(-0.441)</strong> </td>\n",
       "        <td> 0.0345 </td>\n",
       "        <td style=\"background-color:rgb(200,200,250);color:black\"> -0.0517 <strong>(-0.387)</strong> </td>\n",
       "        <td style=\"background-color:rgb(250,184,184);color:black\"> 49 <strong>(0.441)</strong> </td>\n",
       "        <td style=\"background-color:rgb(250,194,194);color:black\"> 0.0553 <strong>(0.372)</strong> </td>\n",
       "    </tr>\n",
       "    <tr>\n",
       "        <th> sigma </th>\n",
       "        <td style=\"background-color:rgb(250,107,107);color:black\"> 410 <strong>(0.952)</strong> </td>\n",
       "        <td style=\"background-color:rgb(200,200,250);color:black\"> -0.0517 <strong>(-0.387)</strong> </td>\n",
       "        <td> 0.518 </td>\n",
       "        <td style=\"background-color:rgb(126,126,250);color:black\"> -410 <strong>(-0.951)</strong> </td>\n",
       "        <td style=\"background-color:rgb(132,132,250);color:black\"> -0.521 <strong>(-0.904)</strong> </td>\n",
       "    </tr>\n",
       "    <tr>\n",
       "        <th> nb </th>\n",
       "        <td style=\"background-color:rgb(120,120,250);color:black\"> -3.58e+05 <strong>(-0.998)</strong> </td>\n",
       "        <td style=\"background-color:rgb(250,184,184);color:black\"> 49 <strong>(0.441)</strong> </td>\n",
       "        <td style=\"background-color:rgb(126,126,250);color:black\"> -410 <strong>(-0.951)</strong> </td>\n",
       "        <td> 3.59e+05 </td>\n",
       "        <td style=\"background-color:rgb(250,102,102);color:black\"> 472 <strong>(0.984)</strong> </td>\n",
       "    </tr>\n",
       "    <tr>\n",
       "        <th> slope </th>\n",
       "        <td style=\"background-color:rgb(122,122,250);color:black\"> -472 <strong>(-0.985)</strong> </td>\n",
       "        <td style=\"background-color:rgb(250,194,194);color:black\"> 0.0553 <strong>(0.372)</strong> </td>\n",
       "        <td style=\"background-color:rgb(132,132,250);color:black\"> -0.521 <strong>(-0.904)</strong> </td>\n",
       "        <td style=\"background-color:rgb(250,102,102);color:black\"> 472 <strong>(0.984)</strong> </td>\n",
       "        <td> 0.64 </td>\n",
       "    </tr>\n",
       "</table>"
      ],
      "text/plain": [
       "┌─────────────────────────────────────────────────────────────────────────┐\n",
       "│                                Migrad                                   │\n",
       "├──────────────────────────────────┬──────────────────────────────────────┤\n",
       "│ FCN = 33.56 (chi2/ndof = 0.7)    │              Nfcn = 679              │\n",
       "│ EDM = 9.4e-05 (Goal: 0.0002)     │                                      │\n",
       "├──────────────────────────────────┼──────────────────────────────────────┤\n",
       "│          Valid Minimum           │       SOME Parameters at limit       │\n",
       "├──────────────────────────────────┼──────────────────────────────────────┤\n",
       "│ Below EDM threshold (goal x 10)  │           Below call limit           │\n",
       "├───────────────┬──────────────────┼───────────┬─────────────┬────────────┤\n",
       "│  Covariance   │     Hesse ok     │ Accurate  │  Pos. def.  │ Not forced │\n",
       "└───────────────┴──────────────────┴───────────┴─────────────┴────────────┘\n",
       "┌───┬───────┬───────────┬───────────┬────────────┬────────────┬─────────┬─────────┬───────┐\n",
       "│   │ Name  │   Value   │ Hesse Err │ Minos Err- │ Minos Err+ │ Limit-  │ Limit+  │ Fixed │\n",
       "├───┼───────┼───────────┼───────────┼────────────┼────────────┼─────────┼─────────┼───────┤\n",
       "│ 0 │ ns    │   0.1e3   │   0.5e3   │            │            │    0    │         │       │\n",
       "│ 1 │ mu    │   0.75    │   0.18    │            │            │    0    │    1    │       │\n",
       "│ 2 │ sigma │    0.3    │    0.6    │            │            │    0    │         │       │\n",
       "│ 3 │ nb    │   1.1e3   │   0.6e3   │            │            │    0    │         │       │\n",
       "│ 4 │ slope │    0.8    │    0.7    │            │            │    0    │    2    │       │\n",
       "└───┴───────┴───────────┴───────────┴────────────┴────────────┴─────────┴─────────┴───────┘\n",
       "┌───────┬───────────────────────────────────────────────────┐\n",
       "│       │        ns        mu     sigma        nb     slope │\n",
       "├───────┼───────────────────────────────────────────────────┤\n",
       "│    ns │  3.58e+05       -49       410 -3.58e+05      -472 │\n",
       "│    mu │       -49    0.0345   -0.0517        49    0.0553 │\n",
       "│ sigma │       410   -0.0517     0.518      -410    -0.521 │\n",
       "│    nb │ -3.58e+05        49      -410  3.59e+05       472 │\n",
       "│ slope │      -472    0.0553    -0.521       472      0.64 │\n",
       "└───────┴───────────────────────────────────────────────────┘"
      ]
     },
     "execution_count": 198,
     "metadata": {},
     "output_type": "execute_result"
    }
   ],
   "source": [
    "def model(x, ns, mu, sigma, nb, slope):\n",
    "    s = ns * truncnorm.cdf(x, *data.range, mu, sigma)\n",
    "    b = nb * truncexpon.cdf(x, *data.range, 0, slope)\n",
    "    return s + b\n",
    "\n",
    "b = rng.exponential(1, size=2000)\n",
    "b = b[b < 1]\n",
    "\n",
    "data.nb = np.histogram(b, bins=data.edges)[0]\n",
    "\n",
    "nll = cost.ExtendedBinnedNLL(data.nb, data.edges, model)\n",
    "\n",
    "m = Minuit(nll, ns=10, mu=0.5, sigma=0.1, nb=200, slope=1)\n",
    "m.limits[\"ns\", \"nb\", \"sigma\"] = (0, None)\n",
    "m.limits[\"mu\"] = (0, 1)\n",
    "m.limits[\"slope\"] = (0, 2)\n",
    "m.migrad()"
   ]
  },
  {
   "cell_type": "code",
   "execution_count": 199,
   "metadata": {},
   "outputs": [
    {
     "data": {
      "image/png": "[encoded data removed]",
      "text/plain": [
       "<Figure size 432x288 with 1 Axes>"
      ]
     },
     "metadata": {
      "needs_background": "light"
     },
     "output_type": "display_data"
    }
   ],
   "source": [
    "nll.visualize(m.values)"
   ]
  },
  {
   "cell_type": "markdown",
   "metadata": {},
   "source": [
    "* Fit converged and looks ok (we are lucky), but is very unstable\n",
    "* Several parameters are almost perfectly correlated, Hessian does not have full rank\n",
    "* Fix this by adding Gaussian penalty terms for `mu` and `sigma`\n",
    "* Penalty terms add external pulls when data does not"
   ]
  },
  {
   "cell_type": "code",
   "execution_count": 200,
   "metadata": {},
   "outputs": [
    {
     "data": {
      "text/html": [
       "<table>\n",
       "    <tr>\n",
       "        <th colspan=\"5\" style=\"text-align:center\" title=\"Minimizer\"> Migrad </th>\n",
       "    </tr>\n",
       "    <tr>\n",
       "        <td colspan=\"2\" style=\"text-align:left\" title=\"Minimum value of function\"> FCN = 33.89 (chi2/ndof = 0.7) </td>\n",
       "        <td colspan=\"3\" style=\"text-align:center\" title=\"Total number of function and (optional) gradient evaluations\"> Nfcn = 732 </td>\n",
       "    </tr>\n",
       "    <tr>\n",
       "        <td colspan=\"2\" style=\"text-align:left\" title=\"Estimated distance to minimum and goal\"> EDM = 6.68e-06 (Goal: 0.0002) </td>\n",
       "        <td colspan=\"3\" style=\"text-align:center\" title=\"Total run time of algorithms\"> time = 0.1 sec </td>\n",
       "    </tr>\n",
       "    <tr>\n",
       "        <td colspan=\"2\" style=\"text-align:center;background-color:#92CCA6;color:black\"> Valid Minimum </td>\n",
       "        <td colspan=\"3\" style=\"text-align:center;background-color:#FFF79A;color:black\"> SOME Parameters at limit </td>\n",
       "    </tr>\n",
       "    <tr>\n",
       "        <td colspan=\"2\" style=\"text-align:center;background-color:#92CCA6;color:black\"> Below EDM threshold (goal x 10) </td>\n",
       "        <td colspan=\"3\" style=\"text-align:center;background-color:#92CCA6;color:black\"> Below call limit </td>\n",
       "    </tr>\n",
       "    <tr>\n",
       "        <td style=\"text-align:center;background-color:#92CCA6;color:black\"> Covariance </td>\n",
       "        <td style=\"text-align:center;background-color:#92CCA6;color:black\"> Hesse ok </td>\n",
       "        <td style=\"text-align:center;background-color:#92CCA6;color:black\" title=\"Is covariance matrix accurate?\"> Accurate </td>\n",
       "        <td style=\"text-align:center;background-color:#92CCA6;color:black\" title=\"Is covariance matrix positive definite?\"> Pos. def. </td>\n",
       "        <td style=\"text-align:center;background-color:#92CCA6;color:black\" title=\"Was positive definiteness enforced by Minuit?\"> Not forced </td>\n",
       "    </tr>\n",
       "</table><table>\n",
       "    <tr>\n",
       "        <td></td>\n",
       "        <th title=\"Variable name\"> Name </th>\n",
       "        <th title=\"Value of parameter\"> Value </th>\n",
       "        <th title=\"Hesse error\"> Hesse Error </th>\n",
       "        <th title=\"Minos lower error\"> Minos Error- </th>\n",
       "        <th title=\"Minos upper error\"> Minos Error+ </th>\n",
       "        <th title=\"Lower limit of the parameter\"> Limit- </th>\n",
       "        <th title=\"Upper limit of the parameter\"> Limit+ </th>\n",
       "        <th title=\"Is the parameter fixed in the fit\"> Fixed </th>\n",
       "    </tr>\n",
       "    <tr>\n",
       "        <th> 0 </th>\n",
       "        <td> ns </td>\n",
       "        <td> 0 </td>\n",
       "        <td> 15 </td>\n",
       "        <td>  </td>\n",
       "        <td>  </td>\n",
       "        <td> 0 </td>\n",
       "        <td>  </td>\n",
       "        <td>  </td>\n",
       "    </tr>\n",
       "    <tr>\n",
       "        <th> 1 </th>\n",
       "        <td> mu </td>\n",
       "        <td> 0.5 </td>\n",
       "        <td> 0.1 </td>\n",
       "        <td>  </td>\n",
       "        <td>  </td>\n",
       "        <td> 0 </td>\n",
       "        <td> 1 </td>\n",
       "        <td>  </td>\n",
       "    </tr>\n",
       "    <tr>\n",
       "        <th> 2 </th>\n",
       "        <td> sigma </td>\n",
       "        <td> 0.10 </td>\n",
       "        <td> 0.05 </td>\n",
       "        <td>  </td>\n",
       "        <td>  </td>\n",
       "        <td> 0 </td>\n",
       "        <td>  </td>\n",
       "        <td>  </td>\n",
       "    </tr>\n",
       "    <tr>\n",
       "        <th> 3 </th>\n",
       "        <td> nb </td>\n",
       "        <td> 1.255e3 </td>\n",
       "        <td> 0.035e3 </td>\n",
       "        <td>  </td>\n",
       "        <td>  </td>\n",
       "        <td> 0 </td>\n",
       "        <td>  </td>\n",
       "        <td>  </td>\n",
       "    </tr>\n",
       "    <tr>\n",
       "        <th> 4 </th>\n",
       "        <td> slope </td>\n",
       "        <td> 1.06 </td>\n",
       "        <td> 0.11 </td>\n",
       "        <td>  </td>\n",
       "        <td>  </td>\n",
       "        <td> 0 </td>\n",
       "        <td> 2 </td>\n",
       "        <td>  </td>\n",
       "    </tr>\n",
       "</table><table>\n",
       "    <tr>\n",
       "        <td></td>\n",
       "        <th> ns </th>\n",
       "        <th> mu </th>\n",
       "        <th> sigma </th>\n",
       "        <th> nb </th>\n",
       "        <th> slope </th>\n",
       "    </tr>\n",
       "    <tr>\n",
       "        <th> ns </th>\n",
       "        <td> 0.217 </td>\n",
       "        <td style=\"background-color:rgb(249,249,250);color:black\"> -0.000413 <strong>(-0.009)</strong> </td>\n",
       "        <td style=\"background-color:rgb(250,249,249);color:black\"> 0.000106 <strong>(0.005)</strong> </td>\n",
       "        <td style=\"background-color:rgb(247,247,250);color:black\"> -0.396 <strong>(-0.024)</strong> </td>\n",
       "        <td style=\"background-color:rgb(249,249,250);color:black\"> -0.000339 <strong>(-0.006)</strong> </td>\n",
       "    </tr>\n",
       "    <tr>\n",
       "        <th> mu </th>\n",
       "        <td style=\"background-color:rgb(249,249,250);color:black\"> -0.000413 <strong>(-0.009)</strong> </td>\n",
       "        <td> 0.01 </td>\n",
       "        <td style=\"background-color:rgb(250,250,250);color:black\"> -1.83e-07 </td>\n",
       "        <td style=\"background-color:rgb(250,250,250);color:black\"> 0.000752 </td>\n",
       "        <td style=\"background-color:rgb(250,250,250);color:black\"> 5.96e-07 </td>\n",
       "    </tr>\n",
       "    <tr>\n",
       "        <th> sigma </th>\n",
       "        <td style=\"background-color:rgb(250,249,249);color:black\"> 0.000106 <strong>(0.005)</strong> </td>\n",
       "        <td style=\"background-color:rgb(250,250,250);color:black\"> -1.83e-07 </td>\n",
       "        <td> 0.0025 </td>\n",
       "        <td style=\"background-color:rgb(250,250,250);color:black\"> -0.000193 </td>\n",
       "        <td style=\"background-color:rgb(250,250,250);color:black\"> -1.65e-07 </td>\n",
       "    </tr>\n",
       "    <tr>\n",
       "        <th> nb </th>\n",
       "        <td style=\"background-color:rgb(247,247,250);color:black\"> -0.396 <strong>(-0.024)</strong> </td>\n",
       "        <td style=\"background-color:rgb(250,250,250);color:black\"> 0.000752 </td>\n",
       "        <td style=\"background-color:rgb(250,250,250);color:black\"> -0.000193 </td>\n",
       "        <td> 1.26e+03 </td>\n",
       "        <td style=\"background-color:rgb(250,250,250);color:black\"> 0.000617 </td>\n",
       "    </tr>\n",
       "    <tr>\n",
       "        <th> slope </th>\n",
       "        <td style=\"background-color:rgb(249,249,250);color:black\"> -0.000339 <strong>(-0.006)</strong> </td>\n",
       "        <td style=\"background-color:rgb(250,250,250);color:black\"> 5.96e-07 </td>\n",
       "        <td style=\"background-color:rgb(250,250,250);color:black\"> -1.65e-07 </td>\n",
       "        <td style=\"background-color:rgb(250,250,250);color:black\"> 0.000617 </td>\n",
       "        <td> 0.0126 </td>\n",
       "    </tr>\n",
       "</table>"
      ],
      "text/plain": [
       "┌─────────────────────────────────────────────────────────────────────────┐\n",
       "│                                Migrad                                   │\n",
       "├──────────────────────────────────┬──────────────────────────────────────┤\n",
       "│ FCN = 33.89 (chi2/ndof = 0.7)    │              Nfcn = 732              │\n",
       "│ EDM = 6.68e-06 (Goal: 0.0002)    │            time = 0.1 sec            │\n",
       "├──────────────────────────────────┼──────────────────────────────────────┤\n",
       "│          Valid Minimum           │       SOME Parameters at limit       │\n",
       "├──────────────────────────────────┼──────────────────────────────────────┤\n",
       "│ Below EDM threshold (goal x 10)  │           Below call limit           │\n",
       "├───────────────┬──────────────────┼───────────┬─────────────┬────────────┤\n",
       "│  Covariance   │     Hesse ok     │ Accurate  │  Pos. def.  │ Not forced │\n",
       "└───────────────┴──────────────────┴───────────┴─────────────┴────────────┘\n",
       "┌───┬───────┬───────────┬───────────┬────────────┬────────────┬─────────┬─────────┬───────┐\n",
       "│   │ Name  │   Value   │ Hesse Err │ Minos Err- │ Minos Err+ │ Limit-  │ Limit+  │ Fixed │\n",
       "├───┼───────┼───────────┼───────────┼────────────┼────────────┼─────────┼─────────┼───────┤\n",
       "│ 0 │ ns    │     0     │    15     │            │            │    0    │         │       │\n",
       "│ 1 │ mu    │    0.5    │    0.1    │            │            │    0    │    1    │       │\n",
       "│ 2 │ sigma │   0.10    │   0.05    │            │            │    0    │         │       │\n",
       "│ 3 │ nb    │  1.255e3  │  0.035e3  │            │            │    0    │         │       │\n",
       "│ 4 │ slope │   1.06    │   0.11    │            │            │    0    │    2    │       │\n",
       "└───┴───────┴───────────┴───────────┴────────────┴────────────┴─────────┴─────────┴───────┘\n",
       "┌───────┬───────────────────────────────────────────────────┐\n",
       "│       │        ns        mu     sigma        nb     slope │\n",
       "├───────┼───────────────────────────────────────────────────┤\n",
       "│    ns │     0.217 -0.000413  0.000106    -0.396 -0.000339 │\n",
       "│    mu │ -0.000413      0.01 -1.83e-07  0.000752  5.96e-07 │\n",
       "│ sigma │  0.000106 -1.83e-07    0.0025 -0.000193 -1.65e-07 │\n",
       "│    nb │    -0.396  0.000752 -0.000193  1.26e+03  0.000617 │\n",
       "│ slope │ -0.000339  5.96e-07 -1.65e-07  0.000617    0.0126 │\n",
       "└───────┴───────────────────────────────────────────────────┘"
      ]
     },
     "execution_count": 200,
     "metadata": {},
     "output_type": "execute_result"
    }
   ],
   "source": [
    "nll_mod = nll + cost.NormalConstraint((\"mu\", \"sigma\"), (0.5, 0.1), (0.1, 0.05))\n",
    "\n",
    "m = Minuit(nll_mod, ns=1, mu=0.5, sigma=0.1, nb=1, slope=1)\n",
    "m.limits[\"ns\", \"nb\", \"sigma\"] = (0, None)\n",
    "m.limits[\"mu\"] = (0, 1)\n",
    "m.limits[\"slope\"] = (0, 2)\n",
    "m.migrad()"
   ]
  },
  {
   "cell_type": "code",
   "execution_count": 201,
   "metadata": {},
   "outputs": [
    {
     "data": {
      "image/png": "[encoded data removed]",
      "text/plain": [
       "<Figure size 432x576 with 2 Axes>"
      ]
     },
     "metadata": {
      "needs_background": "light"
     },
     "output_type": "display_data"
    }
   ],
   "source": [
    "nll_mod.visualize(m.values)"
   ]
  },
  {
   "cell_type": "markdown",
   "metadata": {},
   "source": [
    "* Correlations are now tamed, Hessian does have full rank, and fit is stable\n",
    "* Make sure that penalty is weak if data actually constrains model"
   ]
  },
  {
   "cell_type": "markdown",
   "metadata": {},
   "source": [
    "### Be careful about warning \"Parameter at limit\"\n",
    "\n",
    "* Perfectly fine when fitting signal+background model to background-only\n",
    "  * True value of `ns` is 0, so fitted value may be close to lower limit\n",
    "* In general: keep limits loose enough so that they do not interfere with error calculation"
   ]
  },
  {
   "cell_type": "code",
   "execution_count": 202,
   "metadata": {},
   "outputs": [
    {
     "data": {
      "text/html": [
       "<table>\n",
       "    <tr>\n",
       "        <th colspan=\"5\" style=\"text-align:center\" title=\"Minimizer\"> Migrad </th>\n",
       "    </tr>\n",
       "    <tr>\n",
       "        <td colspan=\"2\" style=\"text-align:left\" title=\"Minimum value of function\"> FCN = 40.6 (chi2/ndof = 0.9) </td>\n",
       "        <td colspan=\"3\" style=\"text-align:center\" title=\"Total number of function and (optional) gradient evaluations\"> Nfcn = 144 </td>\n",
       "    </tr>\n",
       "    <tr>\n",
       "        <td colspan=\"2\" style=\"text-align:left\" title=\"Estimated distance to minimum and goal\"> EDM = 6.35e-05 (Goal: 0.0002) </td>\n",
       "        <td colspan=\"3\" style=\"text-align:center\" title=\"Total run time of algorithms\">  </td>\n",
       "    </tr>\n",
       "    <tr>\n",
       "        <td colspan=\"2\" style=\"text-align:center;background-color:#92CCA6;color:black\"> Valid Minimum </td>\n",
       "        <td colspan=\"3\" style=\"text-align:center;background-color:#92CCA6;color:black\"> No Parameters at limit </td>\n",
       "    </tr>\n",
       "    <tr>\n",
       "        <td colspan=\"2\" style=\"text-align:center;background-color:#92CCA6;color:black\"> Below EDM threshold (goal x 10) </td>\n",
       "        <td colspan=\"3\" style=\"text-align:center;background-color:#92CCA6;color:black\"> Below call limit </td>\n",
       "    </tr>\n",
       "    <tr>\n",
       "        <td style=\"text-align:center;background-color:#92CCA6;color:black\"> Covariance </td>\n",
       "        <td style=\"text-align:center;background-color:#92CCA6;color:black\"> Hesse ok </td>\n",
       "        <td style=\"text-align:center;background-color:#92CCA6;color:black\" title=\"Is covariance matrix accurate?\"> Accurate </td>\n",
       "        <td style=\"text-align:center;background-color:#92CCA6;color:black\" title=\"Is covariance matrix positive definite?\"> Pos. def. </td>\n",
       "        <td style=\"text-align:center;background-color:#92CCA6;color:black\" title=\"Was positive definiteness enforced by Minuit?\"> Not forced </td>\n",
       "    </tr>\n",
       "</table><table>\n",
       "    <tr>\n",
       "        <td></td>\n",
       "        <th title=\"Variable name\"> Name </th>\n",
       "        <th title=\"Value of parameter\"> Value </th>\n",
       "        <th title=\"Hesse error\"> Hesse Error </th>\n",
       "        <th title=\"Minos lower error\"> Minos Error- </th>\n",
       "        <th title=\"Minos upper error\"> Minos Error+ </th>\n",
       "        <th title=\"Lower limit of the parameter\"> Limit- </th>\n",
       "        <th title=\"Upper limit of the parameter\"> Limit+ </th>\n",
       "        <th title=\"Is the parameter fixed in the fit\"> Fixed </th>\n",
       "    </tr>\n",
       "    <tr>\n",
       "        <th> 0 </th>\n",
       "        <td> ns </td>\n",
       "        <td> 950 </td>\n",
       "        <td> 50 </td>\n",
       "        <td>  </td>\n",
       "        <td>  </td>\n",
       "        <td> 0 </td>\n",
       "        <td>  </td>\n",
       "        <td>  </td>\n",
       "    </tr>\n",
       "    <tr>\n",
       "        <th> 1 </th>\n",
       "        <td> mu </td>\n",
       "        <td> 0.498 </td>\n",
       "        <td> 0.005 </td>\n",
       "        <td>  </td>\n",
       "        <td>  </td>\n",
       "        <td> 0 </td>\n",
       "        <td> 1 </td>\n",
       "        <td>  </td>\n",
       "    </tr>\n",
       "    <tr>\n",
       "        <th> 2 </th>\n",
       "        <td> sigma </td>\n",
       "        <td> 0.093 </td>\n",
       "        <td> 0.005 </td>\n",
       "        <td>  </td>\n",
       "        <td>  </td>\n",
       "        <td> 0 </td>\n",
       "        <td>  </td>\n",
       "        <td>  </td>\n",
       "    </tr>\n",
       "    <tr>\n",
       "        <th> 3 </th>\n",
       "        <td> nb </td>\n",
       "        <td> 1.49e3 </td>\n",
       "        <td> 0.05e3 </td>\n",
       "        <td>  </td>\n",
       "        <td>  </td>\n",
       "        <td> 0 </td>\n",
       "        <td>  </td>\n",
       "        <td>  </td>\n",
       "    </tr>\n",
       "    <tr>\n",
       "        <th> 4 </th>\n",
       "        <td> slope </td>\n",
       "        <td> 0.81 </td>\n",
       "        <td> 0.07 </td>\n",
       "        <td>  </td>\n",
       "        <td>  </td>\n",
       "        <td> 0 </td>\n",
       "        <td> 2 </td>\n",
       "        <td>  </td>\n",
       "    </tr>\n",
       "</table><table>\n",
       "    <tr>\n",
       "        <td></td>\n",
       "        <th> ns </th>\n",
       "        <th> mu </th>\n",
       "        <th> sigma </th>\n",
       "        <th> nb </th>\n",
       "        <th> slope </th>\n",
       "    </tr>\n",
       "    <tr>\n",
       "        <th> ns </th>\n",
       "        <td> 2.45e+03 </td>\n",
       "        <td style=\"background-color:rgb(237,237,250);color:black\"> -0.0228 <strong>(-0.097)</strong> </td>\n",
       "        <td style=\"background-color:rgb(250,177,177);color:black\"> 0.108 <strong>(0.484)</strong> </td>\n",
       "        <td style=\"background-color:rgb(178,178,250);color:black\"> -1.5e+03 <strong>(-0.554)</strong> </td>\n",
       "        <td style=\"background-color:rgb(222,222,250);color:black\"> -0.716 <strong>(-0.216)</strong> </td>\n",
       "    </tr>\n",
       "    <tr>\n",
       "        <th> mu </th>\n",
       "        <td style=\"background-color:rgb(237,237,250);color:black\"> -0.0228 <strong>(-0.097)</strong> </td>\n",
       "        <td> 2.26e-05 </td>\n",
       "        <td style=\"background-color:rgb(233,233,250);color:black\"> -2.86e-06 <strong>(-0.134)</strong> </td>\n",
       "        <td style=\"background-color:rgb(250,237,237);color:black\"> 0.0228 <strong>(0.088)</strong> </td>\n",
       "        <td style=\"background-color:rgb(226,226,250);color:black\"> -6.01e-05 <strong>(-0.188)</strong> </td>\n",
       "    </tr>\n",
       "    <tr>\n",
       "        <th> sigma </th>\n",
       "        <td style=\"background-color:rgb(250,177,177);color:black\"> 0.108 <strong>(0.484)</strong> </td>\n",
       "        <td style=\"background-color:rgb(233,233,250);color:black\"> -2.86e-06 <strong>(-0.134)</strong> </td>\n",
       "        <td> 2.02e-05 </td>\n",
       "        <td style=\"background-color:rgb(193,193,250);color:black\"> -0.108 <strong>(-0.438)</strong> </td>\n",
       "        <td style=\"background-color:rgb(231,231,250);color:black\"> -4.48e-05 <strong>(-0.149)</strong> </td>\n",
       "    </tr>\n",
       "    <tr>\n",
       "        <th> nb </th>\n",
       "        <td style=\"background-color:rgb(178,178,250);color:black\"> -1.5e+03 <strong>(-0.554)</strong> </td>\n",
       "        <td style=\"background-color:rgb(250,237,237);color:black\"> 0.0228 <strong>(0.088)</strong> </td>\n",
       "        <td style=\"background-color:rgb(193,193,250);color:black\"> -0.108 <strong>(-0.438)</strong> </td>\n",
       "        <td> 2.98e+03 </td>\n",
       "        <td style=\"background-color:rgb(250,221,221);color:black\"> 0.716 <strong>(0.195)</strong> </td>\n",
       "    </tr>\n",
       "    <tr>\n",
       "        <th> slope </th>\n",
       "        <td style=\"background-color:rgb(222,222,250);color:black\"> -0.716 <strong>(-0.216)</strong> </td>\n",
       "        <td style=\"background-color:rgb(226,226,250);color:black\"> -6.01e-05 <strong>(-0.188)</strong> </td>\n",
       "        <td style=\"background-color:rgb(231,231,250);color:black\"> -4.48e-05 <strong>(-0.149)</strong> </td>\n",
       "        <td style=\"background-color:rgb(250,221,221);color:black\"> 0.716 <strong>(0.195)</strong> </td>\n",
       "        <td> 0.00449 </td>\n",
       "    </tr>\n",
       "</table>"
      ],
      "text/plain": [
       "┌─────────────────────────────────────────────────────────────────────────┐\n",
       "│                                Migrad                                   │\n",
       "├──────────────────────────────────┬──────────────────────────────────────┤\n",
       "│ FCN = 40.6 (chi2/ndof = 0.9)     │              Nfcn = 144              │\n",
       "│ EDM = 6.35e-05 (Goal: 0.0002)    │                                      │\n",
       "├──────────────────────────────────┼──────────────────────────────────────┤\n",
       "│          Valid Minimum           │        No Parameters at limit        │\n",
       "├──────────────────────────────────┼──────────────────────────────────────┤\n",
       "│ Below EDM threshold (goal x 10)  │           Below call limit           │\n",
       "├───────────────┬──────────────────┼───────────┬─────────────┬────────────┤\n",
       "│  Covariance   │     Hesse ok     │ Accurate  │  Pos. def.  │ Not forced │\n",
       "└───────────────┴──────────────────┴───────────┴─────────────┴────────────┘\n",
       "┌───┬───────┬───────────┬───────────┬────────────┬────────────┬─────────┬─────────┬───────┐\n",
       "│   │ Name  │   Value   │ Hesse Err │ Minos Err- │ Minos Err+ │ Limit-  │ Limit+  │ Fixed │\n",
       "├───┼───────┼───────────┼───────────┼────────────┼────────────┼─────────┼─────────┼───────┤\n",
       "│ 0 │ ns    │    950    │    50     │            │            │    0    │         │       │\n",
       "│ 1 │ mu    │   0.498   │   0.005   │            │            │    0    │    1    │       │\n",
       "│ 2 │ sigma │   0.093   │   0.005   │            │            │    0    │         │       │\n",
       "│ 3 │ nb    │  1.49e3   │  0.05e3   │            │            │    0    │         │       │\n",
       "│ 4 │ slope │   0.81    │   0.07    │            │            │    0    │    2    │       │\n",
       "└───┴───────┴───────────┴───────────┴────────────┴────────────┴─────────┴─────────┴───────┘\n",
       "┌───────┬───────────────────────────────────────────────────┐\n",
       "│       │        ns        mu     sigma        nb     slope │\n",
       "├───────┼───────────────────────────────────────────────────┤\n",
       "│    ns │  2.45e+03   -0.0228     0.108  -1.5e+03    -0.716 │\n",
       "│    mu │   -0.0228  2.26e-05 -2.86e-06    0.0228 -6.01e-05 │\n",
       "│ sigma │     0.108 -2.86e-06  2.02e-05    -0.108 -4.48e-05 │\n",
       "│    nb │  -1.5e+03    0.0228    -0.108  2.98e+03     0.716 │\n",
       "│ slope │    -0.716 -6.01e-05 -4.48e-05     0.716   0.00449 │\n",
       "└───────┴───────────────────────────────────────────────────┘"
      ]
     },
     "execution_count": 202,
     "metadata": {},
     "output_type": "execute_result"
    }
   ],
   "source": [
    "def model(x, ns, mu, sigma, nb, slope):\n",
    "    s = ns * truncnorm.cdf(x, *data.range, mu, sigma)\n",
    "    b = nb * truncexpon.cdf(x, *data.range, 0, slope)\n",
    "    return s + b\n",
    "\n",
    "nll = cost.ExtendedBinnedNLL(data.n, data.edges, model)\n",
    "\n",
    "m1 = Minuit(nll, ns=1000, mu=0.5, sigma=0.1, nb=1000, slope=1)\n",
    "m1.limits[\"ns\", \"nb\", \"sigma\"] = (0, None)\n",
    "m1.limits[\"mu\"] = (0, 1)\n",
    "m1.limits[\"slope\"] = (0, 2)\n",
    "m1.migrad()"
   ]
  },
  {
   "cell_type": "code",
   "execution_count": 203,
   "metadata": {},
   "outputs": [
    {
     "data": {
      "text/html": [
       "<table>\n",
       "    <tr>\n",
       "        <th colspan=\"5\" style=\"text-align:center\" title=\"Minimizer\"> Migrad </th>\n",
       "    </tr>\n",
       "    <tr>\n",
       "        <td colspan=\"2\" style=\"text-align:left\" title=\"Minimum value of function\"> FCN = 40.65 (chi2/ndof = 0.9) </td>\n",
       "        <td colspan=\"3\" style=\"text-align:center\" title=\"Total number of function and (optional) gradient evaluations\"> Nfcn = 141 </td>\n",
       "    </tr>\n",
       "    <tr>\n",
       "        <td colspan=\"2\" style=\"text-align:left\" title=\"Estimated distance to minimum and goal\"> EDM = 2.11e-06 (Goal: 0.0002) </td>\n",
       "        <td colspan=\"3\" style=\"text-align:center\" title=\"Total run time of algorithms\">  </td>\n",
       "    </tr>\n",
       "    <tr>\n",
       "        <td colspan=\"2\" style=\"text-align:center;background-color:#92CCA6;color:black\"> Valid Minimum </td>\n",
       "        <td colspan=\"3\" style=\"text-align:center;background-color:#FFF79A;color:black\"> SOME Parameters at limit </td>\n",
       "    </tr>\n",
       "    <tr>\n",
       "        <td colspan=\"2\" style=\"text-align:center;background-color:#92CCA6;color:black\"> Below EDM threshold (goal x 10) </td>\n",
       "        <td colspan=\"3\" style=\"text-align:center;background-color:#92CCA6;color:black\"> Below call limit </td>\n",
       "    </tr>\n",
       "    <tr>\n",
       "        <td style=\"text-align:center;background-color:#92CCA6;color:black\"> Covariance </td>\n",
       "        <td style=\"text-align:center;background-color:#92CCA6;color:black\"> Hesse ok </td>\n",
       "        <td style=\"text-align:center;background-color:#92CCA6;color:black\" title=\"Is covariance matrix accurate?\"> Accurate </td>\n",
       "        <td style=\"text-align:center;background-color:#92CCA6;color:black\" title=\"Is covariance matrix positive definite?\"> Pos. def. </td>\n",
       "        <td style=\"text-align:center;background-color:#92CCA6;color:black\" title=\"Was positive definiteness enforced by Minuit?\"> Not forced </td>\n",
       "    </tr>\n",
       "</table><table>\n",
       "    <tr>\n",
       "        <td></td>\n",
       "        <th title=\"Variable name\"> Name </th>\n",
       "        <th title=\"Value of parameter\"> Value </th>\n",
       "        <th title=\"Hesse error\"> Hesse Error </th>\n",
       "        <th title=\"Minos lower error\"> Minos Error- </th>\n",
       "        <th title=\"Minos upper error\"> Minos Error+ </th>\n",
       "        <th title=\"Lower limit of the parameter\"> Limit- </th>\n",
       "        <th title=\"Upper limit of the parameter\"> Limit+ </th>\n",
       "        <th title=\"Is the parameter fixed in the fit\"> Fixed </th>\n",
       "    </tr>\n",
       "    <tr>\n",
       "        <th> 0 </th>\n",
       "        <td> ns </td>\n",
       "        <td> 955.5 </td>\n",
       "        <td> 1.8 </td>\n",
       "        <td>  </td>\n",
       "        <td>  </td>\n",
       "        <td> 0 </td>\n",
       "        <td>  </td>\n",
       "        <td>  </td>\n",
       "    </tr>\n",
       "    <tr>\n",
       "        <th> 1 </th>\n",
       "        <td> mu </td>\n",
       "        <td> 0.498 </td>\n",
       "        <td> 0.005 </td>\n",
       "        <td>  </td>\n",
       "        <td>  </td>\n",
       "        <td> 0 </td>\n",
       "        <td> 1 </td>\n",
       "        <td>  </td>\n",
       "    </tr>\n",
       "    <tr>\n",
       "        <th> 2 </th>\n",
       "        <td> sigma </td>\n",
       "        <td> 0.0945 </td>\n",
       "        <td> 0.0017 </td>\n",
       "        <td>  </td>\n",
       "        <td>  </td>\n",
       "        <td> 0.0925 </td>\n",
       "        <td> 0.0945 </td>\n",
       "        <td>  </td>\n",
       "    </tr>\n",
       "    <tr>\n",
       "        <th> 3 </th>\n",
       "        <td> nb </td>\n",
       "        <td> 1.4815e3 </td>\n",
       "        <td> 0.0018e3 </td>\n",
       "        <td>  </td>\n",
       "        <td>  </td>\n",
       "        <td> 0 </td>\n",
       "        <td>  </td>\n",
       "        <td>  </td>\n",
       "    </tr>\n",
       "    <tr>\n",
       "        <th> 4 </th>\n",
       "        <td> slope </td>\n",
       "        <td> 0.81 </td>\n",
       "        <td> 0.06 </td>\n",
       "        <td>  </td>\n",
       "        <td>  </td>\n",
       "        <td> 0 </td>\n",
       "        <td> 2 </td>\n",
       "        <td>  </td>\n",
       "    </tr>\n",
       "</table><table>\n",
       "    <tr>\n",
       "        <td></td>\n",
       "        <th> ns </th>\n",
       "        <th> mu </th>\n",
       "        <th> sigma </th>\n",
       "        <th> nb </th>\n",
       "        <th> slope </th>\n",
       "    </tr>\n",
       "    <tr>\n",
       "        <th> ns </th>\n",
       "        <td> 3.33 </td>\n",
       "        <td style=\"background-color:rgb(250,250,250);color:black\"> -1.02e-05 <strong>(-0.001)</strong> </td>\n",
       "        <td style=\"background-color:rgb(250,250,250);color:black\"> 4.54e-11 </td>\n",
       "        <td style=\"background-color:rgb(250,250,250);color:black\"> -0.00281 <strong>(-0.001)</strong> </td>\n",
       "        <td style=\"background-color:rgb(249,249,250);color:black\"> -0.000644 <strong>(-0.005)</strong> </td>\n",
       "    </tr>\n",
       "    <tr>\n",
       "        <th> mu </th>\n",
       "        <td style=\"background-color:rgb(250,250,250);color:black\"> -1.02e-05 <strong>(-0.001)</strong> </td>\n",
       "        <td> 2.24e-05 </td>\n",
       "        <td style=\"background-color:rgb(250,250,250);color:black\"> -7.37e-13 </td>\n",
       "        <td style=\"background-color:rgb(250,250,250);color:black\"> 6.55e-06 </td>\n",
       "        <td style=\"background-color:rgb(221,221,250);color:black\"> -6.95e-05 <strong>(-0.226)</strong> </td>\n",
       "    </tr>\n",
       "    <tr>\n",
       "        <th> sigma </th>\n",
       "        <td style=\"background-color:rgb(250,250,250);color:black\"> 4.54e-11 </td>\n",
       "        <td style=\"background-color:rgb(250,250,250);color:black\"> -7.37e-13 </td>\n",
       "        <td> 1.97e-13 </td>\n",
       "        <td style=\"background-color:rgb(250,250,250);color:black\"> -2.93e-11 </td>\n",
       "        <td style=\"background-color:rgb(250,250,250);color:black\"> -3.28e-12 </td>\n",
       "    </tr>\n",
       "    <tr>\n",
       "        <th> nb </th>\n",
       "        <td style=\"background-color:rgb(250,250,250);color:black\"> -0.00281 <strong>(-0.001)</strong> </td>\n",
       "        <td style=\"background-color:rgb(250,250,250);color:black\"> 6.55e-06 </td>\n",
       "        <td style=\"background-color:rgb(250,250,250);color:black\"> -2.93e-11 </td>\n",
       "        <td> 3.33 </td>\n",
       "        <td style=\"background-color:rgb(250,249,249);color:black\"> 0.000416 <strong>(0.004)</strong> </td>\n",
       "    </tr>\n",
       "    <tr>\n",
       "        <th> slope </th>\n",
       "        <td style=\"background-color:rgb(249,249,250);color:black\"> -0.000644 <strong>(-0.005)</strong> </td>\n",
       "        <td style=\"background-color:rgb(221,221,250);color:black\"> -6.95e-05 <strong>(-0.226)</strong> </td>\n",
       "        <td style=\"background-color:rgb(250,250,250);color:black\"> -3.28e-12 </td>\n",
       "        <td style=\"background-color:rgb(250,249,249);color:black\"> 0.000416 <strong>(0.004)</strong> </td>\n",
       "        <td> 0.00422 </td>\n",
       "    </tr>\n",
       "</table>"
      ],
      "text/plain": [
       "┌─────────────────────────────────────────────────────────────────────────┐\n",
       "│                                Migrad                                   │\n",
       "├──────────────────────────────────┬──────────────────────────────────────┤\n",
       "│ FCN = 40.65 (chi2/ndof = 0.9)    │              Nfcn = 141              │\n",
       "│ EDM = 2.11e-06 (Goal: 0.0002)    │                                      │\n",
       "├──────────────────────────────────┼──────────────────────────────────────┤\n",
       "│          Valid Minimum           │       SOME Parameters at limit       │\n",
       "├──────────────────────────────────┼──────────────────────────────────────┤\n",
       "│ Below EDM threshold (goal x 10)  │           Below call limit           │\n",
       "├───────────────┬──────────────────┼───────────┬─────────────┬────────────┤\n",
       "│  Covariance   │     Hesse ok     │ Accurate  │  Pos. def.  │ Not forced │\n",
       "└───────────────┴──────────────────┴───────────┴─────────────┴────────────┘\n",
       "┌───┬───────┬───────────┬───────────┬────────────┬────────────┬─────────┬─────────┬───────┐\n",
       "│   │ Name  │   Value   │ Hesse Err │ Minos Err- │ Minos Err+ │ Limit-  │ Limit+  │ Fixed │\n",
       "├───┼───────┼───────────┼───────────┼────────────┼────────────┼─────────┼─────────┼───────┤\n",
       "│ 0 │ ns    │   955.5   │    1.8    │            │            │    0    │         │       │\n",
       "│ 1 │ mu    │   0.498   │   0.005   │            │            │    0    │    1    │       │\n",
       "│ 2 │ sigma │  0.0945   │  0.0017   │            │            │0.0924765│0.0944765│       │\n",
       "│ 3 │ nb    │ 1.4815e3  │ 0.0018e3  │            │            │    0    │         │       │\n",
       "│ 4 │ slope │   0.81    │   0.06    │            │            │    0    │    2    │       │\n",
       "└───┴───────┴───────────┴───────────┴────────────┴────────────┴─────────┴─────────┴───────┘\n",
       "┌───────┬───────────────────────────────────────────────────┐\n",
       "│       │        ns        mu     sigma        nb     slope │\n",
       "├───────┼───────────────────────────────────────────────────┤\n",
       "│    ns │      3.33 -1.02e-05  4.54e-11  -0.00281 -0.000644 │\n",
       "│    mu │ -1.02e-05  2.24e-05 -7.37e-13  6.55e-06 -6.95e-05 │\n",
       "│ sigma │  4.54e-11 -7.37e-13  1.97e-13 -2.93e-11 -3.28e-12 │\n",
       "│    nb │  -0.00281  6.55e-06 -2.93e-11      3.33  0.000416 │\n",
       "│ slope │ -0.000644 -6.95e-05 -3.28e-12  0.000416   0.00422 │\n",
       "└───────┴───────────────────────────────────────────────────┘"
      ]
     },
     "execution_count": 203,
     "metadata": {},
     "output_type": "execute_result"
    }
   ],
   "source": [
    "m2 = Minuit(nll, ns=1000, mu=0.5, sigma=0.1, nb=1000, slope=1)\n",
    "m2.limits[\"ns\", \"nb\"] = (0, None)\n",
    "# set tight limits around previously fitted value of sigma\n",
    "m2.limits[\"sigma\"] = m1.values[\"sigma\"] - 1e-3, m1.values[\"sigma\"] + 1e-3\n",
    "m2.limits[\"mu\"] = (0, 1)\n",
    "m2.limits[\"slope\"] = (0, 2)\n",
    "m2.migrad()"
   ]
  },
  {
   "cell_type": "markdown",
   "metadata": {},
   "source": [
    "* Minuit now warns about \"Some parameters at limit\"\n",
    "* Fit got slightly worse (FCN 40.65 > 40.6) and error of `sigma` is now too small\n",
    "* But also errors of other parameters, especially `ns`, are artificially reduced 🙁\n",
    "* Do not blindly trust Hesse errors when some parameters are at limit"
   ]
  },
  {
   "cell_type": "markdown",
   "metadata": {},
   "source": [
    "## **New**: Interactive fitting ⚡️\n",
    "\n",
    "* [ipywidgets](https://ipywidgets.readthedocs.io/en/latest/index.html) package allows one to generate interactive widgets inside Jupyter\n",
    "  * `ipywidgets.interact` offers an easy way to visualize how a function reacts to parameter changes\n",
    "* iminuit offers a similar feature to enable an interactive fitting"
   ]
  },
  {
   "cell_type": "markdown",
   "metadata": {},
   "source": [
    "Useful\n",
    "* To understand what is going on\n",
    "* To find starting values\n",
    "* For teaching"
   ]
  },
  {
   "cell_type": "code",
   "execution_count": 204,
   "metadata": {},
   "outputs": [
    {
     "data": {
      "application/vnd.jupyter.widget-view+json": {
       "model_id": "7e23792f532f4290970a04494ed12a9d",
       "version_major": 2,
       "version_minor": 0
      },
      "text/plain": [
       "HBox(children=(Output(), VBox(children=(HBox(children=(Button(description='Fit', style=ButtonStyle()), ToggleB…"
      ]
     },
     "metadata": {},
     "output_type": "display_data"
    }
   ],
   "source": [
    "m1.interactive()"
   ]
  },
  {
   "cell_type": "markdown",
   "metadata": {},
   "source": [
    "## **New**: Template fits ⚡️\n",
    "\n",
    "* We often fit signal+background mixtures\n",
    "* Sometimes you do not have a parametric model for signal or background\n",
    "* If simulation is trustworthy, can generate templates for signal or background from simulation\n",
    "* But simulation sample is finite, need to include that uncertainty!"
   ]
  },
  {
   "cell_type": "markdown",
   "metadata": {},
   "source": [
    "* [Barlow, Beeston, Comput.Phys.Commun. 77 (1993) 219-228](https://inspirehep.net/literature/35053)\n",
    "  * Exact likelihood for this problem\n",
    "  * Somewhat expensive solve exact likelihood\n",
    "  * Very limited support for weighted simulation\n",
    "  * [TFractionFitter in ROOT](https://root.cern.ch/doc/master/classTFractionFitter.html)"
   ]
  },
  {
   "cell_type": "markdown",
   "metadata": {},
   "source": [
    "* [C.A. Argüelles, A. Schneider, T. Yuan, JHEP 06 (2019) 030, arXiv:1901.04645 [physics.data-an]](https://inspirehep.net/literature/1713790)\n",
    "  * Alternative Bayesian approach\n",
    "  * Full support for weighted simulation\n",
    "  * Faster fits that with TFractionFitter"
   ]
  },
  {
   "cell_type": "markdown",
   "metadata": {},
   "source": [
    "\n",
    "* [H.P. Dembinski, A. Abdelmotteleb, arXiv:2206.12346, submitted to JHEP](https://arxiv.org/abs/2206.12346)\n",
    "  * Fast approximation to exact likelihood\n",
    "  * Full support for weighted simulation and data"
   ]
  },
  {
   "cell_type": "code",
   "execution_count": 205,
   "metadata": {},
   "outputs": [
    {
     "name": "stdout",
     "output_type": "stream",
     "text": [
      "\u001b[0;31mInit signature:\u001b[0m\n",
      "\u001b[0mcost\u001b[0m\u001b[0;34m.\u001b[0m\u001b[0mBarlowBeestonLite\u001b[0m\u001b[0;34m(\u001b[0m\u001b[0;34m\u001b[0m\n",
      "\u001b[0;34m\u001b[0m    \u001b[0mn\u001b[0m\u001b[0;34m:\u001b[0m \u001b[0mSequence\u001b[0m\u001b[0;34m,\u001b[0m\u001b[0;34m\u001b[0m\n",
      "\u001b[0;34m\u001b[0m    \u001b[0mxe\u001b[0m\u001b[0;34m:\u001b[0m \u001b[0mSequence\u001b[0m\u001b[0;34m,\u001b[0m\u001b[0;34m\u001b[0m\n",
      "\u001b[0;34m\u001b[0m    \u001b[0mtemplates\u001b[0m\u001b[0;34m:\u001b[0m \u001b[0mSequence\u001b[0m\u001b[0;34m[\u001b[0m\u001b[0mSequence\u001b[0m\u001b[0;34m]\u001b[0m\u001b[0;34m,\u001b[0m\u001b[0;34m\u001b[0m\n",
      "\u001b[0;34m\u001b[0m    \u001b[0mname\u001b[0m\u001b[0;34m:\u001b[0m \u001b[0mCollection\u001b[0m\u001b[0;34m[\u001b[0m\u001b[0mstr\u001b[0m\u001b[0;34m]\u001b[0m \u001b[0;34m=\u001b[0m \u001b[0;32mNone\u001b[0m\u001b[0;34m,\u001b[0m\u001b[0;34m\u001b[0m\n",
      "\u001b[0;34m\u001b[0m    \u001b[0mverbose\u001b[0m\u001b[0;34m:\u001b[0m \u001b[0mint\u001b[0m \u001b[0;34m=\u001b[0m \u001b[0;36m0\u001b[0m\u001b[0;34m,\u001b[0m\u001b[0;34m\u001b[0m\n",
      "\u001b[0;34m\u001b[0m    \u001b[0mmethod\u001b[0m\u001b[0;34m:\u001b[0m \u001b[0mstr\u001b[0m \u001b[0;34m=\u001b[0m \u001b[0;34m'hpd'\u001b[0m\u001b[0;34m,\u001b[0m\u001b[0;34m\u001b[0m\n",
      "\u001b[0;34m\u001b[0m\u001b[0;34m)\u001b[0m\u001b[0;34m\u001b[0m\u001b[0;34m\u001b[0m\u001b[0m\n",
      "\u001b[0;31mDocstring:\u001b[0m     \n",
      "Binned cost function for a template fit with uncertainties on the template.\n",
      "\n",
      "Compared to the original Beeston-Barlow method, the lite methods uses one nuisance\n",
      "parameter per bin instead of one nuisance parameter per component per bin, which\n",
      "is an approximation. This class offers two different lite methods. The default\n",
      "method used is the one which performs better on average.\n",
      "\n",
      "The cost function works for both weighted data and weighted templates. The cost\n",
      "function assumes that the weights are independent of the data. This is not the\n",
      "case for sWeights, and the uncertaintes for results obtained with sWeights will\n",
      "only be approximately correct, see C. Langenbruch, Eur.Phys.J.C 82 (2022) 5, 393.\n",
      "\n",
      "Barlow and Beeston, Comput.Phys.Commun. 77 (1993) 219-228,\n",
      "https://doi.org/10.1016/0010-4655(93)90005-W)\n",
      "J.S. Conway, PHYSTAT 2011, https://doi.org/10.48550/arXiv.1103.0354\n",
      "\u001b[0;31mInit docstring:\u001b[0m\n",
      "Initialize cost function with data and model.\n",
      "\n",
      "Parameters\n",
      "----------\n",
      "n : array-like\n",
      "    Histogram counts. If this is an array with dimension D+1, where D is the\n",
      "    number of histogram axes, then the last dimension must have two elements\n",
      "    and is interpreted as pairs of sum of weights and sum of weights squared.\n",
      "xe : array-like or collection of array-like\n",
      "    Bin edge locations, must be len(n) + 1, where n is the number of bins.\n",
      "    If the histogram has more than one axis, xe must be a collection of the\n",
      "    bin edge locations along each axis.\n",
      "templates : collection of array-like\n",
      "    Collection of arrays, which contain the histogram counts of each template.\n",
      "    The template histograms must use the same axes as the data histogram. If\n",
      "    the counts are represented by an array with dimension D+1, where D is the\n",
      "    number of histogram axes, then the last dimension must have two elements\n",
      "    and is interpreted as pairs of sum of weights and sum of weights squared.\n",
      "name : collection of str, optional\n",
      "    Optional name for the yield of each template. Must have length K.\n",
      "verbose : int, optional\n",
      "    Verbosity level. 0: is no output (default).\n",
      "    1: print current args and negative log-likelihood value.\n",
      "method : {\"jsc\", \"hpd\"}, optional\n",
      "    Which version of the lite method to use. jsc: Method developed by\n",
      "    J.S. Conway, PHYSTAT 2011, https://doi.org/10.48550/arXiv.1103.0354.\n",
      "    hpd: Method developed by H.P. Dembinski. Default is \"hpd\", which seems to\n",
      "    perform slightly better on average. The default may change in the future\n",
      "    when more practical experience with both method is gained. Set this\n",
      "    parameter explicitly to ensure that a particular method is used now and\n",
      "    in the future.\n",
      "\u001b[0;31mFile:\u001b[0m           /usr/local/lib/python3.8/site-packages/iminuit/cost.py\n",
      "\u001b[0;31mType:\u001b[0m           ABCMeta\n",
      "\u001b[0;31mSubclasses:\u001b[0m     \n"
     ]
    }
   ],
   "source": [
    "cost.BarlowBeestonLite?"
   ]
  },
  {
   "cell_type": "code",
   "execution_count": 206,
   "metadata": {},
   "outputs": [
    {
     "data": {
      "text/html": [
       "<table>\n",
       "    <tr>\n",
       "        <th colspan=\"5\" style=\"text-align:center\" title=\"Minimizer\"> Migrad </th>\n",
       "    </tr>\n",
       "    <tr>\n",
       "        <td colspan=\"2\" style=\"text-align:left\" title=\"Minimum value of function\"> FCN = 31.92 (chi2/ndof = 0.7) </td>\n",
       "        <td colspan=\"3\" style=\"text-align:center\" title=\"Total number of function and (optional) gradient evaluations\"> Nfcn = 113 </td>\n",
       "    </tr>\n",
       "    <tr>\n",
       "        <td colspan=\"2\" style=\"text-align:left\" title=\"Estimated distance to minimum and goal\"> EDM = 1.8e-06 (Goal: 0.0002) </td>\n",
       "        <td colspan=\"3\" style=\"text-align:center\" title=\"Total run time of algorithms\">  </td>\n",
       "    </tr>\n",
       "    <tr>\n",
       "        <td colspan=\"2\" style=\"text-align:center;background-color:#92CCA6;color:black\"> Valid Minimum </td>\n",
       "        <td colspan=\"3\" style=\"text-align:center;background-color:#92CCA6;color:black\"> No Parameters at limit </td>\n",
       "    </tr>\n",
       "    <tr>\n",
       "        <td colspan=\"2\" style=\"text-align:center;background-color:#92CCA6;color:black\"> Below EDM threshold (goal x 10) </td>\n",
       "        <td colspan=\"3\" style=\"text-align:center;background-color:#92CCA6;color:black\"> Below call limit </td>\n",
       "    </tr>\n",
       "    <tr>\n",
       "        <td style=\"text-align:center;background-color:#92CCA6;color:black\"> Covariance </td>\n",
       "        <td style=\"text-align:center;background-color:#92CCA6;color:black\"> Hesse ok </td>\n",
       "        <td style=\"text-align:center;background-color:#92CCA6;color:black\" title=\"Is covariance matrix accurate?\"> Accurate </td>\n",
       "        <td style=\"text-align:center;background-color:#92CCA6;color:black\" title=\"Is covariance matrix positive definite?\"> Pos. def. </td>\n",
       "        <td style=\"text-align:center;background-color:#92CCA6;color:black\" title=\"Was positive definiteness enforced by Minuit?\"> Not forced </td>\n",
       "    </tr>\n",
       "</table><table>\n",
       "    <tr>\n",
       "        <td></td>\n",
       "        <th title=\"Variable name\"> Name </th>\n",
       "        <th title=\"Value of parameter\"> Value </th>\n",
       "        <th title=\"Hesse error\"> Hesse Error </th>\n",
       "        <th title=\"Minos lower error\"> Minos Error- </th>\n",
       "        <th title=\"Minos upper error\"> Minos Error+ </th>\n",
       "        <th title=\"Lower limit of the parameter\"> Limit- </th>\n",
       "        <th title=\"Upper limit of the parameter\"> Limit+ </th>\n",
       "        <th title=\"Is the parameter fixed in the fit\"> Fixed </th>\n",
       "    </tr>\n",
       "    <tr>\n",
       "        <th> 0 </th>\n",
       "        <td> ns </td>\n",
       "        <td> 990 </td>\n",
       "        <td> 70 </td>\n",
       "        <td>  </td>\n",
       "        <td>  </td>\n",
       "        <td>  </td>\n",
       "        <td>  </td>\n",
       "        <td>  </td>\n",
       "    </tr>\n",
       "    <tr>\n",
       "        <th> 1 </th>\n",
       "        <td> nb </td>\n",
       "        <td> 1.45e3 </td>\n",
       "        <td> 0.09e3 </td>\n",
       "        <td>  </td>\n",
       "        <td>  </td>\n",
       "        <td>  </td>\n",
       "        <td>  </td>\n",
       "        <td>  </td>\n",
       "    </tr>\n",
       "</table><table>\n",
       "    <tr>\n",
       "        <td></td>\n",
       "        <th> ns </th>\n",
       "        <th> nb </th>\n",
       "    </tr>\n",
       "    <tr>\n",
       "        <th> ns </th>\n",
       "        <td> 4.58e+03 </td>\n",
       "        <td style=\"background-color:rgb(192,192,250);color:black\"> -2.62e+03 <strong>(-0.448)</strong> </td>\n",
       "    </tr>\n",
       "    <tr>\n",
       "        <th> nb </th>\n",
       "        <td style=\"background-color:rgb(192,192,250);color:black\"> -2.62e+03 <strong>(-0.448)</strong> </td>\n",
       "        <td> 7.47e+03 </td>\n",
       "    </tr>\n",
       "</table>"
      ],
      "text/plain": [
       "┌─────────────────────────────────────────────────────────────────────────┐\n",
       "│                                Migrad                                   │\n",
       "├──────────────────────────────────┬──────────────────────────────────────┤\n",
       "│ FCN = 31.92 (chi2/ndof = 0.7)    │              Nfcn = 113              │\n",
       "│ EDM = 1.8e-06 (Goal: 0.0002)     │                                      │\n",
       "├──────────────────────────────────┼──────────────────────────────────────┤\n",
       "│          Valid Minimum           │        No Parameters at limit        │\n",
       "├──────────────────────────────────┼──────────────────────────────────────┤\n",
       "│ Below EDM threshold (goal x 10)  │           Below call limit           │\n",
       "├───────────────┬──────────────────┼───────────┬─────────────┬────────────┤\n",
       "│  Covariance   │     Hesse ok     │ Accurate  │  Pos. def.  │ Not forced │\n",
       "└───────────────┴──────────────────┴───────────┴─────────────┴────────────┘\n",
       "┌───┬──────┬───────────┬───────────┬────────────┬────────────┬─────────┬─────────┬───────┐\n",
       "│   │ Name │   Value   │ Hesse Err │ Minos Err- │ Minos Err+ │ Limit-  │ Limit+  │ Fixed │\n",
       "├───┼──────┼───────────┼───────────┼────────────┼────────────┼─────────┼─────────┼───────┤\n",
       "│ 0 │ ns   │    990    │    70     │            │            │         │         │       │\n",
       "│ 1 │ nb   │  1.45e3   │  0.09e3   │            │            │         │         │       │\n",
       "└───┴──────┴───────────┴───────────┴────────────┴────────────┴─────────┴─────────┴───────┘\n",
       "┌────┬─────────────────────┐\n",
       "│    │        ns        nb │\n",
       "├────┼─────────────────────┤\n",
       "│ ns │  4.58e+03 -2.62e+03 │\n",
       "│ nb │ -2.62e+03  7.47e+03 │\n",
       "└────┴─────────────────────┘"
      ]
     },
     "execution_count": 206,
     "metadata": {},
     "output_type": "execute_result"
    }
   ],
   "source": [
    "rng = np.random.default_rng(1)\n",
    "\n",
    "# generate templates from \"simulation\"\n",
    "nb = np.histogram(rng.normal(0.5, 0.1, size=1000), bins=data.edges)[0]\n",
    "ns = np.histogram(rng.exponential(1, size=1000), bins=data.edges)[0]\n",
    "\n",
    "nll = cost.BarlowBeestonLite(data.n,  data.edges, (nb, ns), name=(\"ns\", \"nb\"))\n",
    "\n",
    "m = Minuit(nll, ns=1, nb=1)\n",
    "m.migrad()"
   ]
  },
  {
   "cell_type": "markdown",
   "metadata": {},
   "source": [
    "* Error on `ns` larger compared to fitting parametric model (70 vs 50), since uncertainty of template not negligible "
   ]
  },
  {
   "cell_type": "code",
   "execution_count": 207,
   "metadata": {},
   "outputs": [
    {
     "data": {
      "image/png": "[encoded data removed]",
      "text/plain": [
       "<Figure size 432x288 with 1 Axes>"
      ]
     },
     "metadata": {
      "needs_background": "light"
     },
     "output_type": "display_data"
    }
   ],
   "source": [
    "nll.visualize(m.values)"
   ]
  },
  {
   "cell_type": "code",
   "execution_count": 208,
   "metadata": {},
   "outputs": [
    {
     "data": {
      "application/vnd.jupyter.widget-view+json": {
       "model_id": "c8dc8bd1235143b8b89c762b4591717f",
       "version_major": 2,
       "version_minor": 0
      },
      "text/plain": [
       "HBox(children=(Output(), VBox(children=(HBox(children=(Button(description='Fit', style=ButtonStyle()), ToggleB…"
      ]
     },
     "metadata": {},
     "output_type": "display_data"
    }
   ],
   "source": [
    "m.interactive()"
   ]
  },
  {
   "cell_type": "markdown",
   "metadata": {},
   "source": [
    "* `BarlowBeestonLite` also supports higher dimensional data (2D, 3D, ...)\n",
    "* Weighted data and weighted simulation are supported\n",
    "* chi2/ndof is computed automatically\n",
    "* Performance comparable to exact Barlow-Beeston method"
   ]
  },
  {
   "cell_type": "markdown",
   "metadata": {},
   "source": [
    "* Warning: still need to estimate systematic uncertainties of simulation deviating from data\n",
    "* No automatic way in iminuit or elsewhere to handle this"
   ]
  },
  {
   "cell_type": "markdown",
   "metadata": {},
   "source": [
    "## Want to learn more?\n",
    "\n",
    "* iminuit's comprehensive docs are full of [tutorials](https://iminuit.readthedocs.io/en/stable/tutorials.html) and [practical studies around fitting](https://iminuit.readthedocs.io/en/stable/studies.html)"
   ]
  }
 ],
 "metadata": {
  "kernelspec": {
   "display_name": "Global",
   "language": "python",
   "name": "global"
  },
  "language_info": {
   "codemirror_mode": {
    "name": "ipython",
    "version": 3
   },
   "file_extension": ".py",
   "mimetype": "text/x-python",
   "name": "python",
   "nbconvert_exporter": "python",
   "pygments_lexer": "ipython3",
   "version": "3.8.13"
  },
  "vscode": {
   "interpreter": {
    "hash": "aee8b7b246df8f9039afb4144a1f6fd8d2ca17a180786b69acc140d282b71a49"
   }
  }
 },
 "nbformat": 4,
 "nbformat_minor": 4
}
